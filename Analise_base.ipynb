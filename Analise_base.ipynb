{
 "cells": [
  {
   "cell_type": "markdown",
   "id": "b0e805a4",
   "metadata": {},
   "source": [
    "\n",
    "\n",
    "<div>\n",
    "  <img src=\"imagens/logo_jr.png\" width=\"100\" height=\"75\" style=\"float:right\">\n",
    "  <h1>Código para analise da base de dados</h1>\n",
    "    <p>Autores: Luigi Orlandi, Pedro Mahfuz, Theo Decourt</p>\n",
    "</div>"
   ]
  },
  {
   "cell_type": "code",
   "execution_count": 1,
   "id": "54f76acb",
   "metadata": {},
   "outputs": [],
   "source": [
    "# Importando Bibliotecas\n",
    "import pathlib\n",
    "import pandas as pd\n",
    "import matplotlib.pyplot as plt\n",
    "import seaborn as sns\n",
    "import numpy as np\n",
    "from sklearn.datasets import load_iris\n",
    "from sklearn.cluster import KMeans"
   ]
  },
  {
   "cell_type": "markdown",
   "id": "5a05c34d",
   "metadata": {},
   "source": [
    "# Abrindo a base de dados\n"
   ]
  },
  {
   "cell_type": "code",
   "execution_count": 2,
   "id": "c2290abc",
   "metadata": {},
   "outputs": [],
   "source": [
    "# Leitura do arquivo .xlsx\n",
    "filename = pathlib.Path.cwd() / 'Base_MindMiners.xlsx'\n",
    "db = pd.read_excel('Base_MindMiners.xlsx')\n",
    "\n",
    "# Segunda tabela com respostas\n",
    "df = pd.read_excel('Base_MindMiners.xlsx', sheet_name='Pesquisa-Respostas')"
   ]
  },
  {
   "cell_type": "markdown",
   "id": "0732f4af",
   "metadata": {},
   "source": [
    "# Limpeza da base de dados"
   ]
  },
  {
   "cell_type": "markdown",
   "id": "b24e6845",
   "metadata": {},
   "source": [
    "### Removendo colunas vazias e normalizando indexes"
   ]
  },
  {
   "cell_type": "code",
   "execution_count": 7,
   "id": "e3251574",
   "metadata": {},
   "outputs": [],
   "source": [
    "# Remover as colunas com índices 'Unnamed'\n",
    "df = df.drop(columns=[coluna for coluna in df.columns if coluna.startswith('Unnamed:')])"
   ]
  },
  {
   "cell_type": "code",
   "execution_count": 9,
   "id": "5fa71b3b",
   "metadata": {},
   "outputs": [],
   "source": [
    "# Usando a função split para remover espaços nos indexes das colunas\n",
    "df.columns = df.columns.str.strip()"
   ]
  },
  {
   "cell_type": "code",
   "execution_count": 10,
   "id": "f6ac0845",
   "metadata": {},
   "outputs": [
    {
     "name": "stderr",
     "output_type": "stream",
     "text": [
      "C:\\Users\\Pedro Mahfuz\\AppData\\Local\\Temp\\ipykernel_14584\\2669726975.py:2: FutureWarning: The default value of regex will change from True to False in a future version. In addition, single character regular expressions will *not* be treated as literal strings when regex=True.\n",
      "  df.columns = df.columns.str.replace(\".\", \"\")\n"
     ]
    }
   ],
   "source": [
    "# # Usando a função str.replace para remover \".\" dos indexes das colunas\n",
    "df.columns = df.columns.str.replace(\".\", \"\")"
   ]
  },
  {
   "cell_type": "markdown",
   "id": "17933869",
   "metadata": {},
   "source": [
    "### Removendo conteudo indesejado das colunas\n"
   ]
  },
  {
   "cell_type": "code",
   "execution_count": 11,
   "id": "3e7eb97c",
   "metadata": {},
   "outputs": [],
   "source": [
    "# Lista com todas as colunas\n",
    "nomes = list(df)"
   ]
  },
  {
   "cell_type": "code",
   "execution_count": 12,
   "id": "919cd54f",
   "metadata": {},
   "outputs": [],
   "source": [
    "# Primeria coluna\n",
    "df.loc[~df.loc[:, nomes[0]].isin(range(1,6)), nomes[0]] = None"
   ]
  },
  {
   "cell_type": "code",
   "execution_count": 13,
   "id": "3dc609df",
   "metadata": {},
   "outputs": [],
   "source": [
    "# Seguna coluna\n",
    "df.loc[~df.loc[:, nomes[1]].isin(range(1,9)), nomes[1]] = None"
   ]
  },
  {
   "cell_type": "code",
   "execution_count": 14,
   "id": "225c7e7f",
   "metadata": {},
   "outputs": [],
   "source": [
    "# Coluna 3 a 58\n",
    "for coluna in range(2, 58):\n",
    "    df.loc[~df.loc[:, nomes[coluna]].isin(range(1,8)), nomes[coluna]] = None"
   ]
  },
  {
   "cell_type": "code",
   "execution_count": 15,
   "id": "f45c5fd7",
   "metadata": {},
   "outputs": [],
   "source": [
    "# Coluna Qesc\n",
    "df.loc[~df.loc[:, nomes[58]].isin(range(1,7)), nomes[58]] = None"
   ]
  },
  {
   "cell_type": "code",
   "execution_count": 16,
   "id": "a55af90c",
   "metadata": {},
   "outputs": [],
   "source": [
    "# Coluna Qnat\n",
    "df.loc[~df.loc[:, nomes[60]].isin(range(0,6)), nomes[60]] = None"
   ]
  },
  {
   "cell_type": "code",
   "execution_count": 17,
   "id": "7c28427f",
   "metadata": {},
   "outputs": [],
   "source": [
    "# Coluna Qcama\n",
    "df.loc[~df.loc[:, nomes[62]].isin(range(0,5)), nomes[62]] = None"
   ]
  },
  {
   "cell_type": "code",
   "execution_count": 18,
   "id": "adf0a4e0",
   "metadata": {},
   "outputs": [],
   "source": [
    "# Coluna Qche\n",
    "lista_quinta_feira = [\"Quinta-Feira\", \"Quinta Feira\", \"quinta-Feira\", \"quintaFeira\"]\n",
    "df.loc[df.loc[:, nomes[64]].isin(lista_quinta_feira), nomes[64]] = 'Quinta-Feira'"
   ]
  },
  {
   "cell_type": "markdown",
   "id": "df75f4a8",
   "metadata": {},
   "source": [
    "# Primeira análise dos dados"
   ]
  },
  {
   "cell_type": "markdown",
   "id": "a3819eae",
   "metadata": {},
   "source": [
    "### Preparando o banco de dados para a análise exploratória"
   ]
  },
  {
   "cell_type": "code",
   "execution_count": 59,
   "id": "b8331258",
   "metadata": {},
   "outputs": [],
   "source": [
    "# Criando uma copia do banco de dados original para fazer a análise exploratória\n",
    "df_ae = df.copy()"
   ]
  },
  {
   "cell_type": "code",
   "execution_count": 60,
   "id": "0e6e53a1",
   "metadata": {},
   "outputs": [],
   "source": [
    "# Frequência de viagem\n",
    "df_ae['P1'] = df_ae['P1'].astype('category')\n",
    "df_ae['P1'].cat.categories = ['1 a 3', '4 a 6', '7 a 10', '10+', 'Não Viaja']\n",
    "\n",
    "# Faixa etaria\n",
    "df_ae['Qid'] = df_ae['Qid'].astype('category')\n",
    "df_ae['Qid'].cat.categories = ['18-', '18 a 24', '25 a 34', '35 a 44', '45 a 54', '55+']\n",
    "\n",
    "# Estadia media\n",
    "df_ae['Qesc'] = df_ae['Qesc'].astype(float)\n",
    "\n",
    "# Numero de filhos\n",
    "df_ae['Qnat'] = df_ae['Qnat'].astype(float)\n",
    "\n",
    "# Regiao\n",
    "df_ae['Qreg'] = df_ae['Qreg'].astype('category')\n",
    "df_ae['Qreg'].cat.categories = ['Sudeste', 'Sul', 'Centro Oeste', 'Nordeste', 'Norte']\n",
    "\n",
    "# Gênero\n",
    "df_ae['Qgen'] = df_ae['Qgen'].astype('category')\n",
    "df_ae['Qgen'].cat.categories = ['Masculino', 'Feminino']\n",
    "\n",
    "# Número de filhos\n",
    "df_ae['Qnat'] = df_ae['Qnat'].astype(float)\n",
    "\n",
    "# Motivo viagem\n",
    "df_ae['P2'] = df_ae['P2'].astype('category')\n",
    "df_ae['P2'].cat.categories = ['Visitar amigos', 'Visitar familia', 'Lazer', 'Pesquisa Ciêntifica', 'Trabalho', 'Viagem gastronomica', 'Desconectar'] \n"
   ]
  },
  {
   "cell_type": "code",
   "execution_count": 23,
   "id": "0b82c347",
   "metadata": {},
   "outputs": [],
   "source": [
    "# Separamos as colunas que acreditamos serem as mais importantes para definir o público-alvo¶\n",
    "# Exclamações indicam as variáveis que consideramos mais importantes\n",
    "\n",
    "freq_de_viagem = df_ae['P1'] # qualitativa   !!!!!\n",
    "faixa_etaria = df_ae['Qid'] # qualitativa \n",
    "nivel_escolaridade = df_ae['Qesc'] # qualitativa\n",
    "motivo_viagem = df_ae['P2'] # qualitativa    !!!!!!\n",
    "classe = df_ae['Qclasse'] # qualitativa\n",
    "genero = df_ae['Qgen'] # qualitativa\n",
    "estado_civil = df_ae['Qciv'] # qualitativa\n",
    "filhos = df_ae['Qnat'] # quantitativa\n",
    "estadia_media = df_ae['Qest'] # quantitativa   !!!!!!\n",
    "regiao = df_ae['Qreg'] # qualitativa\n",
    "\n",
    "#quantitativa e qualitativa --> histograma e boxplot\n",
    "#qualitativa e qualitativa --> tabela cruzada e grafico de barra\n",
    "#quantitativa e quantitativa --> gráfico de dispersão"
   ]
  },
  {
   "cell_type": "markdown",
   "id": "0c14773c",
   "metadata": {},
   "source": [
    "# Análise exploratória\n",
    "<p> Nossa ideia inicial é ver qual é o \"tipo de pessoa\" que viaja com mais frequência. Além disso, fizemos algumas outras análises para obter informações importantes a respeito do banco de dados. </p>"
   ]
  },
  {
   "cell_type": "code",
   "execution_count": 24,
   "id": "1cd90e43",
   "metadata": {},
   "outputs": [],
   "source": [
    "# Cores\n",
    "cores = ['lightcoral', 'yellow', 'darkgoldenrod', 'limegreen', 'dodgerblue', 'purple', 'red']\n",
    "cores2 = [ 'pink', 'blue', 'yellow']\n",
    "cores3 = ['blue', 'red']"
   ]
  },
  {
   "cell_type": "markdown",
   "id": "091aadac",
   "metadata": {},
   "source": [
    "## Gráfico de barras de frequência de viagem por faixa etária"
   ]
  },
  {
   "cell_type": "code",
   "execution_count": 26,
   "id": "93e900ba",
   "metadata": {},
   "outputs": [
    {
     "data": {
      "image/png": "[encoded data removed]",
      "text/plain": [
       "<Figure size 432x288 with 1 Axes>"
      ]
     },
     "metadata": {
      "needs_background": "light"
     },
     "output_type": "display_data"
    }
   ],
   "source": [
    "freq_x_idade = pd.crosstab(freq_de_viagem, faixa_etaria, normalize = 'columns', margins = True).round(3)*100\n",
    "\n",
    "freq_x_idade.plot.bar(color = cores)\n",
    "plt.title('Frequência de viagem por faixa etária')\n",
    "plt.ylabel('Frequência relativa (%)')\n",
    "plt.xlabel('Frequência de viagem')\n",
    "plt.show()"
   ]
  },
  {
   "cell_type": "markdown",
   "id": "36379604",
   "metadata": {},
   "source": [
    "## Boxplot da frequência de viagem pela estadia média"
   ]
  },
  {
   "cell_type": "code",
   "execution_count": 27,
   "id": "bfa024bb",
   "metadata": {},
   "outputs": [
    {
     "data": {
      "image/png": "[encoded data removed]",
      "text/plain": [
       "<Figure size 1296x576 with 1 Axes>"
      ]
     },
     "metadata": {
      "needs_background": "light"
     },
     "output_type": "display_data"
    }
   ],
   "source": [
    "plt.figure(figsize=(18,8))\n",
    "\n",
    "sns.boxplot(x=freq_de_viagem,                                              # Eixo X receberá os grupos.\n",
    "            y=estadia_media,                                                   # Hue colore o gráfico de acordo com outra variável categórica\n",
    "                                                                             # neste caso o gênero\n",
    "            palette=cores,                                              # Paleta de cores neste caos 'm', magenta e 'g' verde\n",
    "                                                                             # no eixo X.\n",
    "            data=df_ae)                                                       # Dados\n",
    "\n",
    "plt.title('Frequência de viagem por estadia média')\n",
    "plt.xlabel('Frequência de viagem')\n",
    "plt.ylabel('Estadia média')\n",
    "sns.despine(offset=10, trim=True)"
   ]
  },
  {
   "cell_type": "markdown",
   "id": "96120385",
   "metadata": {},
   "source": [
    "## Gráfico de barras de frequência de viagem por região"
   ]
  },
  {
   "cell_type": "code",
   "execution_count": 28,
   "id": "a7867f11",
   "metadata": {},
   "outputs": [
    {
     "data": {
      "image/png": "[encoded data removed]",
      "text/plain": [
       "<Figure size 432x288 with 1 Axes>"
      ]
     },
     "metadata": {
      "needs_background": "light"
     },
     "output_type": "display_data"
    }
   ],
   "source": [
    "freq_x_regiao = pd.crosstab(freq_de_viagem, regiao, normalize = 'columns', margins = True).round(3)*100\n",
    "\n",
    "#normalize = index --> Ex: Freq.A: sudeste + sul + nordeste + centro oeste = 100%\n",
    "#normalize = columns --> Ex: Sudeste - freq.A + sudeste - freq.B + sudeste - freq.C - 100%\n",
    "\n",
    "freq_x_regiao.plot.bar(color = cores)\n",
    "plt.title('Frequência de viagem por região')\n",
    "plt.ylabel('Frequência relativa (%)')\n",
    "plt.xlabel('Frequência de viagem')\n",
    "#plt.legend(loc='center')\n",
    "plt.show()"
   ]
  },
  {
   "cell_type": "markdown",
   "id": "f1effed2",
   "metadata": {},
   "source": [
    "## Gráfico de barras de frequência de viagem por gênero"
   ]
  },
  {
   "cell_type": "code",
   "execution_count": 29,
   "id": "97b05934",
   "metadata": {},
   "outputs": [
    {
     "data": {
      "image/png": "[encoded data removed]",
      "text/plain": [
       "<Figure size 432x288 with 1 Axes>"
      ]
     },
     "metadata": {
      "needs_background": "light"
     },
     "output_type": "display_data"
    }
   ],
   "source": [
    "freq_x_gen = pd.crosstab(freq_de_viagem, genero, normalize = 'columns', margins = True).round(3)*100\n",
    "\n",
    "freq_x_gen.plot.bar(color = cores2)\n",
    "plt.title('Frequência de viagem por gênero')\n",
    "plt.ylabel('Frequência absoluta') #Frequência absoluta já que o número de homens e mulheres é muito parecido\n",
    "plt.xlabel('Frequência de viagem')\n",
    "#plt.legend(loc='center')\n",
    "plt.show()\n",
    "\n",
    "# Gráfico de barras de frequência de viagem por classe\n",
    "\n",
    "freq_x_classe = pd.crosstab(freq_de_viagem, classe, normalize = 'columns', margins = True).round(3)*100\n",
    "\n",
    "freq_x_classe.plot.bar(color = cores)\n",
    "plt.title('Frequência de viagem por classe')\n",
    "plt.ylabel('Frequência absoluta') #Frequência absoluta já que o número de homens e mulheres é muito parecido\n",
    "plt.xlabel('Frequência de viagem')\n",
    "#plt.legend(loc='center')\n",
    "plt.show()"
   ]
  },
  {
   "cell_type": "markdown",
   "id": "9bc3d964",
   "metadata": {},
   "source": [
    "## Boxplot da frequência de viagem pelo numero de filhos"
   ]
  },
  {
   "cell_type": "code",
   "execution_count": 31,
   "id": "f5ece0ad",
   "metadata": {},
   "outputs": [
    {
     "data": {
      "image/png": "[encoded data removed]",
      "text/plain": [
       "<Figure size 1296x576 with 1 Axes>"
      ]
     },
     "metadata": {
      "needs_background": "light"
     },
     "output_type": "display_data"
    }
   ],
   "source": [
    "\n",
    "plt.figure(figsize=(18,8))\n",
    "\n",
    "sns.boxplot(x=freq_de_viagem,                                              # Eixo X receberá os grupos.\n",
    "            y=filhos,                                                   # Hue colore o gráfico de acordo com outra variável categórica\n",
    "                                                                             # neste caso o gênero\n",
    "            palette=cores,                                              # Paleta de cores neste caos 'm', magenta e 'g' verde\n",
    "                                                                             # no eixo X.\n",
    "            data=df_ae)                                                       # Dados\n",
    "\n",
    "plt.title('Frequência de viagem por número de filhos')\n",
    "plt.xlabel('Frequência de viagem')\n",
    "plt.ylabel('Número de filhos')\n",
    "sns.despine(offset=10, trim=True)"
   ]
  },
  {
   "cell_type": "markdown",
   "id": "ab0207a7",
   "metadata": {},
   "source": [
    "#### Para as seguintes análises decidimos criar um dataframe novo apenas com as famílias, ou seja, com as pessoas casadas que tem pelo menos um filho, e outro dataframe com as pessoas que não são casadas"
   ]
  },
  {
   "cell_type": "code",
   "execution_count": 32,
   "id": "0ff6ad37",
   "metadata": {},
   "outputs": [],
   "source": [
    "df_familia = df_ae.copy()\n",
    "\n",
    "# Filtrando apenas as familias\n",
    "casados = df_ae['Qciv'] == 'Casado'\n",
    "filhos = df_ae['Qnat'].isin(range(1,6))\n",
    "\n",
    "# Criando um banco de dados apenas com as familias\n",
    "df_familia = df_familia.loc[casados & filhos, :]\n"
   ]
  },
  {
   "cell_type": "code",
   "execution_count": 33,
   "id": "00065c71",
   "metadata": {},
   "outputs": [],
   "source": [
    "df_nao_familia = df_ae.copy()\n",
    "\n",
    "# # Filtrando apenas as \"não familias\"\n",
    "nao_casados = df_ae['Qciv'] != 'Casado'\n",
    "\n",
    "# Criando um banco de dados apenas com as \"não familias\"\n",
    "df_nao_familia = df_ae.loc[nao_casados, :]\n"
   ]
  },
  {
   "cell_type": "code",
   "execution_count": 34,
   "id": "d78cf12d",
   "metadata": {},
   "outputs": [
    {
     "name": "stdout",
     "output_type": "stream",
     "text": [
      "     Estadia_familia  Estadia_nao_familia\n",
      "4.0            39.87                12.30\n",
      "6.0             5.70                41.41\n",
      "1.0             8.86                16.80\n",
      "3.0            40.51                11.52\n",
      "2.0             5.06                17.97\n"
     ]
    },
    {
     "name": "stderr",
     "output_type": "stream",
     "text": [
      "C:\\Users\\Pedro Mahfuz\\AppData\\Local\\Temp\\ipykernel_14584\\1043923398.py:5: SettingWithCopyWarning: \n",
      "A value is trying to be set on a copy of a slice from a DataFrame.\n",
      "Try using .loc[row_indexer,col_indexer] = value instead\n",
      "\n",
      "See the caveats in the documentation: https://pandas.pydata.org/pandas-docs/stable/user_guide/indexing.html#returning-a-view-versus-a-copy\n",
      "  df_nao_familia['Estadia_nao_familia'] = df_nao_familia['Qest']\n"
     ]
    }
   ],
   "source": [
    "# Tempo de estadia, em porcentagem, de uma familia e de uma \"não familia\"\n",
    "\n",
    "df_familia['Estadia_familia'] = df_familia['Qest'] #essa mudanca de nome esta causando o erro\n",
    "estadia_familia = (df_familia['Estadia_familia'].value_counts(sort=False, normalize=True).round(4)*100).to_frame()\n",
    "df_nao_familia['Estadia_nao_familia'] = df_nao_familia['Qest']\n",
    "estadia_nao_familia = (df_nao_familia['Estadia_nao_familia'].value_counts(sort=False, normalize=True).round(4)*100).to_frame()\n",
    "\n",
    "Qest_familia_x_naofamilia = pd.concat([estadia_familia, estadia_nao_familia], axis=1)\n",
    "print(Qest_familia_x_naofamilia)"
   ]
  },
  {
   "cell_type": "code",
   "execution_count": 35,
   "id": "caa7fec0",
   "metadata": {},
   "outputs": [
    {
     "name": "stdout",
     "output_type": "stream",
     "text": [
      "           Frequencia_familia  Frequencia_nao_familia\n",
      "1 a 3                   56.13                   41.43\n",
      "4 a 6                   29.03                   24.29\n",
      "7 a 10                   1.61                    2.04\n",
      "10+                     11.61                   30.20\n",
      "Não Viaja                1.61                    2.04\n"
     ]
    },
    {
     "name": "stderr",
     "output_type": "stream",
     "text": [
      "C:\\Users\\Pedro Mahfuz\\AppData\\Local\\Temp\\ipykernel_14584\\3080528535.py:5: SettingWithCopyWarning: \n",
      "A value is trying to be set on a copy of a slice from a DataFrame.\n",
      "Try using .loc[row_indexer,col_indexer] = value instead\n",
      "\n",
      "See the caveats in the documentation: https://pandas.pydata.org/pandas-docs/stable/user_guide/indexing.html#returning-a-view-versus-a-copy\n",
      "  df_nao_familia['Frequencia_nao_familia'] = df_nao_familia['P1']\n"
     ]
    }
   ],
   "source": [
    "# Frequência de viagem, em porcentagem, de uma familia e de uma \"não familia\"\n",
    "\n",
    "df_familia['Frequencia_familia'] = df_familia['P1']\n",
    "frequencia_familia = (df_familia['Frequencia_familia'].value_counts(sort=False, normalize=True).round(4)*100).to_frame()\n",
    "df_nao_familia['Frequencia_nao_familia'] = df_nao_familia['P1']\n",
    "frequencia_nao_familia = (df_nao_familia['Frequencia_nao_familia'].value_counts(sort=False, normalize=True).round(4)*100).to_frame()\n",
    "\n",
    "P1_familia_x_naofamilia = pd.concat([frequencia_familia, frequencia_nao_familia], axis=1)\n",
    "print(P1_familia_x_naofamilia)"
   ]
  },
  {
   "cell_type": "markdown",
   "id": "69ab4d94",
   "metadata": {},
   "source": [
    "#### Por último fizemos uma análise do motivo da viagem "
   ]
  },
  {
   "cell_type": "code",
   "execution_count": 36,
   "id": "d30fc3c8",
   "metadata": {},
   "outputs": [
    {
     "data": {
      "text/html": [
       "<div>\n",
       "<style scoped>\n",
       "    .dataframe tbody tr th:only-of-type {\n",
       "        vertical-align: middle;\n",
       "    }\n",
       "\n",
       "    .dataframe tbody tr th {\n",
       "        vertical-align: top;\n",
       "    }\n",
       "\n",
       "    .dataframe thead th {\n",
       "        text-align: right;\n",
       "    }\n",
       "</style>\n",
       "<table border=\"1\" class=\"dataframe\">\n",
       "  <thead>\n",
       "    <tr style=\"text-align: right;\">\n",
       "      <th></th>\n",
       "      <th>Motivo_viagem</th>\n",
       "    </tr>\n",
       "  </thead>\n",
       "  <tbody>\n",
       "    <tr>\n",
       "      <th>Visitar amigos</th>\n",
       "      <td>2.62</td>\n",
       "    </tr>\n",
       "    <tr>\n",
       "      <th>Visitar familia</th>\n",
       "      <td>18.35</td>\n",
       "    </tr>\n",
       "    <tr>\n",
       "      <th>Lazer</th>\n",
       "      <td>41.94</td>\n",
       "    </tr>\n",
       "    <tr>\n",
       "      <th>Pesquisa Ciêntifica</th>\n",
       "      <td>1.41</td>\n",
       "    </tr>\n",
       "    <tr>\n",
       "      <th>Trabalho</th>\n",
       "      <td>12.40</td>\n",
       "    </tr>\n",
       "    <tr>\n",
       "      <th>Viagem gastronomica</th>\n",
       "      <td>1.21</td>\n",
       "    </tr>\n",
       "    <tr>\n",
       "      <th>Desconectar</th>\n",
       "      <td>22.08</td>\n",
       "    </tr>\n",
       "  </tbody>\n",
       "</table>\n",
       "</div>"
      ],
      "text/plain": [
       "                     Motivo_viagem\n",
       "Visitar amigos                2.62\n",
       "Visitar familia              18.35\n",
       "Lazer                        41.94\n",
       "Pesquisa Ciêntifica           1.41\n",
       "Trabalho                     12.40\n",
       "Viagem gastronomica           1.21\n",
       "Desconectar                  22.08"
      ]
     },
     "execution_count": 36,
     "metadata": {},
     "output_type": "execute_result"
    }
   ],
   "source": [
    "# Motivo da viagem em porcentagem\n",
    "\n",
    "df_ae['Motivo_viagem'] = df_ae['P2']\n",
    "(df_ae['Motivo_viagem'].value_counts(sort=False, normalize=True).round(4)*100).to_frame()"
   ]
  },
  {
   "cell_type": "markdown",
   "id": "d22d1bcd",
   "metadata": {},
   "source": [
    "# Clusterização"
   ]
  },
  {
   "cell_type": "code",
   "execution_count": 62,
   "id": "c8858e8a",
   "metadata": {},
   "outputs": [
    {
     "data": {
      "text/html": [
       "<div>\n",
       "<style scoped>\n",
       "    .dataframe tbody tr th:only-of-type {\n",
       "        vertical-align: middle;\n",
       "    }\n",
       "\n",
       "    .dataframe tbody tr th {\n",
       "        vertical-align: top;\n",
       "    }\n",
       "\n",
       "    .dataframe thead th {\n",
       "        text-align: right;\n",
       "    }\n",
       "</style>\n",
       "<table border=\"1\" class=\"dataframe\">\n",
       "  <thead>\n",
       "    <tr style=\"text-align: right;\">\n",
       "      <th></th>\n",
       "      <th>P1</th>\n",
       "      <th>P2</th>\n",
       "      <th>P3</th>\n",
       "      <th>P4</th>\n",
       "      <th>P5</th>\n",
       "      <th>P6</th>\n",
       "      <th>P7</th>\n",
       "      <th>P8</th>\n",
       "      <th>P9</th>\n",
       "      <th>P10</th>\n",
       "      <th>...</th>\n",
       "      <th>2.0</th>\n",
       "      <th>3.0</th>\n",
       "      <th>Casado</th>\n",
       "      <th>Divorciado</th>\n",
       "      <th>Separado</th>\n",
       "      <th>Solteiro</th>\n",
       "      <th>Viúvo</th>\n",
       "      <th>1.0</th>\n",
       "      <th>2.0</th>\n",
       "      <th>3.0</th>\n",
       "    </tr>\n",
       "  </thead>\n",
       "  <tbody>\n",
       "    <tr>\n",
       "      <th>0</th>\n",
       "      <td>2.0</td>\n",
       "      <td>7.0</td>\n",
       "      <td>7.0</td>\n",
       "      <td>5.0</td>\n",
       "      <td>4.0</td>\n",
       "      <td>2.0</td>\n",
       "      <td>6.0</td>\n",
       "      <td>7.0</td>\n",
       "      <td>5.0</td>\n",
       "      <td>1.0</td>\n",
       "      <td>...</td>\n",
       "      <td>1</td>\n",
       "      <td>0</td>\n",
       "      <td>1</td>\n",
       "      <td>0</td>\n",
       "      <td>0</td>\n",
       "      <td>0</td>\n",
       "      <td>0</td>\n",
       "      <td>0</td>\n",
       "      <td>1</td>\n",
       "      <td>0</td>\n",
       "    </tr>\n",
       "    <tr>\n",
       "      <th>1</th>\n",
       "      <td>3.0</td>\n",
       "      <td>2.0</td>\n",
       "      <td>2.0</td>\n",
       "      <td>6.0</td>\n",
       "      <td>4.0</td>\n",
       "      <td>2.0</td>\n",
       "      <td>5.0</td>\n",
       "      <td>1.0</td>\n",
       "      <td>3.0</td>\n",
       "      <td>2.0</td>\n",
       "      <td>...</td>\n",
       "      <td>1</td>\n",
       "      <td>0</td>\n",
       "      <td>0</td>\n",
       "      <td>0</td>\n",
       "      <td>0</td>\n",
       "      <td>0</td>\n",
       "      <td>1</td>\n",
       "      <td>0</td>\n",
       "      <td>1</td>\n",
       "      <td>0</td>\n",
       "    </tr>\n",
       "    <tr>\n",
       "      <th>2</th>\n",
       "      <td>1.0</td>\n",
       "      <td>7.0</td>\n",
       "      <td>7.0</td>\n",
       "      <td>5.0</td>\n",
       "      <td>4.0</td>\n",
       "      <td>5.0</td>\n",
       "      <td>6.0</td>\n",
       "      <td>6.0</td>\n",
       "      <td>5.0</td>\n",
       "      <td>2.0</td>\n",
       "      <td>...</td>\n",
       "      <td>1</td>\n",
       "      <td>0</td>\n",
       "      <td>1</td>\n",
       "      <td>0</td>\n",
       "      <td>0</td>\n",
       "      <td>0</td>\n",
       "      <td>0</td>\n",
       "      <td>0</td>\n",
       "      <td>1</td>\n",
       "      <td>0</td>\n",
       "    </tr>\n",
       "    <tr>\n",
       "      <th>3</th>\n",
       "      <td>1.0</td>\n",
       "      <td>3.0</td>\n",
       "      <td>4.0</td>\n",
       "      <td>4.0</td>\n",
       "      <td>6.0</td>\n",
       "      <td>6.0</td>\n",
       "      <td>1.0</td>\n",
       "      <td>7.0</td>\n",
       "      <td>6.0</td>\n",
       "      <td>6.0</td>\n",
       "      <td>...</td>\n",
       "      <td>1</td>\n",
       "      <td>0</td>\n",
       "      <td>0</td>\n",
       "      <td>1</td>\n",
       "      <td>0</td>\n",
       "      <td>0</td>\n",
       "      <td>0</td>\n",
       "      <td>0</td>\n",
       "      <td>1</td>\n",
       "      <td>0</td>\n",
       "    </tr>\n",
       "    <tr>\n",
       "      <th>4</th>\n",
       "      <td>2.0</td>\n",
       "      <td>7.0</td>\n",
       "      <td>6.0</td>\n",
       "      <td>7.0</td>\n",
       "      <td>3.0</td>\n",
       "      <td>3.0</td>\n",
       "      <td>7.0</td>\n",
       "      <td>6.0</td>\n",
       "      <td>5.0</td>\n",
       "      <td>2.0</td>\n",
       "      <td>...</td>\n",
       "      <td>0</td>\n",
       "      <td>0</td>\n",
       "      <td>1</td>\n",
       "      <td>0</td>\n",
       "      <td>0</td>\n",
       "      <td>0</td>\n",
       "      <td>0</td>\n",
       "      <td>1</td>\n",
       "      <td>0</td>\n",
       "      <td>0</td>\n",
       "    </tr>\n",
       "    <tr>\n",
       "      <th>...</th>\n",
       "      <td>...</td>\n",
       "      <td>...</td>\n",
       "      <td>...</td>\n",
       "      <td>...</td>\n",
       "      <td>...</td>\n",
       "      <td>...</td>\n",
       "      <td>...</td>\n",
       "      <td>...</td>\n",
       "      <td>...</td>\n",
       "      <td>...</td>\n",
       "      <td>...</td>\n",
       "      <td>...</td>\n",
       "      <td>...</td>\n",
       "      <td>...</td>\n",
       "      <td>...</td>\n",
       "      <td>...</td>\n",
       "      <td>...</td>\n",
       "      <td>...</td>\n",
       "      <td>...</td>\n",
       "      <td>...</td>\n",
       "      <td>...</td>\n",
       "    </tr>\n",
       "    <tr>\n",
       "      <th>1263</th>\n",
       "      <td>2.0</td>\n",
       "      <td>3.0</td>\n",
       "      <td>7.0</td>\n",
       "      <td>6.0</td>\n",
       "      <td>6.0</td>\n",
       "      <td>6.0</td>\n",
       "      <td>2.0</td>\n",
       "      <td>4.0</td>\n",
       "      <td>7.0</td>\n",
       "      <td>5.0</td>\n",
       "      <td>...</td>\n",
       "      <td>0</td>\n",
       "      <td>0</td>\n",
       "      <td>0</td>\n",
       "      <td>0</td>\n",
       "      <td>0</td>\n",
       "      <td>0</td>\n",
       "      <td>1</td>\n",
       "      <td>1</td>\n",
       "      <td>0</td>\n",
       "      <td>0</td>\n",
       "    </tr>\n",
       "    <tr>\n",
       "      <th>1264</th>\n",
       "      <td>1.0</td>\n",
       "      <td>3.0</td>\n",
       "      <td>7.0</td>\n",
       "      <td>7.0</td>\n",
       "      <td>5.0</td>\n",
       "      <td>3.0</td>\n",
       "      <td>6.0</td>\n",
       "      <td>6.0</td>\n",
       "      <td>5.0</td>\n",
       "      <td>2.0</td>\n",
       "      <td>...</td>\n",
       "      <td>0</td>\n",
       "      <td>0</td>\n",
       "      <td>1</td>\n",
       "      <td>0</td>\n",
       "      <td>0</td>\n",
       "      <td>0</td>\n",
       "      <td>0</td>\n",
       "      <td>1</td>\n",
       "      <td>0</td>\n",
       "      <td>0</td>\n",
       "    </tr>\n",
       "    <tr>\n",
       "      <th>1265</th>\n",
       "      <td>2.0</td>\n",
       "      <td>7.0</td>\n",
       "      <td>6.0</td>\n",
       "      <td>6.0</td>\n",
       "      <td>4.0</td>\n",
       "      <td>5.0</td>\n",
       "      <td>6.0</td>\n",
       "      <td>6.0</td>\n",
       "      <td>5.0</td>\n",
       "      <td>1.0</td>\n",
       "      <td>...</td>\n",
       "      <td>0</td>\n",
       "      <td>0</td>\n",
       "      <td>1</td>\n",
       "      <td>0</td>\n",
       "      <td>0</td>\n",
       "      <td>0</td>\n",
       "      <td>0</td>\n",
       "      <td>1</td>\n",
       "      <td>0</td>\n",
       "      <td>0</td>\n",
       "    </tr>\n",
       "    <tr>\n",
       "      <th>1266</th>\n",
       "      <td>2.0</td>\n",
       "      <td>3.0</td>\n",
       "      <td>5.0</td>\n",
       "      <td>5.0</td>\n",
       "      <td>6.0</td>\n",
       "      <td>5.0</td>\n",
       "      <td>7.0</td>\n",
       "      <td>6.0</td>\n",
       "      <td>5.0</td>\n",
       "      <td>2.0</td>\n",
       "      <td>...</td>\n",
       "      <td>0</td>\n",
       "      <td>0</td>\n",
       "      <td>1</td>\n",
       "      <td>0</td>\n",
       "      <td>0</td>\n",
       "      <td>0</td>\n",
       "      <td>0</td>\n",
       "      <td>1</td>\n",
       "      <td>0</td>\n",
       "      <td>0</td>\n",
       "    </tr>\n",
       "    <tr>\n",
       "      <th>1267</th>\n",
       "      <td>0.0</td>\n",
       "      <td>5.0</td>\n",
       "      <td>1.0</td>\n",
       "      <td>7.0</td>\n",
       "      <td>2.0</td>\n",
       "      <td>2.0</td>\n",
       "      <td>5.0</td>\n",
       "      <td>5.0</td>\n",
       "      <td>7.0</td>\n",
       "      <td>1.0</td>\n",
       "      <td>...</td>\n",
       "      <td>0</td>\n",
       "      <td>0</td>\n",
       "      <td>0</td>\n",
       "      <td>0</td>\n",
       "      <td>0</td>\n",
       "      <td>0</td>\n",
       "      <td>1</td>\n",
       "      <td>1</td>\n",
       "      <td>0</td>\n",
       "      <td>0</td>\n",
       "    </tr>\n",
       "  </tbody>\n",
       "</table>\n",
       "<p>961 rows × 96 columns</p>\n",
       "</div>"
      ],
      "text/plain": [
       "       P1   P2   P3   P4   P5   P6   P7   P8   P9  P10  ...  2.0  3.0  Casado  \\\n",
       "0     2.0  7.0  7.0  5.0  4.0  2.0  6.0  7.0  5.0  1.0  ...    1    0       1   \n",
       "1     3.0  2.0  2.0  6.0  4.0  2.0  5.0  1.0  3.0  2.0  ...    1    0       0   \n",
       "2     1.0  7.0  7.0  5.0  4.0  5.0  6.0  6.0  5.0  2.0  ...    1    0       1   \n",
       "3     1.0  3.0  4.0  4.0  6.0  6.0  1.0  7.0  6.0  6.0  ...    1    0       0   \n",
       "4     2.0  7.0  6.0  7.0  3.0  3.0  7.0  6.0  5.0  2.0  ...    0    0       1   \n",
       "...   ...  ...  ...  ...  ...  ...  ...  ...  ...  ...  ...  ...  ...     ...   \n",
       "1263  2.0  3.0  7.0  6.0  6.0  6.0  2.0  4.0  7.0  5.0  ...    0    0       0   \n",
       "1264  1.0  3.0  7.0  7.0  5.0  3.0  6.0  6.0  5.0  2.0  ...    0    0       1   \n",
       "1265  2.0  7.0  6.0  6.0  4.0  5.0  6.0  6.0  5.0  1.0  ...    0    0       1   \n",
       "1266  2.0  3.0  5.0  5.0  6.0  5.0  7.0  6.0  5.0  2.0  ...    0    0       1   \n",
       "1267  0.0  5.0  1.0  7.0  2.0  2.0  5.0  5.0  7.0  1.0  ...    0    0       0   \n",
       "\n",
       "      Divorciado  Separado  Solteiro  Viúvo  1.0  2.0  3.0  \n",
       "0              0         0         0      0    0    1    0  \n",
       "1              0         0         0      1    0    1    0  \n",
       "2              0         0         0      0    0    1    0  \n",
       "3              1         0         0      0    0    1    0  \n",
       "4              0         0         0      0    1    0    0  \n",
       "...          ...       ...       ...    ...  ...  ...  ...  \n",
       "1263           0         0         0      1    1    0    0  \n",
       "1264           0         0         0      0    1    0    0  \n",
       "1265           0         0         0      0    1    0    0  \n",
       "1266           0         0         0      0    1    0    0  \n",
       "1267           0         0         0      1    1    0    0  \n",
       "\n",
       "[961 rows x 96 columns]"
      ]
     },
     "execution_count": 62,
     "metadata": {},
     "output_type": "execute_result"
    }
   ],
   "source": [
    "# Vamos criar as dummies para usar o método de clusterização K-means\n",
    "estado_dummies = pd.get_dummies(df['Qciv'])\n",
    "df = pd.concat([df, estado_dummies], axis=1)\n",
    "\n",
    "classe_dummies = pd.get_dummies(df['Qclasse'])\n",
    "df = pd.concat([df, classe_dummies], axis=1)\n",
    "\n",
    "# Trocando classes de \"A, B, C\" para \"1, 2, 3\"\n",
    "df['Qclasse'] = df['Qclasse'].replace('A', 1)\n",
    "df['Qclasse'] = df['Qclasse'].replace('B', 2)\n",
    "df['Qclasse'] = df['Qclasse'].replace('C', 3)\n",
    "\n",
    "df"
   ]
  },
  {
   "cell_type": "code",
   "execution_count": 39,
   "id": "5a5df7ef",
   "metadata": {},
   "outputs": [],
   "source": [
    "# Na coluna de frequência de vigens alteramos para 0 o voto de quem não viaja\n",
    "df['P1'] = df['P1'].replace(5, 0)"
   ]
  },
  {
   "cell_type": "code",
   "execution_count": 42,
   "id": "40c6e882",
   "metadata": {},
   "outputs": [
    {
     "data": {
      "text/html": [
       "<div>\n",
       "<style scoped>\n",
       "    .dataframe tbody tr th:only-of-type {\n",
       "        vertical-align: middle;\n",
       "    }\n",
       "\n",
       "    .dataframe tbody tr th {\n",
       "        vertical-align: top;\n",
       "    }\n",
       "\n",
       "    .dataframe thead th {\n",
       "        text-align: right;\n",
       "    }\n",
       "</style>\n",
       "<table border=\"1\" class=\"dataframe\">\n",
       "  <thead>\n",
       "    <tr style=\"text-align: right;\">\n",
       "      <th></th>\n",
       "      <th>P1</th>\n",
       "      <th>P2</th>\n",
       "      <th>Qest</th>\n",
       "      <th>Qclasse</th>\n",
       "    </tr>\n",
       "  </thead>\n",
       "  <tbody>\n",
       "    <tr>\n",
       "      <th>0</th>\n",
       "      <td>2.0</td>\n",
       "      <td>7</td>\n",
       "      <td>4.0</td>\n",
       "      <td>2.0</td>\n",
       "    </tr>\n",
       "    <tr>\n",
       "      <th>1</th>\n",
       "      <td>3.0</td>\n",
       "      <td>2</td>\n",
       "      <td>1.0</td>\n",
       "      <td>2.0</td>\n",
       "    </tr>\n",
       "    <tr>\n",
       "      <th>2</th>\n",
       "      <td>1.0</td>\n",
       "      <td>7</td>\n",
       "      <td>3.0</td>\n",
       "      <td>2.0</td>\n",
       "    </tr>\n",
       "    <tr>\n",
       "      <th>3</th>\n",
       "      <td>1.0</td>\n",
       "      <td>3</td>\n",
       "      <td>6.0</td>\n",
       "      <td>2.0</td>\n",
       "    </tr>\n",
       "    <tr>\n",
       "      <th>4</th>\n",
       "      <td>2.0</td>\n",
       "      <td>7</td>\n",
       "      <td>4.0</td>\n",
       "      <td>1.0</td>\n",
       "    </tr>\n",
       "    <tr>\n",
       "      <th>...</th>\n",
       "      <td>...</td>\n",
       "      <td>...</td>\n",
       "      <td>...</td>\n",
       "      <td>...</td>\n",
       "    </tr>\n",
       "    <tr>\n",
       "      <th>1263</th>\n",
       "      <td>2.0</td>\n",
       "      <td>3</td>\n",
       "      <td>6.0</td>\n",
       "      <td>1.0</td>\n",
       "    </tr>\n",
       "    <tr>\n",
       "      <th>1264</th>\n",
       "      <td>1.0</td>\n",
       "      <td>3</td>\n",
       "      <td>3.0</td>\n",
       "      <td>1.0</td>\n",
       "    </tr>\n",
       "    <tr>\n",
       "      <th>1265</th>\n",
       "      <td>2.0</td>\n",
       "      <td>7</td>\n",
       "      <td>3.0</td>\n",
       "      <td>1.0</td>\n",
       "    </tr>\n",
       "    <tr>\n",
       "      <th>1266</th>\n",
       "      <td>2.0</td>\n",
       "      <td>3</td>\n",
       "      <td>3.0</td>\n",
       "      <td>1.0</td>\n",
       "    </tr>\n",
       "    <tr>\n",
       "      <th>1267</th>\n",
       "      <td>0.0</td>\n",
       "      <td>5</td>\n",
       "      <td>1.0</td>\n",
       "      <td>1.0</td>\n",
       "    </tr>\n",
       "  </tbody>\n",
       "</table>\n",
       "<p>1268 rows × 4 columns</p>\n",
       "</div>"
      ],
      "text/plain": [
       "       P1 P2  Qest  Qclasse\n",
       "0     2.0  7   4.0      2.0\n",
       "1     3.0  2   1.0      2.0\n",
       "2     1.0  7   3.0      2.0\n",
       "3     1.0  3   6.0      2.0\n",
       "4     2.0  7   4.0      1.0\n",
       "...   ... ..   ...      ...\n",
       "1263  2.0  3   6.0      1.0\n",
       "1264  1.0  3   3.0      1.0\n",
       "1265  2.0  7   3.0      1.0\n",
       "1266  2.0  3   3.0      1.0\n",
       "1267  0.0  5   1.0      1.0\n",
       "\n",
       "[1268 rows x 4 columns]"
      ]
     },
     "execution_count": 42,
     "metadata": {},
     "output_type": "execute_result"
    }
   ],
   "source": [
    "# Criando uma copia do df para fazer a clusterização somente com as colunas escolhidas\n",
    "X = df.copy()\n",
    "X = X.loc[:, ['P1', 'P2', 'Qest', 'Qclasse']]\n",
    "X"
   ]
  },
  {
   "cell_type": "code",
   "execution_count": 43,
   "id": "065c632a",
   "metadata": {},
   "outputs": [],
   "source": [
    "# Removendo células Nan do df X\n",
    "X = X.replace(r'^\\s*$', np.nan, regex=True)\n",
    "X = X.dropna()"
   ]
  },
  {
   "cell_type": "code",
   "execution_count": 47,
   "id": "bbc05b86",
   "metadata": {},
   "outputs": [],
   "source": [
    "# Criando um objeto KMeans com 5 clusters\n",
    "kmeans = KMeans(n_clusters=5, random_state=0)\n",
    "\n",
    "# Treinando o modelo e obtendo as atribuições de cluster\n",
    "labels = kmeans.fit_predict(X)\n",
    "\n",
    "# Obter as coordenadas dos centróides dos clusters\n",
    "centroids = kmeans.cluster_centers_"
   ]
  },
  {
   "cell_type": "code",
   "execution_count": 48,
   "id": "fca52f9a",
   "metadata": {},
   "outputs": [
    {
     "data": {
      "image/png": "[encoded data removed]",
      "text/plain": [
       "<Figure size 432x288 with 1 Axes>"
      ]
     },
     "metadata": {
      "needs_background": "light"
     },
     "output_type": "display_data"
    }
   ],
   "source": [
    "# Separando os dados por cluster\n",
    "cluster0 = X.iloc[labels == 0, :]\n",
    "cluster1 = X.iloc[labels == 1, :]\n",
    "cluster2 = X.iloc[labels == 2, :]\n",
    "cluster3 = X.iloc[labels == 3, :]\n",
    "cluster4 = X.iloc[labels == 4, :]\n",
    "\n",
    "\n",
    "# Criando uma lista ocm todos os clusters\n",
    "clusters = [cluster0, cluster1, cluster2, cluster3, cluster4]\n",
    "\n",
    "# Plotando os clusters em gráficos diferentes\n",
    "plt.scatter(cluster0.iloc[:, 0], cluster0.iloc[:, 1], color='red', label='Cluster 0')\n",
    "plt.scatter(cluster1.iloc[:, 0], cluster1.iloc[:, 1], color='blue', label='Cluster 1')\n",
    "plt.scatter(cluster2.iloc[:, 0], cluster2.iloc[:, 1], color='green', label='Cluster 2')\n",
    "plt.scatter(cluster3.iloc[:, 0], cluster3.iloc[:, 1], color='yellow', label='Cluster 3')\n",
    "plt.scatter(cluster4.iloc[:, 0], cluster4.iloc[:, 1], color='purple', label='Cluster 4')\n",
    "plt.scatter(kmeans.cluster_centers_[:, 0], kmeans.cluster_centers_[:, 1], marker='o', s=200, linewidths=3, color='black', zorder=10, label='Centroids')\n",
    "plt.legend()\n",
    "plt.show()"
   ]
  },
  {
   "cell_type": "code",
   "execution_count": 49,
   "id": "3bd0e7af",
   "metadata": {},
   "outputs": [
    {
     "name": "stdout",
     "output_type": "stream",
     "text": [
      "Coeficiente de Silhueta médio: 0.6082346920666715\n"
     ]
    }
   ],
   "source": [
    "# Agora vamos ver quão satisfatório e bem definidos estão os clusteres\n",
    "from sklearn.metrics import silhouette_score\n",
    "\n",
    "# silhouette_score() retorna o valor do coeficiente de silhueta\n",
    "silhouette_avg = silhouette_score(X, labels)\n",
    "print(\"Coeficiente de Silhueta médio:\", silhouette_avg)"
   ]
  },
  {
   "cell_type": "markdown",
   "id": "384e5a14",
   "metadata": {},
   "source": [
    "## Decobrindo o valor \"ideal\" de centroides"
   ]
  },
  {
   "cell_type": "code",
   "execution_count": 50,
   "id": "11cb1dbb",
   "metadata": {},
   "outputs": [
    {
     "name": "stderr",
     "output_type": "stream",
     "text": [
      "C:\\Users\\Pedro Mahfuz\\anaconda3\\lib\\site-packages\\sklearn\\cluster\\_kmeans.py:1036: UserWarning: KMeans is known to have a memory leak on Windows with MKL, when there are less chunks than available threads. You can avoid it by setting the environment variable OMP_NUM_THREADS=4.\n",
      "  warnings.warn(\n"
     ]
    },
    {
     "data": {
      "image/png": "[encoded data removed]",
      "text/plain": [
       "<Figure size 432x288 with 1 Axes>"
      ]
     },
     "metadata": {
      "needs_background": "light"
     },
     "output_type": "display_data"
    }
   ],
   "source": [
    "sum_of_squared_distances = []\n",
    "# Executar o K-means para diferentes valores de K\n",
    "k_values = range(1, 11)\n",
    "for k in k_values:\n",
    "    kmeans = KMeans(n_clusters=k, random_state=0)\n",
    "    kmeans.fit(X)\n",
    "    sum_of_squared_distances.append(kmeans.inertia_)\n",
    "\n",
    "# Plotar a soma das distâncias ao quadrado em função do número de clusters\n",
    "plt.plot(k_values, sum_of_squared_distances, 'bo-')\n",
    "plt.xlabel('Número de Clusters (K)')\n",
    "plt.ylabel('Soma das distâncias ao quadrado')\n",
    "plt.title('Método do Cotovelo')\n",
    "plt.show()"
   ]
  },
  {
   "cell_type": "code",
   "execution_count": 51,
   "id": "1713423f",
   "metadata": {},
   "outputs": [
    {
     "data": {
      "text/html": [
       "<div>\n",
       "<style scoped>\n",
       "    .dataframe tbody tr th:only-of-type {\n",
       "        vertical-align: middle;\n",
       "    }\n",
       "\n",
       "    .dataframe tbody tr th {\n",
       "        vertical-align: top;\n",
       "    }\n",
       "\n",
       "    .dataframe thead th {\n",
       "        text-align: right;\n",
       "    }\n",
       "</style>\n",
       "<table border=\"1\" class=\"dataframe\">\n",
       "  <thead>\n",
       "    <tr style=\"text-align: right;\">\n",
       "      <th></th>\n",
       "      <th>P1</th>\n",
       "      <th>P2</th>\n",
       "      <th>P3</th>\n",
       "      <th>P4</th>\n",
       "      <th>P5</th>\n",
       "      <th>P6</th>\n",
       "      <th>P7</th>\n",
       "      <th>P8</th>\n",
       "      <th>P9</th>\n",
       "      <th>P10</th>\n",
       "      <th>...</th>\n",
       "      <th>Qs</th>\n",
       "      <th>Casado</th>\n",
       "      <th>Divorciado</th>\n",
       "      <th>Separado</th>\n",
       "      <th>Solteiro</th>\n",
       "      <th>Viúvo</th>\n",
       "      <th>A</th>\n",
       "      <th>B</th>\n",
       "      <th>C</th>\n",
       "      <th>cluster</th>\n",
       "    </tr>\n",
       "  </thead>\n",
       "  <tbody>\n",
       "    <tr>\n",
       "      <th>0</th>\n",
       "      <td>2.0</td>\n",
       "      <td>7.0</td>\n",
       "      <td>7.0</td>\n",
       "      <td>5.0</td>\n",
       "      <td>4.0</td>\n",
       "      <td>2.0</td>\n",
       "      <td>6.0</td>\n",
       "      <td>7.0</td>\n",
       "      <td>5.0</td>\n",
       "      <td>1.0</td>\n",
       "      <td>...</td>\n",
       "      <td>Dados para Marketing</td>\n",
       "      <td>1</td>\n",
       "      <td>0</td>\n",
       "      <td>0</td>\n",
       "      <td>0</td>\n",
       "      <td>0</td>\n",
       "      <td>0</td>\n",
       "      <td>1</td>\n",
       "      <td>0</td>\n",
       "      <td>2</td>\n",
       "    </tr>\n",
       "    <tr>\n",
       "      <th>1</th>\n",
       "      <td>3.0</td>\n",
       "      <td>2.0</td>\n",
       "      <td>2.0</td>\n",
       "      <td>6.0</td>\n",
       "      <td>4.0</td>\n",
       "      <td>2.0</td>\n",
       "      <td>5.0</td>\n",
       "      <td>1.0</td>\n",
       "      <td>3.0</td>\n",
       "      <td>2.0</td>\n",
       "      <td>...</td>\n",
       "      <td>NaN</td>\n",
       "      <td>0</td>\n",
       "      <td>0</td>\n",
       "      <td>0</td>\n",
       "      <td>0</td>\n",
       "      <td>1</td>\n",
       "      <td>0</td>\n",
       "      <td>1</td>\n",
       "      <td>0</td>\n",
       "      <td>4</td>\n",
       "    </tr>\n",
       "    <tr>\n",
       "      <th>2</th>\n",
       "      <td>1.0</td>\n",
       "      <td>7.0</td>\n",
       "      <td>7.0</td>\n",
       "      <td>5.0</td>\n",
       "      <td>4.0</td>\n",
       "      <td>5.0</td>\n",
       "      <td>6.0</td>\n",
       "      <td>6.0</td>\n",
       "      <td>5.0</td>\n",
       "      <td>2.0</td>\n",
       "      <td>...</td>\n",
       "      <td>Dados para Hotel</td>\n",
       "      <td>1</td>\n",
       "      <td>0</td>\n",
       "      <td>0</td>\n",
       "      <td>0</td>\n",
       "      <td>0</td>\n",
       "      <td>0</td>\n",
       "      <td>1</td>\n",
       "      <td>0</td>\n",
       "      <td>2</td>\n",
       "    </tr>\n",
       "    <tr>\n",
       "      <th>3</th>\n",
       "      <td>1.0</td>\n",
       "      <td>3.0</td>\n",
       "      <td>4.0</td>\n",
       "      <td>4.0</td>\n",
       "      <td>6.0</td>\n",
       "      <td>6.0</td>\n",
       "      <td>1.0</td>\n",
       "      <td>7.0</td>\n",
       "      <td>6.0</td>\n",
       "      <td>6.0</td>\n",
       "      <td>...</td>\n",
       "      <td>Marketing</td>\n",
       "      <td>0</td>\n",
       "      <td>1</td>\n",
       "      <td>0</td>\n",
       "      <td>0</td>\n",
       "      <td>0</td>\n",
       "      <td>0</td>\n",
       "      <td>1</td>\n",
       "      <td>0</td>\n",
       "      <td>3</td>\n",
       "    </tr>\n",
       "    <tr>\n",
       "      <th>4</th>\n",
       "      <td>2.0</td>\n",
       "      <td>7.0</td>\n",
       "      <td>6.0</td>\n",
       "      <td>7.0</td>\n",
       "      <td>3.0</td>\n",
       "      <td>3.0</td>\n",
       "      <td>7.0</td>\n",
       "      <td>6.0</td>\n",
       "      <td>5.0</td>\n",
       "      <td>2.0</td>\n",
       "      <td>...</td>\n",
       "      <td>Dados para Hotel</td>\n",
       "      <td>1</td>\n",
       "      <td>0</td>\n",
       "      <td>0</td>\n",
       "      <td>0</td>\n",
       "      <td>0</td>\n",
       "      <td>1</td>\n",
       "      <td>0</td>\n",
       "      <td>0</td>\n",
       "      <td>2</td>\n",
       "    </tr>\n",
       "    <tr>\n",
       "      <th>...</th>\n",
       "      <td>...</td>\n",
       "      <td>...</td>\n",
       "      <td>...</td>\n",
       "      <td>...</td>\n",
       "      <td>...</td>\n",
       "      <td>...</td>\n",
       "      <td>...</td>\n",
       "      <td>...</td>\n",
       "      <td>...</td>\n",
       "      <td>...</td>\n",
       "      <td>...</td>\n",
       "      <td>...</td>\n",
       "      <td>...</td>\n",
       "      <td>...</td>\n",
       "      <td>...</td>\n",
       "      <td>...</td>\n",
       "      <td>...</td>\n",
       "      <td>...</td>\n",
       "      <td>...</td>\n",
       "      <td>...</td>\n",
       "      <td>...</td>\n",
       "    </tr>\n",
       "    <tr>\n",
       "      <th>1263</th>\n",
       "      <td>2.0</td>\n",
       "      <td>3.0</td>\n",
       "      <td>7.0</td>\n",
       "      <td>6.0</td>\n",
       "      <td>6.0</td>\n",
       "      <td>6.0</td>\n",
       "      <td>2.0</td>\n",
       "      <td>4.0</td>\n",
       "      <td>7.0</td>\n",
       "      <td>5.0</td>\n",
       "      <td>...</td>\n",
       "      <td>Pesquisa Hotel</td>\n",
       "      <td>0</td>\n",
       "      <td>0</td>\n",
       "      <td>0</td>\n",
       "      <td>0</td>\n",
       "      <td>1</td>\n",
       "      <td>1</td>\n",
       "      <td>0</td>\n",
       "      <td>0</td>\n",
       "      <td>3</td>\n",
       "    </tr>\n",
       "    <tr>\n",
       "      <th>1264</th>\n",
       "      <td>1.0</td>\n",
       "      <td>3.0</td>\n",
       "      <td>7.0</td>\n",
       "      <td>7.0</td>\n",
       "      <td>5.0</td>\n",
       "      <td>3.0</td>\n",
       "      <td>6.0</td>\n",
       "      <td>6.0</td>\n",
       "      <td>5.0</td>\n",
       "      <td>2.0</td>\n",
       "      <td>...</td>\n",
       "      <td>Pesquisa</td>\n",
       "      <td>1</td>\n",
       "      <td>0</td>\n",
       "      <td>0</td>\n",
       "      <td>0</td>\n",
       "      <td>0</td>\n",
       "      <td>1</td>\n",
       "      <td>0</td>\n",
       "      <td>0</td>\n",
       "      <td>0</td>\n",
       "    </tr>\n",
       "    <tr>\n",
       "      <th>1265</th>\n",
       "      <td>2.0</td>\n",
       "      <td>7.0</td>\n",
       "      <td>6.0</td>\n",
       "      <td>6.0</td>\n",
       "      <td>4.0</td>\n",
       "      <td>5.0</td>\n",
       "      <td>6.0</td>\n",
       "      <td>6.0</td>\n",
       "      <td>5.0</td>\n",
       "      <td>1.0</td>\n",
       "      <td>...</td>\n",
       "      <td>Dados para Hotel</td>\n",
       "      <td>1</td>\n",
       "      <td>0</td>\n",
       "      <td>0</td>\n",
       "      <td>0</td>\n",
       "      <td>0</td>\n",
       "      <td>1</td>\n",
       "      <td>0</td>\n",
       "      <td>0</td>\n",
       "      <td>2</td>\n",
       "    </tr>\n",
       "    <tr>\n",
       "      <th>1266</th>\n",
       "      <td>2.0</td>\n",
       "      <td>3.0</td>\n",
       "      <td>5.0</td>\n",
       "      <td>5.0</td>\n",
       "      <td>6.0</td>\n",
       "      <td>5.0</td>\n",
       "      <td>7.0</td>\n",
       "      <td>6.0</td>\n",
       "      <td>5.0</td>\n",
       "      <td>2.0</td>\n",
       "      <td>...</td>\n",
       "      <td>Coleta de dados</td>\n",
       "      <td>1</td>\n",
       "      <td>0</td>\n",
       "      <td>0</td>\n",
       "      <td>0</td>\n",
       "      <td>0</td>\n",
       "      <td>1</td>\n",
       "      <td>0</td>\n",
       "      <td>0</td>\n",
       "      <td>0</td>\n",
       "    </tr>\n",
       "    <tr>\n",
       "      <th>1267</th>\n",
       "      <td>0.0</td>\n",
       "      <td>5.0</td>\n",
       "      <td>1.0</td>\n",
       "      <td>7.0</td>\n",
       "      <td>2.0</td>\n",
       "      <td>2.0</td>\n",
       "      <td>5.0</td>\n",
       "      <td>5.0</td>\n",
       "      <td>7.0</td>\n",
       "      <td>1.0</td>\n",
       "      <td>...</td>\n",
       "      <td>Não</td>\n",
       "      <td>0</td>\n",
       "      <td>0</td>\n",
       "      <td>0</td>\n",
       "      <td>0</td>\n",
       "      <td>1</td>\n",
       "      <td>1</td>\n",
       "      <td>0</td>\n",
       "      <td>0</td>\n",
       "      <td>2</td>\n",
       "    </tr>\n",
       "  </tbody>\n",
       "</table>\n",
       "<p>961 rows × 80 columns</p>\n",
       "</div>"
      ],
      "text/plain": [
       "       P1   P2   P3   P4   P5   P6   P7   P8   P9  P10  ...  \\\n",
       "0     2.0  7.0  7.0  5.0  4.0  2.0  6.0  7.0  5.0  1.0  ...   \n",
       "1     3.0  2.0  2.0  6.0  4.0  2.0  5.0  1.0  3.0  2.0  ...   \n",
       "2     1.0  7.0  7.0  5.0  4.0  5.0  6.0  6.0  5.0  2.0  ...   \n",
       "3     1.0  3.0  4.0  4.0  6.0  6.0  1.0  7.0  6.0  6.0  ...   \n",
       "4     2.0  7.0  6.0  7.0  3.0  3.0  7.0  6.0  5.0  2.0  ...   \n",
       "...   ...  ...  ...  ...  ...  ...  ...  ...  ...  ...  ...   \n",
       "1263  2.0  3.0  7.0  6.0  6.0  6.0  2.0  4.0  7.0  5.0  ...   \n",
       "1264  1.0  3.0  7.0  7.0  5.0  3.0  6.0  6.0  5.0  2.0  ...   \n",
       "1265  2.0  7.0  6.0  6.0  4.0  5.0  6.0  6.0  5.0  1.0  ...   \n",
       "1266  2.0  3.0  5.0  5.0  6.0  5.0  7.0  6.0  5.0  2.0  ...   \n",
       "1267  0.0  5.0  1.0  7.0  2.0  2.0  5.0  5.0  7.0  1.0  ...   \n",
       "\n",
       "                        Qs  Casado  Divorciado  Separado  Solteiro  Viúvo  A  \\\n",
       "0     Dados para Marketing       1           0         0         0      0  0   \n",
       "1                      NaN       0           0         0         0      1  0   \n",
       "2         Dados para Hotel       1           0         0         0      0  0   \n",
       "3                Marketing       0           1         0         0      0  0   \n",
       "4         Dados para Hotel       1           0         0         0      0  1   \n",
       "...                    ...     ...         ...       ...       ...    ... ..   \n",
       "1263        Pesquisa Hotel       0           0         0         0      1  1   \n",
       "1264              Pesquisa       1           0         0         0      0  1   \n",
       "1265      Dados para Hotel       1           0         0         0      0  1   \n",
       "1266       Coleta de dados       1           0         0         0      0  1   \n",
       "1267                   Não       0           0         0         0      1  1   \n",
       "\n",
       "      B  C  cluster  \n",
       "0     1  0        2  \n",
       "1     1  0        4  \n",
       "2     1  0        2  \n",
       "3     1  0        3  \n",
       "4     0  0        2  \n",
       "...  .. ..      ...  \n",
       "1263  0  0        3  \n",
       "1264  0  0        0  \n",
       "1265  0  0        2  \n",
       "1266  0  0        0  \n",
       "1267  0  0        2  \n",
       "\n",
       "[961 rows x 80 columns]"
      ]
     },
     "execution_count": 51,
     "metadata": {},
     "output_type": "execute_result"
    }
   ],
   "source": [
    "# Removendo os valores Nan das colunas 'P1','P2','Qest','Qclasse' para poder adicionar o labels no dataframe\n",
    "df = df.replace(r'^\\s*$', np.nan, regex=True)\n",
    "df.dropna(subset=['P1','P2','Qest','Qclasse'], inplace=True)\n",
    "\n",
    "# Adicionando uma coluna de clusterização no banco de dados\n",
    "df['cluster'] = labels\n",
    "df"
   ]
  },
  {
   "cell_type": "markdown",
   "id": "64b2a20d",
   "metadata": {},
   "source": [
    "# Analise da clusterização\n",
    "\n",
    "<p>Considerando o Método do Cotovelo e coeficiente de silhueta concluimos que a melhor quantidade de clusters é 5</p>"
   ]
  },
  {
   "cell_type": "code",
   "execution_count": 52,
   "id": "3e632cbe",
   "metadata": {},
   "outputs": [
    {
     "name": "stdout",
     "output_type": "stream",
     "text": [
      "Frequência média do cluster0: 1.304054054054054\n",
      "Frequência média do cluster1: 3.9069767441860463\n",
      "Frequência média do cluster2: 1.3045454545454545\n",
      "Frequência média do cluster3: 1.506276150627615\n",
      "Frequência média do cluster4: 3.8181818181818183\n"
     ]
    }
   ],
   "source": [
    "# Frequência média de viagem de cada cluster\n",
    "for i in range(5):\n",
    "    print('Frequência média do cluster{}: {}'.format(i, clusters[i]['P1'].mean()))"
   ]
  },
  {
   "cell_type": "code",
   "execution_count": 53,
   "id": "5df22e26",
   "metadata": {},
   "outputs": [
    {
     "name": "stdout",
     "output_type": "stream",
     "text": [
      "Estadia média do cluster0: 3.3986486486486487\n",
      "Estadia média do cluster1: 1.6046511627906976\n",
      "Estadia média do cluster2: 3.4727272727272727\n",
      "Estadia média do cluster3: 6.0\n",
      "Estadia média do cluster4: 1.5324675324675325\n"
     ]
    }
   ],
   "source": [
    "# Estadia média de cada cluster\n",
    "for i in range(5):\n",
    "    print('Estadia média do cluster{}: {}'.format(i, clusters[i]['Qest'].mean()))"
   ]
  },
  {
   "cell_type": "code",
   "execution_count": 54,
   "id": "4e2f8054",
   "metadata": {},
   "outputs": [
    {
     "name": "stdout",
     "output_type": "stream",
     "text": [
      "Classe do cluster0: 1.4966216216216217\n",
      "Classe do cluster1: 2.062015503875969\n",
      "Classe do cluster2: 1.3818181818181818\n",
      "Classe do cluster3: 1.2384937238493723\n",
      "Classe do cluster4: 1.974025974025974\n"
     ]
    }
   ],
   "source": [
    "# Classe de cada cluster (se é mais alta ou mais baixa)\n",
    "for i in range(5):\n",
    "    print('Classe do cluster{}: {}'.format(i, clusters[i]['Qclasse'].mean()))"
   ]
  },
  {
   "cell_type": "markdown",
   "id": "5736985d",
   "metadata": {},
   "source": [
    "Após analisar os resultados da clusterização encontramos duas possiblidades de investimento diferentes e destacaram-se os clusters 1, 3 e 4. Primeiramente, percebemos que os clusters 1 e 4 eram muito semelhantes considerando a frequência média, a estadia média e a classe social. "
   ]
  },
  {
   "cell_type": "code",
   "execution_count": 55,
   "id": "c1a92bb6",
   "metadata": {},
   "outputs": [
    {
     "data": {
      "text/html": [
       "<div>\n",
       "<style scoped>\n",
       "    .dataframe tbody tr th:only-of-type {\n",
       "        vertical-align: middle;\n",
       "    }\n",
       "\n",
       "    .dataframe tbody tr th {\n",
       "        vertical-align: top;\n",
       "    }\n",
       "\n",
       "    .dataframe thead th {\n",
       "        text-align: right;\n",
       "    }\n",
       "</style>\n",
       "<table border=\"1\" class=\"dataframe\">\n",
       "  <thead>\n",
       "    <tr style=\"text-align: right;\">\n",
       "      <th></th>\n",
       "      <th>P2</th>\n",
       "    </tr>\n",
       "  </thead>\n",
       "  <tbody>\n",
       "    <tr>\n",
       "      <th>5.0</th>\n",
       "      <td>117</td>\n",
       "    </tr>\n",
       "    <tr>\n",
       "      <th>4.0</th>\n",
       "      <td>6</td>\n",
       "    </tr>\n",
       "    <tr>\n",
       "      <th>7.0</th>\n",
       "      <td>3</td>\n",
       "    </tr>\n",
       "    <tr>\n",
       "      <th>6.0</th>\n",
       "      <td>3</td>\n",
       "    </tr>\n",
       "  </tbody>\n",
       "</table>\n",
       "</div>"
      ],
      "text/plain": [
       "      P2\n",
       "5.0  117\n",
       "4.0    6\n",
       "7.0    3\n",
       "6.0    3"
      ]
     },
     "execution_count": 55,
     "metadata": {},
     "output_type": "execute_result"
    }
   ],
   "source": [
    "# Motivo da viagem do cluster1\n",
    "tab = cluster1['P2'].value_counts(sort=False)\n",
    "tab.to_frame()"
   ]
  },
  {
   "cell_type": "code",
   "execution_count": 56,
   "id": "d49baa19",
   "metadata": {},
   "outputs": [
    {
     "data": {
      "text/html": [
       "<div>\n",
       "<style scoped>\n",
       "    .dataframe tbody tr th:only-of-type {\n",
       "        vertical-align: middle;\n",
       "    }\n",
       "\n",
       "    .dataframe tbody tr th {\n",
       "        vertical-align: top;\n",
       "    }\n",
       "\n",
       "    .dataframe thead th {\n",
       "        text-align: right;\n",
       "    }\n",
       "</style>\n",
       "<table border=\"1\" class=\"dataframe\">\n",
       "  <thead>\n",
       "    <tr style=\"text-align: right;\">\n",
       "      <th></th>\n",
       "      <th>P2</th>\n",
       "    </tr>\n",
       "  </thead>\n",
       "  <tbody>\n",
       "    <tr>\n",
       "      <th>3.0</th>\n",
       "      <td>128</td>\n",
       "    </tr>\n",
       "    <tr>\n",
       "      <th>2.0</th>\n",
       "      <td>111</td>\n",
       "    </tr>\n",
       "  </tbody>\n",
       "</table>\n",
       "</div>"
      ],
      "text/plain": [
       "      P2\n",
       "3.0  128\n",
       "2.0  111"
      ]
     },
     "execution_count": 56,
     "metadata": {},
     "output_type": "execute_result"
    }
   ],
   "source": [
    "# Motivo da viagem do cluster3\n",
    "tab = cluster3['P2'].value_counts(sort=False)\n",
    "tab.to_frame()"
   ]
  }
 ],
 "metadata": {
  "kernelspec": {
   "display_name": "Python 3 (ipykernel)",
   "language": "python",
   "name": "python3"
  },
  "language_info": {
   "codemirror_mode": {
    "name": "ipython",
    "version": 3
   },
   "file_extension": ".py",
   "mimetype": "text/x-python",
   "name": "python",
   "nbconvert_exporter": "python",
   "pygments_lexer": "ipython3",
   "version": "3.9.12"
  }
 },
 "nbformat": 4,
 "nbformat_minor": 5
}
