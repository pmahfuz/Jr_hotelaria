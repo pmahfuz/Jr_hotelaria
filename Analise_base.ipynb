{
 "cells": [
  {
   "cell_type": "markdown",
   "id": "b0e805a4",
   "metadata": {},
   "source": [
    "\n",
    "\n",
    "<div>\n",
    "  <img src=\"imagens/logo_jr.png\" width=\"100\" height=\"75\" style=\"float:right\">\n",
    "  <h1>Código para análise da base de dados</h1>\n",
    "    <p>Autores: Luigi Orlandi, Pedro Mahfuz, Theo Decourt</p>\n",
    "</div>"
   ]
  },
  {
   "cell_type": "code",
   "execution_count": 1,
   "id": "54f76acb",
   "metadata": {},
   "outputs": [],
   "source": [
    "# Importando Bibliotecas\n",
    "import pathlib\n",
    "import pandas as pd\n",
    "import matplotlib.pyplot as plt\n",
    "import seaborn as sns\n",
    "import numpy as np\n",
    "from sklearn.datasets import load_iris\n",
    "from sklearn.cluster import KMeans"
   ]
  },
  {
   "cell_type": "markdown",
   "id": "5a05c34d",
   "metadata": {},
   "source": [
    "# Abrindo a base de dados\n"
   ]
  },
  {
   "cell_type": "code",
   "execution_count": 2,
   "id": "c2290abc",
   "metadata": {},
   "outputs": [],
   "source": [
    "# Leitura do arquivo .xlsx\n",
    "filename = pathlib.Path.cwd() / 'Base_MindMiners.xlsx'\n",
    "db = pd.read_excel('Base_MindMiners.xlsx')\n",
    "\n",
    "# Segunda tabela com respostas\n",
    "df = pd.read_excel('Base_MindMiners.xlsx', sheet_name='Pesquisa-Respostas')"
   ]
  },
  {
   "cell_type": "markdown",
   "id": "0732f4af",
   "metadata": {},
   "source": [
    "# Limpeza da base de dados"
   ]
  },
  {
   "cell_type": "markdown",
   "id": "b24e6845",
   "metadata": {},
   "source": [
    "### Removendo colunas vazias e normalizando indexes"
   ]
  },
  {
   "cell_type": "code",
   "execution_count": 3,
   "id": "e3251574",
   "metadata": {},
   "outputs": [],
   "source": [
    "# Remover as colunas com índices 'Unnamed'\n",
    "df = df.drop(columns=[coluna for coluna in df.columns if coluna.startswith('Unnamed:')])"
   ]
  },
  {
   "cell_type": "code",
   "execution_count": 4,
   "id": "5fa71b3b",
   "metadata": {},
   "outputs": [],
   "source": [
    "# Usando a função split para remover espaços nos indexes das colunas\n",
    "df.columns = df.columns.str.strip()"
   ]
  },
  {
   "cell_type": "code",
   "execution_count": 5,
   "id": "f6ac0845",
   "metadata": {},
   "outputs": [
    {
     "name": "stderr",
     "output_type": "stream",
     "text": [
      "<ipython-input-5-99a3ba088efe>:2: FutureWarning: The default value of regex will change from True to False in a future version. In addition, single character regular expressions will *not* be treated as literal strings when regex=True.\n",
      "  df.columns = df.columns.str.replace(\".\", \"\")\n"
     ]
    }
   ],
   "source": [
    "# # Usando a função str.replace para remover \".\" dos indexes das colunas\n",
    "df.columns = df.columns.str.replace(\".\", \"\")"
   ]
  },
  {
   "cell_type": "markdown",
   "id": "17933869",
   "metadata": {},
   "source": [
    "### Removendo conteudo indesejado das colunas\n"
   ]
  },
  {
   "cell_type": "code",
   "execution_count": 6,
   "id": "3e7eb97c",
   "metadata": {},
   "outputs": [],
   "source": [
    "# Lista com todas as colunas\n",
    "nomes = list(df)"
   ]
  },
  {
   "cell_type": "code",
   "execution_count": 7,
   "id": "919cd54f",
   "metadata": {},
   "outputs": [],
   "source": [
    "# Primeria coluna\n",
    "df.loc[~df.loc[:, nomes[0]].isin(range(1,6)), nomes[0]] = None"
   ]
  },
  {
   "cell_type": "code",
   "execution_count": 8,
   "id": "3dc609df",
   "metadata": {},
   "outputs": [],
   "source": [
    "# Seguna coluna\n",
    "df.loc[~df.loc[:, nomes[1]].isin(range(1,9)), nomes[1]] = None"
   ]
  },
  {
   "cell_type": "code",
   "execution_count": 9,
   "id": "225c7e7f",
   "metadata": {},
   "outputs": [],
   "source": [
    "# Coluna 3 a 58\n",
    "for coluna in range(2, 58):\n",
    "    df.loc[~df.loc[:, nomes[coluna]].isin(range(1,8)), nomes[coluna]] = None"
   ]
  },
  {
   "cell_type": "code",
   "execution_count": 10,
   "id": "f45c5fd7",
   "metadata": {},
   "outputs": [],
   "source": [
    "# Coluna Qesc\n",
    "df.loc[~df.loc[:, nomes[58]].isin(range(1,7)), nomes[58]] = None"
   ]
  },
  {
   "cell_type": "code",
   "execution_count": 11,
   "id": "a55af90c",
   "metadata": {},
   "outputs": [],
   "source": [
    "# Coluna Qnat\n",
    "df.loc[~df.loc[:, nomes[60]].isin(range(0,6)), nomes[60]] = None"
   ]
  },
  {
   "cell_type": "code",
   "execution_count": 12,
   "id": "7c28427f",
   "metadata": {},
   "outputs": [],
   "source": [
    "# Coluna Qcama\n",
    "df.loc[~df.loc[:, nomes[62]].isin(range(0,5)), nomes[62]] = None"
   ]
  },
  {
   "cell_type": "code",
   "execution_count": 13,
   "id": "adf0a4e0",
   "metadata": {},
   "outputs": [],
   "source": [
    "# Coluna Qche\n",
    "lista_quinta_feira = [\"Quinta-Feira\", \"Quinta Feira\", \"quinta-Feira\", \"quintaFeira\"]\n",
    "df.loc[df.loc[:, nomes[64]].isin(lista_quinta_feira), nomes[64]] = 'Quinta-Feira'"
   ]
  },
  {
   "cell_type": "markdown",
   "id": "df75f4a8",
   "metadata": {},
   "source": [
    "# Primeira análise dos dados"
   ]
  },
  {
   "cell_type": "markdown",
   "id": "a3819eae",
   "metadata": {},
   "source": [
    "### Preparando o banco de dados para a análise exploratória"
   ]
  },
  {
   "cell_type": "code",
   "execution_count": 14,
   "id": "b8331258",
   "metadata": {},
   "outputs": [],
   "source": [
    "# Criando uma copia do banco de dados original para fazer a análise exploratória\n",
    "df_ae = df.copy()"
   ]
  },
  {
   "cell_type": "code",
   "execution_count": 15,
   "id": "0e6e53a1",
   "metadata": {},
   "outputs": [],
   "source": [
    "# Frequência de viagem\n",
    "df_ae['P1'] = df_ae['P1'].astype('category')\n",
    "df_ae['P1'].cat.categories = ['1 a 3', '4 a 6', '7 a 10', '10+', 'Não Viaja']\n",
    "\n",
    "# Faixa etaria\n",
    "df_ae['Qid'] = df_ae['Qid'].astype('category')\n",
    "df_ae['Qid'].cat.categories = ['18-', '18 a 24', '25 a 34', '35 a 44', '45 a 54', '55+']\n",
    "\n",
    "# Escolaridade\n",
    "df_ae['Qesc'] = df_ae['Qesc'].astype(float)\n",
    "\n",
    "# Numero de filhos\n",
    "df_ae['Qnat'] = df_ae['Qnat'].astype(float)\n",
    "\n",
    "# Regiao\n",
    "df_ae['Qreg'] = df_ae['Qreg'].astype('category')\n",
    "df_ae['Qreg'].cat.categories = ['Sudeste', 'Sul', 'Centro Oeste', 'Nordeste', 'Norte']\n",
    "\n",
    "# Gênero\n",
    "df_ae['Qgen'] = df_ae['Qgen'].astype('category')\n",
    "df_ae['Qgen'].cat.categories = ['Masculino', 'Feminino']\n",
    "\n",
    "# Número de filhos\n",
    "df_ae['Qnat'] = df_ae['Qnat'].astype(float)\n",
    "\n",
    "# Motivo viagem\n",
    "df_ae['P2'] = df_ae['P2'].astype('category')\n",
    "df_ae['P2'].cat.categories = ['Visitar amigos', 'Visitar familia', 'Lazer', 'Pesquisa Ciêntifica', 'Trabalho', 'Viagem gastronomica', 'Desconectar'] \n"
   ]
  },
  {
   "cell_type": "code",
   "execution_count": 16,
   "id": "0b82c347",
   "metadata": {},
   "outputs": [],
   "source": [
    "# Separamos as colunas que acreditamos serem as mais importantes para definir o público-alvo¶\n",
    "# Exclamações indicam as variáveis que consideramos mais importantes\n",
    "\n",
    "freq_de_viagem = df_ae['P1'] # qualitativa   !!!!!\n",
    "faixa_etaria = df_ae['Qid'] # qualitativa \n",
    "nivel_escolaridade = df_ae['Qesc'] # qualitativa\n",
    "motivo_viagem = df_ae['P2'] # qualitativa    !!!!!\n",
    "classe = df_ae['Qclasse'] # qualitativa  !!!!!\n",
    "genero = df_ae['Qgen'] # qualitativa\n",
    "estado_civil = df_ae['Qciv'] # qualitativa\n",
    "filhos = df_ae['Qnat'] # quantitativa\n",
    "estadia_media = df_ae['Qest'] # quantitativa   !!!!!\n",
    "regiao = df_ae['Qreg'] # qualitativa\n",
    "\n",
    "#quantitativa e qualitativa --> histograma e boxplot\n",
    "#qualitativa e qualitativa --> tabela cruzada e grafico de barra\n",
    "#quantitativa e quantitativa --> gráfico de dispersão"
   ]
  },
  {
   "cell_type": "markdown",
   "id": "0c14773c",
   "metadata": {},
   "source": [
    "# Análise exploratória\n",
    "<p> Nossa ideia inicial é ver qual é o \"tipo de pessoa\" que viaja com mais frequência. Além disso, fizemos algumas outras análises para obter informações importantes a respeito do banco de dados. Assim seria possível entender melhor os dados antes de iniciar o processo de clusterização</p>"
   ]
  },
  {
   "cell_type": "code",
   "execution_count": 67,
   "id": "1cd90e43",
   "metadata": {},
   "outputs": [],
   "source": [
    "# Definindo as cores\n",
    "cores = ['lightcoral', 'yellow', 'darkgoldenrod', 'limegreen', 'dodgerblue', 'purple', 'red']\n",
    "cores2 = [ 'pink', 'blue', 'yellow']\n",
    "cores3 = ['orange']"
   ]
  },
  {
   "cell_type": "markdown",
   "id": "091aadac",
   "metadata": {},
   "source": [
    "## Gráfico de barras de frequência de viagem por faixa etária"
   ]
  },
  {
   "cell_type": "code",
   "execution_count": 18,
   "id": "93e900ba",
   "metadata": {},
   "outputs": [
    {
     "data": {
      "image/png": "[encoded data removed]",
      "text/plain": [
       "<Figure size 432x288 with 1 Axes>"
      ]
     },
     "metadata": {
      "needs_background": "light"
     },
     "output_type": "display_data"
    }
   ],
   "source": [
    "freq_x_idade = pd.crosstab(freq_de_viagem, faixa_etaria, normalize = 'columns', margins = True).round(3)*100\n",
    "\n",
    "freq_x_idade.plot.bar(color = cores)\n",
    "plt.title('Frequência de viagem por faixa etária')\n",
    "plt.ylabel('Frequência relativa (%)')\n",
    "plt.xlabel('Frequência de viagem')\n",
    "plt.show()"
   ]
  },
  {
   "cell_type": "markdown",
   "id": "36379604",
   "metadata": {},
   "source": [
    "## Boxplot da frequência de viagem pela estadia média"
   ]
  },
  {
   "cell_type": "code",
   "execution_count": 68,
   "id": "bfa024bb",
   "metadata": {
    "scrolled": true
   },
   "outputs": [
    {
     "data": {
      "image/png": "[encoded data removed]",
      "text/plain": [
       "<Figure size 1296x576 with 1 Axes>"
      ]
     },
     "metadata": {
      "needs_background": "light"
     },
     "output_type": "display_data"
    }
   ],
   "source": [
    "plt.figure(figsize=(18,8))\n",
    "\n",
    "sns.boxplot(x=freq_de_viagem,                                              # Eixo X receberá os grupos.\n",
    "            y=estadia_media,                                                   # Hue colore o gráfico de acordo com outra variável categórica\n",
    "                                                                             # neste caso o gênero\n",
    "            palette=cores3,                                              # Paleta de cores neste caos 'm', magenta e 'g' verde\n",
    "                                                                             # no eixo X.\n",
    "            data=df_ae)                                                       # Dados\n",
    "\n",
    "plt.title('Frequência de viagem por estadia média')\n",
    "plt.xlabel('Frequência de viagem')\n",
    "plt.ylabel('Estadia média')\n",
    "sns.despine(offset=10, trim=True)"
   ]
  },
  {
   "cell_type": "markdown",
   "id": "aca19c63",
   "metadata": {},
   "source": [
    "Esse boxplot mostra que pessoas que viajam menos vezes por ano tem uma estadia média maior do que pessoas que viajam mais vezes por ano. Com isso, já é possível sondar doios tipos de personas."
   ]
  },
  {
   "cell_type": "markdown",
   "id": "96120385",
   "metadata": {},
   "source": [
    "## Gráfico de barras de frequência de viagem por região"
   ]
  },
  {
   "cell_type": "code",
   "execution_count": 20,
   "id": "a7867f11",
   "metadata": {},
   "outputs": [
    {
     "data": {
      "image/png": "[encoded data removed]",
      "text/plain": [
       "<Figure size 432x288 with 1 Axes>"
      ]
     },
     "metadata": {
      "needs_background": "light"
     },
     "output_type": "display_data"
    }
   ],
   "source": [
    "freq_x_regiao = pd.crosstab(freq_de_viagem, regiao, normalize = 'columns', margins = True).round(3)*100\n",
    "\n",
    "freq_x_regiao.plot.bar(color = cores)\n",
    "plt.title('Frequência de viagem por região')\n",
    "plt.ylabel('Frequência relativa (%)')\n",
    "plt.xlabel('Frequência de viagem')\n",
    "plt.show()"
   ]
  },
  {
   "cell_type": "markdown",
   "id": "f1effed2",
   "metadata": {},
   "source": [
    "## Gráfico de barras de frequência de viagem por gênero"
   ]
  },
  {
   "cell_type": "code",
   "execution_count": 29,
   "id": "97b05934",
   "metadata": {},
   "outputs": [
    {
     "data": {
      "image/png": "[encoded data removed]",
      "text/plain": [
       "<Figure size 432x288 with 1 Axes>"
      ]
     },
     "metadata": {
      "needs_background": "light"
     },
     "output_type": "display_data"
    }
   ],
   "source": [
    "freq_x_gen = pd.crosstab(freq_de_viagem, genero, normalize = 'columns', margins = True).round(3)*100\n",
    "\n",
    "freq_x_gen.plot.bar(color = cores2)\n",
    "plt.title('Frequência de viagem por gênero')\n",
    "plt.ylabel('Frequência relativa (%)') #Frequência absoluta já que o número de homens e mulheres é muito parecido\n",
    "plt.xlabel('Frequência de viagem')\n",
    "plt.show()"
   ]
  },
  {
   "cell_type": "markdown",
   "id": "83214fba",
   "metadata": {},
   "source": [
    "Nesse gráfico de barras é possível perceber o genêro não é muito significante ao analisar a frequência de viagem já que em todos os intervalos de frequência os gêneros estão distribuidos quase igualmente."
   ]
  },
  {
   "cell_type": "markdown",
   "id": "760c3048",
   "metadata": {},
   "source": [
    "# Gráfico de barras de frequência de viagem por classe"
   ]
  },
  {
   "cell_type": "code",
   "execution_count": 28,
   "id": "460e1dd3",
   "metadata": {},
   "outputs": [
    {
     "data": {
      "image/png": "[encoded data removed]",
      "text/plain": [
       "<Figure size 432x288 with 1 Axes>"
      ]
     },
     "metadata": {
      "needs_background": "light"
     },
     "output_type": "display_data"
    }
   ],
   "source": [
    "freq_x_classe = pd.crosstab(freq_de_viagem, classe, normalize = 'columns', margins = True).round(3)*100\n",
    "\n",
    "freq_x_classe.plot.bar(color = cores)\n",
    "plt.title('Frequência de viagem por classe')\n",
    "plt.ylabel('Frequência relativa (%)\n",
    "           ') #Frequência absoluta já que o número de homens e mulheres é muito parecido\n",
    "plt.xlabel('Frequência de viagem')\n",
    "plt.show()"
   ]
  },
  {
   "cell_type": "markdown",
   "id": "f31d9b11",
   "metadata": {},
   "source": [
    "Nesse gráfico, o que mais chama a atenção é a alta frequência de viagem da classe B no intervalo de 10+. Enquanto isso, a classe A se destaca no intervalo de 4 a 6."
   ]
  },
  {
   "cell_type": "markdown",
   "id": "9bc3d964",
   "metadata": {},
   "source": [
    "## Boxplot da frequência de viagem pelo numero de filhos"
   ]
  },
  {
   "cell_type": "code",
   "execution_count": 23,
   "id": "f5ece0ad",
   "metadata": {},
   "outputs": [
    {
     "data": {
      "image/png": "[encoded data removed]",
      "text/plain": [
       "<Figure size 1296x576 with 1 Axes>"
      ]
     },
     "metadata": {
      "needs_background": "light"
     },
     "output_type": "display_data"
    }
   ],
   "source": [
    "plt.figure(figsize=(18,8))\n",
    "\n",
    "sns.boxplot(x=freq_de_viagem,                                              # Eixo X receberá os grupos.\n",
    "            y=filhos,                                                   # Hue colore o gráfico de acordo com outra variável categórica\n",
    "                                                                             # neste caso o gênero\n",
    "            palette=cores,                                              # Paleta de cores neste caos 'm', magenta e 'g' verde\n",
    "                                                                             # no eixo X.\n",
    "            data=df_ae)                                                       # Dados\n",
    "\n",
    "plt.title('Frequência de viagem por número de filhos')\n",
    "plt.xlabel('Frequência de viagem')\n",
    "plt.ylabel('Número de filhos')\n",
    "sns.despine(offset=10, trim=True)"
   ]
  },
  {
   "cell_type": "markdown",
   "id": "ab0207a7",
   "metadata": {},
   "source": [
    "#### Para as seguintes análises decidimos criar um dataframe novo apenas com as famílias, ou seja, com as pessoas casadas que tem pelo menos um filho, e outro dataframe com as pessoas que não são casadas"
   ]
  },
  {
   "cell_type": "code",
   "execution_count": 24,
   "id": "0ff6ad37",
   "metadata": {},
   "outputs": [],
   "source": [
    "df_familia = df_ae.copy()\n",
    "\n",
    "# Filtrando apenas as familias\n",
    "casados = df_ae['Qciv'] == 'Casado'\n",
    "filhos = df_ae['Qnat'].isin(range(1,6))\n",
    "\n",
    "# Criando um banco de dados apenas com as familias\n",
    "df_familia = df_familia.loc[casados & filhos, :]\n"
   ]
  },
  {
   "cell_type": "code",
   "execution_count": 25,
   "id": "00065c71",
   "metadata": {},
   "outputs": [],
   "source": [
    "df_nao_familia = df_ae.copy()\n",
    "\n",
    "# # Filtrando apenas as \"não familias\"\n",
    "nao_casados = df_ae['Qciv'] != 'Casado'\n",
    "\n",
    "# Criando um banco de dados apenas com as \"não familias\"\n",
    "df_nao_familia = df_ae.loc[nao_casados, :]\n"
   ]
  },
  {
   "cell_type": "code",
   "execution_count": 26,
   "id": "d78cf12d",
   "metadata": {},
   "outputs": [
    {
     "name": "stdout",
     "output_type": "stream",
     "text": [
      "     Estadia_familia  Estadia_nao_familia\n",
      "1.0             8.86                16.80\n",
      "2.0             5.06                17.97\n",
      "3.0            40.51                11.52\n",
      "4.0            39.87                12.30\n",
      "6.0             5.70                41.41\n"
     ]
    },
    {
     "name": "stderr",
     "output_type": "stream",
     "text": [
      "<ipython-input-26-1fb8e2d7ffd1>:5: SettingWithCopyWarning: \n",
      "A value is trying to be set on a copy of a slice from a DataFrame.\n",
      "Try using .loc[row_indexer,col_indexer] = value instead\n",
      "\n",
      "See the caveats in the documentation: https://pandas.pydata.org/pandas-docs/stable/user_guide/indexing.html#returning-a-view-versus-a-copy\n",
      "  df_nao_familia['Estadia_nao_familia'] = df_nao_familia['Qest']\n"
     ]
    }
   ],
   "source": [
    "# Tempo de estadia, em porcentagem, de uma familia e de uma \"não familia\"\n",
    "\n",
    "df_familia['Estadia_familia'] = df_familia['Qest'] #essa mudanca de nome esta causando o erro\n",
    "estadia_familia = (df_familia['Estadia_familia'].value_counts(sort=False, normalize=True).round(4)*100).to_frame()\n",
    "df_nao_familia['Estadia_nao_familia'] = df_nao_familia['Qest']\n",
    "estadia_nao_familia = (df_nao_familia['Estadia_nao_familia'].value_counts(sort=False, normalize=True).round(4)*100).to_frame()\n",
    "\n",
    "Qest_familia_x_naofamilia = pd.concat([estadia_familia, estadia_nao_familia], axis=1)\n",
    "print(Qest_familia_x_naofamilia)"
   ]
  },
  {
   "cell_type": "code",
   "execution_count": 27,
   "id": "caa7fec0",
   "metadata": {},
   "outputs": [
    {
     "name": "stdout",
     "output_type": "stream",
     "text": [
      "           Frequencia_familia  Frequencia_nao_familia\n",
      "1 a 3                   56.13                   41.43\n",
      "4 a 6                   29.03                   24.29\n",
      "7 a 10                   1.61                    2.04\n",
      "10+                     11.61                   30.20\n",
      "Não Viaja                1.61                    2.04\n"
     ]
    },
    {
     "name": "stderr",
     "output_type": "stream",
     "text": [
      "<ipython-input-27-5335c68039fe>:5: SettingWithCopyWarning: \n",
      "A value is trying to be set on a copy of a slice from a DataFrame.\n",
      "Try using .loc[row_indexer,col_indexer] = value instead\n",
      "\n",
      "See the caveats in the documentation: https://pandas.pydata.org/pandas-docs/stable/user_guide/indexing.html#returning-a-view-versus-a-copy\n",
      "  df_nao_familia['Frequencia_nao_familia'] = df_nao_familia['P1']\n"
     ]
    }
   ],
   "source": [
    "# Frequência de viagem, em porcentagem, de uma familia e de uma \"não familia\"\n",
    "\n",
    "df_familia['Frequencia_familia'] = df_familia['P1']\n",
    "frequencia_familia = (df_familia['Frequencia_familia'].value_counts(sort=False, normalize=True).round(4)*100).to_frame()\n",
    "df_nao_familia['Frequencia_nao_familia'] = df_nao_familia['P1']\n",
    "frequencia_nao_familia = (df_nao_familia['Frequencia_nao_familia'].value_counts(sort=False, normalize=True).round(4)*100).to_frame()\n",
    "\n",
    "freq_familia_x_naofamilia = pd.concat([frequencia_familia, frequencia_nao_familia], axis=1)\n",
    "print(freq_familia_x_naofamilia)"
   ]
  },
  {
   "cell_type": "markdown",
   "id": "5add0f4b",
   "metadata": {},
   "source": [
    "Aqui é possível observar que, em geral, as famílias viajam menos vezes que as não famílias"
   ]
  },
  {
   "cell_type": "markdown",
   "id": "69ab4d94",
   "metadata": {},
   "source": [
    "#### Por último fizemos uma análise do motivo da viagem "
   ]
  },
  {
   "cell_type": "code",
   "execution_count": 30,
   "id": "d30fc3c8",
   "metadata": {},
   "outputs": [
    {
     "data": {
      "text/html": [
       "<div>\n",
       "<style scoped>\n",
       "    .dataframe tbody tr th:only-of-type {\n",
       "        vertical-align: middle;\n",
       "    }\n",
       "\n",
       "    .dataframe tbody tr th {\n",
       "        vertical-align: top;\n",
       "    }\n",
       "\n",
       "    .dataframe thead th {\n",
       "        text-align: right;\n",
       "    }\n",
       "</style>\n",
       "<table border=\"1\" class=\"dataframe\">\n",
       "  <thead>\n",
       "    <tr style=\"text-align: right;\">\n",
       "      <th></th>\n",
       "      <th>Motivo_viagem</th>\n",
       "    </tr>\n",
       "  </thead>\n",
       "  <tbody>\n",
       "    <tr>\n",
       "      <th>Visitar amigos</th>\n",
       "      <td>2.62</td>\n",
       "    </tr>\n",
       "    <tr>\n",
       "      <th>Visitar familia</th>\n",
       "      <td>18.35</td>\n",
       "    </tr>\n",
       "    <tr>\n",
       "      <th>Lazer</th>\n",
       "      <td>41.94</td>\n",
       "    </tr>\n",
       "    <tr>\n",
       "      <th>Pesquisa Ciêntifica</th>\n",
       "      <td>1.41</td>\n",
       "    </tr>\n",
       "    <tr>\n",
       "      <th>Trabalho</th>\n",
       "      <td>12.40</td>\n",
       "    </tr>\n",
       "    <tr>\n",
       "      <th>Viagem gastronomica</th>\n",
       "      <td>1.21</td>\n",
       "    </tr>\n",
       "    <tr>\n",
       "      <th>Desconectar</th>\n",
       "      <td>22.08</td>\n",
       "    </tr>\n",
       "  </tbody>\n",
       "</table>\n",
       "</div>"
      ],
      "text/plain": [
       "                     Motivo_viagem\n",
       "Visitar amigos                2.62\n",
       "Visitar familia              18.35\n",
       "Lazer                        41.94\n",
       "Pesquisa Ciêntifica           1.41\n",
       "Trabalho                     12.40\n",
       "Viagem gastronomica           1.21\n",
       "Desconectar                  22.08"
      ]
     },
     "execution_count": 30,
     "metadata": {},
     "output_type": "execute_result"
    }
   ],
   "source": [
    "# Motivo da viagem em porcentagem\n",
    "\n",
    "df_ae['Motivo_viagem'] = df_ae['P2']\n",
    "(df_ae['Motivo_viagem'].value_counts(sort=False, normalize=True).round(4)*100).to_frame()"
   ]
  },
  {
   "cell_type": "markdown",
   "id": "208b5df5",
   "metadata": {},
   "source": [
    "Aqui, observamos que os prícipais motivos estavam relacionados com lazer, desconectar e visitar familia. Esses, estão relacionados com passatempo e entreterimento."
   ]
  },
  {
   "cell_type": "markdown",
   "id": "d22d1bcd",
   "metadata": {},
   "source": [
    "# Clusterização"
   ]
  },
  {
   "cell_type": "code",
   "execution_count": 37,
   "id": "c8858e8a",
   "metadata": {},
   "outputs": [
    {
     "data": {
      "text/html": [
       "<div>\n",
       "<style scoped>\n",
       "    .dataframe tbody tr th:only-of-type {\n",
       "        vertical-align: middle;\n",
       "    }\n",
       "\n",
       "    .dataframe tbody tr th {\n",
       "        vertical-align: top;\n",
       "    }\n",
       "\n",
       "    .dataframe thead th {\n",
       "        text-align: right;\n",
       "    }\n",
       "</style>\n",
       "<table border=\"1\" class=\"dataframe\">\n",
       "  <thead>\n",
       "    <tr style=\"text-align: right;\">\n",
       "      <th></th>\n",
       "      <th>P1</th>\n",
       "      <th>P2</th>\n",
       "      <th>P3</th>\n",
       "      <th>P4</th>\n",
       "      <th>P5</th>\n",
       "      <th>P6</th>\n",
       "      <th>P7</th>\n",
       "      <th>P8</th>\n",
       "      <th>P9</th>\n",
       "      <th>P10</th>\n",
       "      <th>...</th>\n",
       "      <th>Qtipcama</th>\n",
       "      <th>Qcama</th>\n",
       "      <th>Qest</th>\n",
       "      <th>Qche</th>\n",
       "      <th>Qocup</th>\n",
       "      <th>Qid</th>\n",
       "      <th>Qgen</th>\n",
       "      <th>Qreg</th>\n",
       "      <th>Qclasse</th>\n",
       "      <th>Qs</th>\n",
       "    </tr>\n",
       "  </thead>\n",
       "  <tbody>\n",
       "    <tr>\n",
       "      <th>0</th>\n",
       "      <td>2.0</td>\n",
       "      <td>7</td>\n",
       "      <td>7.0</td>\n",
       "      <td>5.0</td>\n",
       "      <td>4</td>\n",
       "      <td>2</td>\n",
       "      <td>6</td>\n",
       "      <td>7.0</td>\n",
       "      <td>5</td>\n",
       "      <td>1.0</td>\n",
       "      <td>...</td>\n",
       "      <td>Viuvo</td>\n",
       "      <td>1.0</td>\n",
       "      <td>4.0</td>\n",
       "      <td>Sábado</td>\n",
       "      <td>2.0</td>\n",
       "      <td>6.0</td>\n",
       "      <td>1.0</td>\n",
       "      <td>2.0</td>\n",
       "      <td>2.0</td>\n",
       "      <td>Dados para Marketing</td>\n",
       "    </tr>\n",
       "    <tr>\n",
       "      <th>1</th>\n",
       "      <td>3.0</td>\n",
       "      <td>2</td>\n",
       "      <td>2.0</td>\n",
       "      <td>6.0</td>\n",
       "      <td>4</td>\n",
       "      <td>2</td>\n",
       "      <td>5</td>\n",
       "      <td>1.0</td>\n",
       "      <td>3</td>\n",
       "      <td>2.0</td>\n",
       "      <td>...</td>\n",
       "      <td>Solteiro</td>\n",
       "      <td>1.0</td>\n",
       "      <td>1.0</td>\n",
       "      <td>Quinta-Feira</td>\n",
       "      <td>2.0</td>\n",
       "      <td>6.0</td>\n",
       "      <td>1.0</td>\n",
       "      <td>5.0</td>\n",
       "      <td>2.0</td>\n",
       "      <td>NaN</td>\n",
       "    </tr>\n",
       "    <tr>\n",
       "      <th>2</th>\n",
       "      <td>1.0</td>\n",
       "      <td>7</td>\n",
       "      <td>7.0</td>\n",
       "      <td>5.0</td>\n",
       "      <td>4</td>\n",
       "      <td>5</td>\n",
       "      <td>6</td>\n",
       "      <td>6.0</td>\n",
       "      <td>5</td>\n",
       "      <td>2.0</td>\n",
       "      <td>...</td>\n",
       "      <td>Viuvo</td>\n",
       "      <td>1.0</td>\n",
       "      <td>3.0</td>\n",
       "      <td>Sábado</td>\n",
       "      <td>3.0</td>\n",
       "      <td>4.0</td>\n",
       "      <td>1.0</td>\n",
       "      <td>2.0</td>\n",
       "      <td>2.0</td>\n",
       "      <td>Dados para Hotel</td>\n",
       "    </tr>\n",
       "    <tr>\n",
       "      <th>3</th>\n",
       "      <td>1.0</td>\n",
       "      <td>3</td>\n",
       "      <td>4.0</td>\n",
       "      <td>4.0</td>\n",
       "      <td>6</td>\n",
       "      <td>6</td>\n",
       "      <td>1</td>\n",
       "      <td>7.0</td>\n",
       "      <td>6</td>\n",
       "      <td>6.0</td>\n",
       "      <td>...</td>\n",
       "      <td>Casado</td>\n",
       "      <td>1.0</td>\n",
       "      <td>6.0</td>\n",
       "      <td>Terça-Feira</td>\n",
       "      <td>3.0</td>\n",
       "      <td>1.0</td>\n",
       "      <td>2.0</td>\n",
       "      <td>2.0</td>\n",
       "      <td>2.0</td>\n",
       "      <td>Marketing</td>\n",
       "    </tr>\n",
       "    <tr>\n",
       "      <th>4</th>\n",
       "      <td>2.0</td>\n",
       "      <td>7</td>\n",
       "      <td>6.0</td>\n",
       "      <td>7.0</td>\n",
       "      <td>3</td>\n",
       "      <td>3</td>\n",
       "      <td>7</td>\n",
       "      <td>6.0</td>\n",
       "      <td>5</td>\n",
       "      <td>2.0</td>\n",
       "      <td>...</td>\n",
       "      <td>Casado</td>\n",
       "      <td>1.0</td>\n",
       "      <td>4.0</td>\n",
       "      <td>Quinta-Feira</td>\n",
       "      <td>6.0</td>\n",
       "      <td>2.0</td>\n",
       "      <td>1.0</td>\n",
       "      <td>2.0</td>\n",
       "      <td>1.0</td>\n",
       "      <td>Dados para Hotel</td>\n",
       "    </tr>\n",
       "    <tr>\n",
       "      <th>...</th>\n",
       "      <td>...</td>\n",
       "      <td>...</td>\n",
       "      <td>...</td>\n",
       "      <td>...</td>\n",
       "      <td>...</td>\n",
       "      <td>...</td>\n",
       "      <td>...</td>\n",
       "      <td>...</td>\n",
       "      <td>...</td>\n",
       "      <td>...</td>\n",
       "      <td>...</td>\n",
       "      <td>...</td>\n",
       "      <td>...</td>\n",
       "      <td>...</td>\n",
       "      <td>...</td>\n",
       "      <td>...</td>\n",
       "      <td>...</td>\n",
       "      <td>...</td>\n",
       "      <td>...</td>\n",
       "      <td>...</td>\n",
       "      <td>...</td>\n",
       "    </tr>\n",
       "    <tr>\n",
       "      <th>1263</th>\n",
       "      <td>2.0</td>\n",
       "      <td>3</td>\n",
       "      <td>7.0</td>\n",
       "      <td>6.0</td>\n",
       "      <td>6</td>\n",
       "      <td>6</td>\n",
       "      <td>2</td>\n",
       "      <td>4.0</td>\n",
       "      <td>7</td>\n",
       "      <td>5.0</td>\n",
       "      <td>...</td>\n",
       "      <td>Solteiro</td>\n",
       "      <td>2.0</td>\n",
       "      <td>6.0</td>\n",
       "      <td>Domingo</td>\n",
       "      <td>5.0</td>\n",
       "      <td>5.0</td>\n",
       "      <td>2.0</td>\n",
       "      <td>1.0</td>\n",
       "      <td>1.0</td>\n",
       "      <td>Pesquisa Hotel</td>\n",
       "    </tr>\n",
       "    <tr>\n",
       "      <th>1264</th>\n",
       "      <td>1.0</td>\n",
       "      <td>3</td>\n",
       "      <td>7.0</td>\n",
       "      <td>7.0</td>\n",
       "      <td>5</td>\n",
       "      <td>3</td>\n",
       "      <td>6</td>\n",
       "      <td>6.0</td>\n",
       "      <td>5</td>\n",
       "      <td>2.0</td>\n",
       "      <td>...</td>\n",
       "      <td>Casado</td>\n",
       "      <td>1.0</td>\n",
       "      <td>3.0</td>\n",
       "      <td>Quinta-Feira</td>\n",
       "      <td>5.0</td>\n",
       "      <td>4.0</td>\n",
       "      <td>2.0</td>\n",
       "      <td>2.0</td>\n",
       "      <td>1.0</td>\n",
       "      <td>Pesquisa</td>\n",
       "    </tr>\n",
       "    <tr>\n",
       "      <th>1265</th>\n",
       "      <td>2.0</td>\n",
       "      <td>7</td>\n",
       "      <td>6.0</td>\n",
       "      <td>6.0</td>\n",
       "      <td>4</td>\n",
       "      <td>5</td>\n",
       "      <td>6</td>\n",
       "      <td>6.0</td>\n",
       "      <td>5</td>\n",
       "      <td>1.0</td>\n",
       "      <td>...</td>\n",
       "      <td>Casado</td>\n",
       "      <td>2.0</td>\n",
       "      <td>3.0</td>\n",
       "      <td>Quinta-Feira</td>\n",
       "      <td>4.0</td>\n",
       "      <td>5.0</td>\n",
       "      <td>2.0</td>\n",
       "      <td>1.0</td>\n",
       "      <td>1.0</td>\n",
       "      <td>Dados para Hotel</td>\n",
       "    </tr>\n",
       "    <tr>\n",
       "      <th>1266</th>\n",
       "      <td>2.0</td>\n",
       "      <td>3</td>\n",
       "      <td>5.0</td>\n",
       "      <td>5.0</td>\n",
       "      <td>6</td>\n",
       "      <td>5</td>\n",
       "      <td>7</td>\n",
       "      <td>6.0</td>\n",
       "      <td>5</td>\n",
       "      <td>2.0</td>\n",
       "      <td>...</td>\n",
       "      <td>Casado</td>\n",
       "      <td>1.0</td>\n",
       "      <td>3.0</td>\n",
       "      <td>Quinta-Feira</td>\n",
       "      <td>4.0</td>\n",
       "      <td>4.0</td>\n",
       "      <td>2.0</td>\n",
       "      <td>3.0</td>\n",
       "      <td>1.0</td>\n",
       "      <td>Coleta de dados</td>\n",
       "    </tr>\n",
       "    <tr>\n",
       "      <th>1267</th>\n",
       "      <td>0.0</td>\n",
       "      <td>5</td>\n",
       "      <td>1.0</td>\n",
       "      <td>7.0</td>\n",
       "      <td>2</td>\n",
       "      <td>2</td>\n",
       "      <td>5</td>\n",
       "      <td>5.0</td>\n",
       "      <td>7</td>\n",
       "      <td>1.0</td>\n",
       "      <td>...</td>\n",
       "      <td>Casado</td>\n",
       "      <td>NaN</td>\n",
       "      <td>1.0</td>\n",
       "      <td>Quinta-Feira</td>\n",
       "      <td>4.0</td>\n",
       "      <td>4.0</td>\n",
       "      <td>1.0</td>\n",
       "      <td>4.0</td>\n",
       "      <td>1.0</td>\n",
       "      <td>Não</td>\n",
       "    </tr>\n",
       "  </tbody>\n",
       "</table>\n",
       "<p>1268 rows × 71 columns</p>\n",
       "</div>"
      ],
      "text/plain": [
       "       P1 P2   P3   P4 P5 P6 P7   P8 P9  P10  ...   Qtipcama Qcama  Qest  \\\n",
       "0     2.0  7  7.0  5.0  4  2  6  7.0  5  1.0  ...      Viuvo   1.0   4.0   \n",
       "1     3.0  2  2.0  6.0  4  2  5  1.0  3  2.0  ...  Solteiro    1.0   1.0   \n",
       "2     1.0  7  7.0  5.0  4  5  6  6.0  5  2.0  ...      Viuvo   1.0   3.0   \n",
       "3     1.0  3  4.0  4.0  6  6  1  7.0  6  6.0  ...     Casado   1.0   6.0   \n",
       "4     2.0  7  6.0  7.0  3  3  7  6.0  5  2.0  ...     Casado   1.0   4.0   \n",
       "...   ... ..  ...  ... .. .. ..  ... ..  ...  ...        ...   ...   ...   \n",
       "1263  2.0  3  7.0  6.0  6  6  2  4.0  7  5.0  ...  Solteiro    2.0   6.0   \n",
       "1264  1.0  3  7.0  7.0  5  3  6  6.0  5  2.0  ...     Casado   1.0   3.0   \n",
       "1265  2.0  7  6.0  6.0  4  5  6  6.0  5  1.0  ...     Casado   2.0   3.0   \n",
       "1266  2.0  3  5.0  5.0  6  5  7  6.0  5  2.0  ...     Casado   1.0   3.0   \n",
       "1267  0.0  5  1.0  7.0  2  2  5  5.0  7  1.0  ...     Casado   NaN   1.0   \n",
       "\n",
       "              Qche  Qocup  Qid  Qgen Qreg Qclasse                    Qs  \n",
       "0           Sábado    2.0  6.0   1.0  2.0     2.0  Dados para Marketing  \n",
       "1     Quinta-Feira    2.0  6.0   1.0  5.0     2.0                   NaN  \n",
       "2           Sábado    3.0  4.0   1.0  2.0     2.0      Dados para Hotel  \n",
       "3      Terça-Feira    3.0  1.0   2.0  2.0     2.0             Marketing  \n",
       "4     Quinta-Feira    6.0  2.0   1.0  2.0     1.0      Dados para Hotel  \n",
       "...            ...    ...  ...   ...  ...     ...                   ...  \n",
       "1263       Domingo    5.0  5.0   2.0  1.0     1.0        Pesquisa Hotel  \n",
       "1264  Quinta-Feira    5.0  4.0   2.0  2.0     1.0              Pesquisa  \n",
       "1265  Quinta-Feira    4.0  5.0   2.0  1.0     1.0      Dados para Hotel  \n",
       "1266  Quinta-Feira    4.0  4.0   2.0  3.0     1.0       Coleta de dados  \n",
       "1267  Quinta-Feira    4.0  4.0   1.0  4.0     1.0                   Não  \n",
       "\n",
       "[1268 rows x 71 columns]"
      ]
     },
     "execution_count": 37,
     "metadata": {},
     "output_type": "execute_result"
    }
   ],
   "source": [
    "# Trocando classes de \"A, B, C\" para \"1, 2, 3\"\n",
    "df['Qclasse'] = df['Qclasse'].replace('A', 1)\n",
    "df['Qclasse'] = df['Qclasse'].replace('B', 2)\n",
    "df['Qclasse'] = df['Qclasse'].replace('C', 3)\n",
    "\n",
    "df"
   ]
  },
  {
   "cell_type": "code",
   "execution_count": 38,
   "id": "5a5df7ef",
   "metadata": {},
   "outputs": [],
   "source": [
    "# Na coluna de frequência de vigens alteramos para 0 o voto de quem não viaja\n",
    "df['P1'] = df['P1'].replace(5, 0)"
   ]
  },
  {
   "cell_type": "code",
   "execution_count": 39,
   "id": "40c6e882",
   "metadata": {},
   "outputs": [
    {
     "data": {
      "text/html": [
       "<div>\n",
       "<style scoped>\n",
       "    .dataframe tbody tr th:only-of-type {\n",
       "        vertical-align: middle;\n",
       "    }\n",
       "\n",
       "    .dataframe tbody tr th {\n",
       "        vertical-align: top;\n",
       "    }\n",
       "\n",
       "    .dataframe thead th {\n",
       "        text-align: right;\n",
       "    }\n",
       "</style>\n",
       "<table border=\"1\" class=\"dataframe\">\n",
       "  <thead>\n",
       "    <tr style=\"text-align: right;\">\n",
       "      <th></th>\n",
       "      <th>P1</th>\n",
       "      <th>P2</th>\n",
       "      <th>Qest</th>\n",
       "      <th>Qclasse</th>\n",
       "    </tr>\n",
       "  </thead>\n",
       "  <tbody>\n",
       "    <tr>\n",
       "      <th>0</th>\n",
       "      <td>2.0</td>\n",
       "      <td>7</td>\n",
       "      <td>4.0</td>\n",
       "      <td>2.0</td>\n",
       "    </tr>\n",
       "    <tr>\n",
       "      <th>1</th>\n",
       "      <td>3.0</td>\n",
       "      <td>2</td>\n",
       "      <td>1.0</td>\n",
       "      <td>2.0</td>\n",
       "    </tr>\n",
       "    <tr>\n",
       "      <th>2</th>\n",
       "      <td>1.0</td>\n",
       "      <td>7</td>\n",
       "      <td>3.0</td>\n",
       "      <td>2.0</td>\n",
       "    </tr>\n",
       "    <tr>\n",
       "      <th>3</th>\n",
       "      <td>1.0</td>\n",
       "      <td>3</td>\n",
       "      <td>6.0</td>\n",
       "      <td>2.0</td>\n",
       "    </tr>\n",
       "    <tr>\n",
       "      <th>4</th>\n",
       "      <td>2.0</td>\n",
       "      <td>7</td>\n",
       "      <td>4.0</td>\n",
       "      <td>1.0</td>\n",
       "    </tr>\n",
       "    <tr>\n",
       "      <th>...</th>\n",
       "      <td>...</td>\n",
       "      <td>...</td>\n",
       "      <td>...</td>\n",
       "      <td>...</td>\n",
       "    </tr>\n",
       "    <tr>\n",
       "      <th>1263</th>\n",
       "      <td>2.0</td>\n",
       "      <td>3</td>\n",
       "      <td>6.0</td>\n",
       "      <td>1.0</td>\n",
       "    </tr>\n",
       "    <tr>\n",
       "      <th>1264</th>\n",
       "      <td>1.0</td>\n",
       "      <td>3</td>\n",
       "      <td>3.0</td>\n",
       "      <td>1.0</td>\n",
       "    </tr>\n",
       "    <tr>\n",
       "      <th>1265</th>\n",
       "      <td>2.0</td>\n",
       "      <td>7</td>\n",
       "      <td>3.0</td>\n",
       "      <td>1.0</td>\n",
       "    </tr>\n",
       "    <tr>\n",
       "      <th>1266</th>\n",
       "      <td>2.0</td>\n",
       "      <td>3</td>\n",
       "      <td>3.0</td>\n",
       "      <td>1.0</td>\n",
       "    </tr>\n",
       "    <tr>\n",
       "      <th>1267</th>\n",
       "      <td>0.0</td>\n",
       "      <td>5</td>\n",
       "      <td>1.0</td>\n",
       "      <td>1.0</td>\n",
       "    </tr>\n",
       "  </tbody>\n",
       "</table>\n",
       "<p>1268 rows × 4 columns</p>\n",
       "</div>"
      ],
      "text/plain": [
       "       P1 P2  Qest  Qclasse\n",
       "0     2.0  7   4.0      2.0\n",
       "1     3.0  2   1.0      2.0\n",
       "2     1.0  7   3.0      2.0\n",
       "3     1.0  3   6.0      2.0\n",
       "4     2.0  7   4.0      1.0\n",
       "...   ... ..   ...      ...\n",
       "1263  2.0  3   6.0      1.0\n",
       "1264  1.0  3   3.0      1.0\n",
       "1265  2.0  7   3.0      1.0\n",
       "1266  2.0  3   3.0      1.0\n",
       "1267  0.0  5   1.0      1.0\n",
       "\n",
       "[1268 rows x 4 columns]"
      ]
     },
     "execution_count": 39,
     "metadata": {},
     "output_type": "execute_result"
    }
   ],
   "source": [
    "# Criando uma copia do df para fazer a clusterização somente com as colunas escolhidas\n",
    "X = df.copy()\n",
    "X = X.loc[:, ['P1', 'P2', 'Qest', 'Qclasse']]\n",
    "X"
   ]
  },
  {
   "cell_type": "code",
   "execution_count": 40,
   "id": "065c632a",
   "metadata": {},
   "outputs": [],
   "source": [
    "# Removendo células Nan do df X\n",
    "X = X.replace(r'^\\s*$', np.nan, regex=True)\n",
    "X = X.dropna()"
   ]
  },
  {
   "cell_type": "code",
   "execution_count": 41,
   "id": "bbc05b86",
   "metadata": {},
   "outputs": [],
   "source": [
    "# Criando um objeto KMeans com 5 clusters\n",
    "kmeans = KMeans(n_clusters=5, random_state=0)\n",
    "\n",
    "# Treinando o modelo e obtendo as atribuições de cluster\n",
    "labels = kmeans.fit_predict(X)\n",
    "\n",
    "# Obter as coordenadas dos centróides dos clusters\n",
    "centroids = kmeans.cluster_centers_"
   ]
  },
  {
   "cell_type": "code",
   "execution_count": 42,
   "id": "fca52f9a",
   "metadata": {},
   "outputs": [
    {
     "data": {
      "image/png": "[encoded data removed]",
      "text/plain": [
       "<Figure size 432x288 with 1 Axes>"
      ]
     },
     "metadata": {
      "needs_background": "light"
     },
     "output_type": "display_data"
    }
   ],
   "source": [
    "# Separando os dados por cluster\n",
    "cluster0 = X.iloc[labels == 0, :]\n",
    "cluster1 = X.iloc[labels == 1, :]\n",
    "cluster2 = X.iloc[labels == 2, :]\n",
    "cluster3 = X.iloc[labels == 3, :]\n",
    "cluster4 = X.iloc[labels == 4, :]\n",
    "\n",
    "\n",
    "# Criando uma lista com todos os clusters\n",
    "clusters = [cluster0, cluster1, cluster2, cluster3, cluster4]\n",
    "\n",
    "# Plotando os clusters em gráficos diferentes\n",
    "plt.scatter(cluster0.iloc[:, 0], cluster0.iloc[:, 1], color='red', label='Cluster 0')\n",
    "plt.scatter(cluster1.iloc[:, 0], cluster1.iloc[:, 1], color='blue', label='Cluster 1')\n",
    "plt.scatter(cluster2.iloc[:, 0], cluster2.iloc[:, 1], color='green', label='Cluster 2')\n",
    "plt.scatter(cluster3.iloc[:, 0], cluster3.iloc[:, 1], color='yellow', label='Cluster 3')\n",
    "plt.scatter(cluster4.iloc[:, 0], cluster4.iloc[:, 1], color='purple', label='Cluster 4')\n",
    "plt.scatter(kmeans.cluster_centers_[:, 0], kmeans.cluster_centers_[:, 1], marker='o', s=200, linewidths=3, color='black', zorder=10, label='Centroids')\n",
    "plt.legend()\n",
    "plt.show()"
   ]
  },
  {
   "cell_type": "markdown",
   "id": "384e5a14",
   "metadata": {},
   "source": [
    "## Decobrindo o valor \"ideal\" de centroides e quão satisfatório foi a clusterização"
   ]
  },
  {
   "cell_type": "code",
   "execution_count": 43,
   "id": "4e50279d",
   "metadata": {},
   "outputs": [
    {
     "name": "stdout",
     "output_type": "stream",
     "text": [
      "Coeficiente de Silhueta médio: 0.6082346920666715\n"
     ]
    }
   ],
   "source": [
    "# Agora vamos ver quão satisfatório e bem definidos estão os clusteres\n",
    "from sklearn.metrics import silhouette_score\n",
    "\n",
    "# silhouette_score() retorna o valor do coeficiente de silhueta\n",
    "silhouette_avg = silhouette_score(X, labels)\n",
    "print(\"Coeficiente de Silhueta médio:\", silhouette_avg)"
   ]
  },
  {
   "cell_type": "code",
   "execution_count": 44,
   "id": "11cb1dbb",
   "metadata": {
    "scrolled": true
   },
   "outputs": [
    {
     "data": {
      "image/png": "[encoded data removed]",
      "text/plain": [
       "<Figure size 432x288 with 1 Axes>"
      ]
     },
     "metadata": {
      "needs_background": "light"
     },
     "output_type": "display_data"
    }
   ],
   "source": [
    "sum_of_squared_distances = []\n",
    "# Executar o K-means para diferentes valores de K\n",
    "k_values = range(1, 11)\n",
    "for k in k_values:\n",
    "    kmeans = KMeans(n_clusters=k, random_state=0)\n",
    "    kmeans.fit(X)\n",
    "    sum_of_squared_distances.append(kmeans.inertia_)\n",
    "\n",
    "# Plotar a soma das distâncias ao quadrado em função do número de clusters\n",
    "plt.plot(k_values, sum_of_squared_distances, 'bo-')\n",
    "plt.xlabel('Número de Clusters (K)')\n",
    "plt.ylabel('Soma das distâncias ao quadrado')\n",
    "plt.title('Método do Cotovelo')\n",
    "plt.show()"
   ]
  },
  {
   "cell_type": "markdown",
   "id": "02529ace",
   "metadata": {},
   "source": [
    "Considerando o Método do Cotovelo e coeficiente de silhueta concluimos que a melhor quantidade de clusters é 5"
   ]
  },
  {
   "cell_type": "markdown",
   "id": "9cb49857",
   "metadata": {},
   "source": [
    "# Adicionando o resultado da clusterização no dataframe"
   ]
  },
  {
   "cell_type": "code",
   "execution_count": 45,
   "id": "1713423f",
   "metadata": {},
   "outputs": [
    {
     "data": {
      "text/html": [
       "<div>\n",
       "<style scoped>\n",
       "    .dataframe tbody tr th:only-of-type {\n",
       "        vertical-align: middle;\n",
       "    }\n",
       "\n",
       "    .dataframe tbody tr th {\n",
       "        vertical-align: top;\n",
       "    }\n",
       "\n",
       "    .dataframe thead th {\n",
       "        text-align: right;\n",
       "    }\n",
       "</style>\n",
       "<table border=\"1\" class=\"dataframe\">\n",
       "  <thead>\n",
       "    <tr style=\"text-align: right;\">\n",
       "      <th></th>\n",
       "      <th>P1</th>\n",
       "      <th>P2</th>\n",
       "      <th>P3</th>\n",
       "      <th>P4</th>\n",
       "      <th>P5</th>\n",
       "      <th>P6</th>\n",
       "      <th>P7</th>\n",
       "      <th>P8</th>\n",
       "      <th>P9</th>\n",
       "      <th>P10</th>\n",
       "      <th>...</th>\n",
       "      <th>Qcama</th>\n",
       "      <th>Qest</th>\n",
       "      <th>Qche</th>\n",
       "      <th>Qocup</th>\n",
       "      <th>Qid</th>\n",
       "      <th>Qgen</th>\n",
       "      <th>Qreg</th>\n",
       "      <th>Qclasse</th>\n",
       "      <th>Qs</th>\n",
       "      <th>cluster</th>\n",
       "    </tr>\n",
       "  </thead>\n",
       "  <tbody>\n",
       "    <tr>\n",
       "      <th>0</th>\n",
       "      <td>2.0</td>\n",
       "      <td>7</td>\n",
       "      <td>7.0</td>\n",
       "      <td>5.0</td>\n",
       "      <td>4</td>\n",
       "      <td>2</td>\n",
       "      <td>6</td>\n",
       "      <td>7.0</td>\n",
       "      <td>5</td>\n",
       "      <td>1.0</td>\n",
       "      <td>...</td>\n",
       "      <td>1.0</td>\n",
       "      <td>4.0</td>\n",
       "      <td>Sábado</td>\n",
       "      <td>2.0</td>\n",
       "      <td>6.0</td>\n",
       "      <td>1.0</td>\n",
       "      <td>2.0</td>\n",
       "      <td>2.0</td>\n",
       "      <td>Dados para Marketing</td>\n",
       "      <td>2</td>\n",
       "    </tr>\n",
       "    <tr>\n",
       "      <th>1</th>\n",
       "      <td>3.0</td>\n",
       "      <td>2</td>\n",
       "      <td>2.0</td>\n",
       "      <td>6.0</td>\n",
       "      <td>4</td>\n",
       "      <td>2</td>\n",
       "      <td>5</td>\n",
       "      <td>1.0</td>\n",
       "      <td>3</td>\n",
       "      <td>2.0</td>\n",
       "      <td>...</td>\n",
       "      <td>1.0</td>\n",
       "      <td>1.0</td>\n",
       "      <td>Quinta-Feira</td>\n",
       "      <td>2.0</td>\n",
       "      <td>6.0</td>\n",
       "      <td>1.0</td>\n",
       "      <td>5.0</td>\n",
       "      <td>2.0</td>\n",
       "      <td>NaN</td>\n",
       "      <td>4</td>\n",
       "    </tr>\n",
       "    <tr>\n",
       "      <th>2</th>\n",
       "      <td>1.0</td>\n",
       "      <td>7</td>\n",
       "      <td>7.0</td>\n",
       "      <td>5.0</td>\n",
       "      <td>4</td>\n",
       "      <td>5</td>\n",
       "      <td>6</td>\n",
       "      <td>6.0</td>\n",
       "      <td>5</td>\n",
       "      <td>2.0</td>\n",
       "      <td>...</td>\n",
       "      <td>1.0</td>\n",
       "      <td>3.0</td>\n",
       "      <td>Sábado</td>\n",
       "      <td>3.0</td>\n",
       "      <td>4.0</td>\n",
       "      <td>1.0</td>\n",
       "      <td>2.0</td>\n",
       "      <td>2.0</td>\n",
       "      <td>Dados para Hotel</td>\n",
       "      <td>2</td>\n",
       "    </tr>\n",
       "    <tr>\n",
       "      <th>3</th>\n",
       "      <td>1.0</td>\n",
       "      <td>3</td>\n",
       "      <td>4.0</td>\n",
       "      <td>4.0</td>\n",
       "      <td>6</td>\n",
       "      <td>6</td>\n",
       "      <td>1</td>\n",
       "      <td>7.0</td>\n",
       "      <td>6</td>\n",
       "      <td>6.0</td>\n",
       "      <td>...</td>\n",
       "      <td>1.0</td>\n",
       "      <td>6.0</td>\n",
       "      <td>Terça-Feira</td>\n",
       "      <td>3.0</td>\n",
       "      <td>1.0</td>\n",
       "      <td>2.0</td>\n",
       "      <td>2.0</td>\n",
       "      <td>2.0</td>\n",
       "      <td>Marketing</td>\n",
       "      <td>3</td>\n",
       "    </tr>\n",
       "    <tr>\n",
       "      <th>4</th>\n",
       "      <td>2.0</td>\n",
       "      <td>7</td>\n",
       "      <td>6.0</td>\n",
       "      <td>7.0</td>\n",
       "      <td>3</td>\n",
       "      <td>3</td>\n",
       "      <td>7</td>\n",
       "      <td>6.0</td>\n",
       "      <td>5</td>\n",
       "      <td>2.0</td>\n",
       "      <td>...</td>\n",
       "      <td>1.0</td>\n",
       "      <td>4.0</td>\n",
       "      <td>Quinta-Feira</td>\n",
       "      <td>6.0</td>\n",
       "      <td>2.0</td>\n",
       "      <td>1.0</td>\n",
       "      <td>2.0</td>\n",
       "      <td>1.0</td>\n",
       "      <td>Dados para Hotel</td>\n",
       "      <td>2</td>\n",
       "    </tr>\n",
       "    <tr>\n",
       "      <th>...</th>\n",
       "      <td>...</td>\n",
       "      <td>...</td>\n",
       "      <td>...</td>\n",
       "      <td>...</td>\n",
       "      <td>...</td>\n",
       "      <td>...</td>\n",
       "      <td>...</td>\n",
       "      <td>...</td>\n",
       "      <td>...</td>\n",
       "      <td>...</td>\n",
       "      <td>...</td>\n",
       "      <td>...</td>\n",
       "      <td>...</td>\n",
       "      <td>...</td>\n",
       "      <td>...</td>\n",
       "      <td>...</td>\n",
       "      <td>...</td>\n",
       "      <td>...</td>\n",
       "      <td>...</td>\n",
       "      <td>...</td>\n",
       "      <td>...</td>\n",
       "    </tr>\n",
       "    <tr>\n",
       "      <th>1263</th>\n",
       "      <td>2.0</td>\n",
       "      <td>3</td>\n",
       "      <td>7.0</td>\n",
       "      <td>6.0</td>\n",
       "      <td>6</td>\n",
       "      <td>6</td>\n",
       "      <td>2</td>\n",
       "      <td>4.0</td>\n",
       "      <td>7</td>\n",
       "      <td>5.0</td>\n",
       "      <td>...</td>\n",
       "      <td>2.0</td>\n",
       "      <td>6.0</td>\n",
       "      <td>Domingo</td>\n",
       "      <td>5.0</td>\n",
       "      <td>5.0</td>\n",
       "      <td>2.0</td>\n",
       "      <td>1.0</td>\n",
       "      <td>1.0</td>\n",
       "      <td>Pesquisa Hotel</td>\n",
       "      <td>3</td>\n",
       "    </tr>\n",
       "    <tr>\n",
       "      <th>1264</th>\n",
       "      <td>1.0</td>\n",
       "      <td>3</td>\n",
       "      <td>7.0</td>\n",
       "      <td>7.0</td>\n",
       "      <td>5</td>\n",
       "      <td>3</td>\n",
       "      <td>6</td>\n",
       "      <td>6.0</td>\n",
       "      <td>5</td>\n",
       "      <td>2.0</td>\n",
       "      <td>...</td>\n",
       "      <td>1.0</td>\n",
       "      <td>3.0</td>\n",
       "      <td>Quinta-Feira</td>\n",
       "      <td>5.0</td>\n",
       "      <td>4.0</td>\n",
       "      <td>2.0</td>\n",
       "      <td>2.0</td>\n",
       "      <td>1.0</td>\n",
       "      <td>Pesquisa</td>\n",
       "      <td>0</td>\n",
       "    </tr>\n",
       "    <tr>\n",
       "      <th>1265</th>\n",
       "      <td>2.0</td>\n",
       "      <td>7</td>\n",
       "      <td>6.0</td>\n",
       "      <td>6.0</td>\n",
       "      <td>4</td>\n",
       "      <td>5</td>\n",
       "      <td>6</td>\n",
       "      <td>6.0</td>\n",
       "      <td>5</td>\n",
       "      <td>1.0</td>\n",
       "      <td>...</td>\n",
       "      <td>2.0</td>\n",
       "      <td>3.0</td>\n",
       "      <td>Quinta-Feira</td>\n",
       "      <td>4.0</td>\n",
       "      <td>5.0</td>\n",
       "      <td>2.0</td>\n",
       "      <td>1.0</td>\n",
       "      <td>1.0</td>\n",
       "      <td>Dados para Hotel</td>\n",
       "      <td>2</td>\n",
       "    </tr>\n",
       "    <tr>\n",
       "      <th>1266</th>\n",
       "      <td>2.0</td>\n",
       "      <td>3</td>\n",
       "      <td>5.0</td>\n",
       "      <td>5.0</td>\n",
       "      <td>6</td>\n",
       "      <td>5</td>\n",
       "      <td>7</td>\n",
       "      <td>6.0</td>\n",
       "      <td>5</td>\n",
       "      <td>2.0</td>\n",
       "      <td>...</td>\n",
       "      <td>1.0</td>\n",
       "      <td>3.0</td>\n",
       "      <td>Quinta-Feira</td>\n",
       "      <td>4.0</td>\n",
       "      <td>4.0</td>\n",
       "      <td>2.0</td>\n",
       "      <td>3.0</td>\n",
       "      <td>1.0</td>\n",
       "      <td>Coleta de dados</td>\n",
       "      <td>0</td>\n",
       "    </tr>\n",
       "    <tr>\n",
       "      <th>1267</th>\n",
       "      <td>0.0</td>\n",
       "      <td>5</td>\n",
       "      <td>1.0</td>\n",
       "      <td>7.0</td>\n",
       "      <td>2</td>\n",
       "      <td>2</td>\n",
       "      <td>5</td>\n",
       "      <td>5.0</td>\n",
       "      <td>7</td>\n",
       "      <td>1.0</td>\n",
       "      <td>...</td>\n",
       "      <td>NaN</td>\n",
       "      <td>1.0</td>\n",
       "      <td>Quinta-Feira</td>\n",
       "      <td>4.0</td>\n",
       "      <td>4.0</td>\n",
       "      <td>1.0</td>\n",
       "      <td>4.0</td>\n",
       "      <td>1.0</td>\n",
       "      <td>Não</td>\n",
       "      <td>2</td>\n",
       "    </tr>\n",
       "  </tbody>\n",
       "</table>\n",
       "<p>961 rows × 72 columns</p>\n",
       "</div>"
      ],
      "text/plain": [
       "       P1 P2   P3   P4 P5 P6 P7   P8 P9  P10  ...  Qcama Qest          Qche  \\\n",
       "0     2.0  7  7.0  5.0  4  2  6  7.0  5  1.0  ...    1.0  4.0        Sábado   \n",
       "1     3.0  2  2.0  6.0  4  2  5  1.0  3  2.0  ...    1.0  1.0  Quinta-Feira   \n",
       "2     1.0  7  7.0  5.0  4  5  6  6.0  5  2.0  ...    1.0  3.0        Sábado   \n",
       "3     1.0  3  4.0  4.0  6  6  1  7.0  6  6.0  ...    1.0  6.0   Terça-Feira   \n",
       "4     2.0  7  6.0  7.0  3  3  7  6.0  5  2.0  ...    1.0  4.0  Quinta-Feira   \n",
       "...   ... ..  ...  ... .. .. ..  ... ..  ...  ...    ...  ...           ...   \n",
       "1263  2.0  3  7.0  6.0  6  6  2  4.0  7  5.0  ...    2.0  6.0       Domingo   \n",
       "1264  1.0  3  7.0  7.0  5  3  6  6.0  5  2.0  ...    1.0  3.0  Quinta-Feira   \n",
       "1265  2.0  7  6.0  6.0  4  5  6  6.0  5  1.0  ...    2.0  3.0  Quinta-Feira   \n",
       "1266  2.0  3  5.0  5.0  6  5  7  6.0  5  2.0  ...    1.0  3.0  Quinta-Feira   \n",
       "1267  0.0  5  1.0  7.0  2  2  5  5.0  7  1.0  ...    NaN  1.0  Quinta-Feira   \n",
       "\n",
       "      Qocup  Qid  Qgen  Qreg Qclasse                    Qs cluster  \n",
       "0       2.0  6.0   1.0   2.0     2.0  Dados para Marketing       2  \n",
       "1       2.0  6.0   1.0   5.0     2.0                   NaN       4  \n",
       "2       3.0  4.0   1.0   2.0     2.0      Dados para Hotel       2  \n",
       "3       3.0  1.0   2.0   2.0     2.0             Marketing       3  \n",
       "4       6.0  2.0   1.0   2.0     1.0      Dados para Hotel       2  \n",
       "...     ...  ...   ...   ...     ...                   ...     ...  \n",
       "1263    5.0  5.0   2.0   1.0     1.0        Pesquisa Hotel       3  \n",
       "1264    5.0  4.0   2.0   2.0     1.0              Pesquisa       0  \n",
       "1265    4.0  5.0   2.0   1.0     1.0      Dados para Hotel       2  \n",
       "1266    4.0  4.0   2.0   3.0     1.0       Coleta de dados       0  \n",
       "1267    4.0  4.0   1.0   4.0     1.0                   Não       2  \n",
       "\n",
       "[961 rows x 72 columns]"
      ]
     },
     "execution_count": 45,
     "metadata": {},
     "output_type": "execute_result"
    }
   ],
   "source": [
    "# Removendo os valores Nan das colunas 'P1','P2','Qest','Qclasse' para poder adicionar o labels no dataframe\n",
    "df = df.replace(r'^\\s*$', np.nan, regex=True)\n",
    "df.dropna(subset=['P1','P2','Qest','Qclasse'], inplace=True)\n",
    "\n",
    "# Adicionando uma coluna de clusterização no banco de dados\n",
    "df['cluster'] = labels\n",
    "df"
   ]
  },
  {
   "cell_type": "markdown",
   "id": "64b2a20d",
   "metadata": {},
   "source": [
    "# Analise da clusterização\n"
   ]
  },
  {
   "cell_type": "code",
   "execution_count": 46,
   "id": "3e632cbe",
   "metadata": {},
   "outputs": [
    {
     "name": "stdout",
     "output_type": "stream",
     "text": [
      "Frequência de viajens média do cluster0: 1.304\n",
      "Frequência de viajens média do cluster1: 3.907\n",
      "Frequência de viajens média do cluster2: 1.305\n",
      "Frequência de viajens média do cluster3: 1.506\n",
      "Frequência de viajens média do cluster4: 3.818\n"
     ]
    }
   ],
   "source": [
    "# Frequência média de viagem de cada cluster\n",
    "for i in range(5):\n",
    "    print('Frequência de viajens média do cluster{}: {:.4}'.format(i, clusters[i]['P1'].mean()))"
   ]
  },
  {
   "cell_type": "code",
   "execution_count": 47,
   "id": "5df22e26",
   "metadata": {},
   "outputs": [
    {
     "name": "stdout",
     "output_type": "stream",
     "text": [
      "Estadia média do cluster0: 3.399\n",
      "Estadia média do cluster1: 1.605\n",
      "Estadia média do cluster2: 3.473\n",
      "Estadia média do cluster3: 6.0\n",
      "Estadia média do cluster4: 1.532\n"
     ]
    }
   ],
   "source": [
    "# Estadia média de cada cluster\n",
    "for i in range(5):\n",
    "    print('Estadia média do cluster{}: {:.4}'.format(i, clusters[i]['Qest'].mean()))"
   ]
  },
  {
   "cell_type": "code",
   "execution_count": 48,
   "id": "4e2f8054",
   "metadata": {},
   "outputs": [
    {
     "name": "stdout",
     "output_type": "stream",
     "text": [
      "Classe do cluster0: 1.497\n",
      "Classe do cluster1: 2.062\n",
      "Classe do cluster2: 1.382\n",
      "Classe do cluster3: 1.238\n",
      "Classe do cluster4: 1.974\n"
     ]
    }
   ],
   "source": [
    "# Classe de cada cluster (Quanto mais perto de 1 --> Classe A e quanto mais perto de 3 --> classe C)\n",
    "for i in range(5):\n",
    "    print('Classe do cluster{}: {:.4}'.format(i, clusters[i]['Qclasse'].mean()))"
   ]
  },
  {
   "cell_type": "markdown",
   "id": "5736985d",
   "metadata": {},
   "source": [
    "Após analisar os resultados da clusterização encontramos duas possiblidades de investimento diferentes e destacaram-se os clusters 1, 3 e 4. Primeiramente, percebemos que os clusters 1 e 4 eram muito semelhantes considerando a frequência média, a estadia média e a classe social. Com esses clusters, identificamos uma primeira opção de público-alvo (público-alvo 1), o que viaja muitas vezes por ano, que tem uma estadia média relativamente baixa e que pertence a uma classe mais baixa. Já o cluster 3, se difere nesses três aspectos em relação aos clusters citados anteriormente, e define uma público-alvo (público-alvo 2), o que viaja poucas vezes no ano, tem uma estadia média alta e pertence a uma classe social alta."
   ]
  },
  {
   "cell_type": "markdown",
   "id": "c8e296f9",
   "metadata": {},
   "source": [
    "**Para definir o público-alvo mais detalhadamente analisamos também o motivo de viagem dos clusters selecionados.**"
   ]
  },
  {
   "cell_type": "code",
   "execution_count": 49,
   "id": "c1a92bb6",
   "metadata": {},
   "outputs": [
    {
     "data": {
      "text/html": [
       "<div>\n",
       "<style scoped>\n",
       "    .dataframe tbody tr th:only-of-type {\n",
       "        vertical-align: middle;\n",
       "    }\n",
       "\n",
       "    .dataframe tbody tr th {\n",
       "        vertical-align: top;\n",
       "    }\n",
       "\n",
       "    .dataframe thead th {\n",
       "        text-align: right;\n",
       "    }\n",
       "</style>\n",
       "<table border=\"1\" class=\"dataframe\">\n",
       "  <thead>\n",
       "    <tr style=\"text-align: right;\">\n",
       "      <th></th>\n",
       "      <th>P2</th>\n",
       "    </tr>\n",
       "  </thead>\n",
       "  <tbody>\n",
       "    <tr>\n",
       "      <th>5</th>\n",
       "      <td>117</td>\n",
       "    </tr>\n",
       "    <tr>\n",
       "      <th>4</th>\n",
       "      <td>6</td>\n",
       "    </tr>\n",
       "    <tr>\n",
       "      <th>7</th>\n",
       "      <td>3</td>\n",
       "    </tr>\n",
       "    <tr>\n",
       "      <th>6</th>\n",
       "      <td>3</td>\n",
       "    </tr>\n",
       "  </tbody>\n",
       "</table>\n",
       "</div>"
      ],
      "text/plain": [
       "    P2\n",
       "5  117\n",
       "4    6\n",
       "7    3\n",
       "6    3"
      ]
     },
     "execution_count": 49,
     "metadata": {},
     "output_type": "execute_result"
    }
   ],
   "source": [
    "# Motivo da viagem do cluster1\n",
    "tab = cluster1['P2'].value_counts(sort=False)\n",
    "tab.to_frame()"
   ]
  },
  {
   "cell_type": "code",
   "execution_count": 50,
   "id": "c94c1e0f",
   "metadata": {},
   "outputs": [
    {
     "data": {
      "text/html": [
       "<div>\n",
       "<style scoped>\n",
       "    .dataframe tbody tr th:only-of-type {\n",
       "        vertical-align: middle;\n",
       "    }\n",
       "\n",
       "    .dataframe tbody tr th {\n",
       "        vertical-align: top;\n",
       "    }\n",
       "\n",
       "    .dataframe thead th {\n",
       "        text-align: right;\n",
       "    }\n",
       "</style>\n",
       "<table border=\"1\" class=\"dataframe\">\n",
       "  <thead>\n",
       "    <tr style=\"text-align: right;\">\n",
       "      <th></th>\n",
       "      <th>P2</th>\n",
       "    </tr>\n",
       "  </thead>\n",
       "  <tbody>\n",
       "    <tr>\n",
       "      <th>2</th>\n",
       "      <td>56</td>\n",
       "    </tr>\n",
       "    <tr>\n",
       "      <th>1</th>\n",
       "      <td>17</td>\n",
       "    </tr>\n",
       "    <tr>\n",
       "      <th>3</th>\n",
       "      <td>4</td>\n",
       "    </tr>\n",
       "  </tbody>\n",
       "</table>\n",
       "</div>"
      ],
      "text/plain": [
       "   P2\n",
       "2  56\n",
       "1  17\n",
       "3   4"
      ]
     },
     "execution_count": 50,
     "metadata": {},
     "output_type": "execute_result"
    }
   ],
   "source": [
    "# Motivo da viagem do cluster4\n",
    "tab = cluster4['P2'].value_counts(sort=False)\n",
    "tab.to_frame()"
   ]
  },
  {
   "cell_type": "markdown",
   "id": "51dac022",
   "metadata": {},
   "source": [
    "O público-alvo 1, que tinham dois clusters muito parecidos, agora se diferenciam em relação ao motivo de viagem. Enquanto no cluster4 os principais motivos são: visitar família e visitar amigos, no cluster 1 o motivo que mais se destaca é viagem a trabalho."
   ]
  },
  {
   "cell_type": "code",
   "execution_count": 51,
   "id": "d49baa19",
   "metadata": {},
   "outputs": [
    {
     "data": {
      "text/html": [
       "<div>\n",
       "<style scoped>\n",
       "    .dataframe tbody tr th:only-of-type {\n",
       "        vertical-align: middle;\n",
       "    }\n",
       "\n",
       "    .dataframe tbody tr th {\n",
       "        vertical-align: top;\n",
       "    }\n",
       "\n",
       "    .dataframe thead th {\n",
       "        text-align: right;\n",
       "    }\n",
       "</style>\n",
       "<table border=\"1\" class=\"dataframe\">\n",
       "  <thead>\n",
       "    <tr style=\"text-align: right;\">\n",
       "      <th></th>\n",
       "      <th>P2</th>\n",
       "    </tr>\n",
       "  </thead>\n",
       "  <tbody>\n",
       "    <tr>\n",
       "      <th>3</th>\n",
       "      <td>128</td>\n",
       "    </tr>\n",
       "    <tr>\n",
       "      <th>2</th>\n",
       "      <td>111</td>\n",
       "    </tr>\n",
       "  </tbody>\n",
       "</table>\n",
       "</div>"
      ],
      "text/plain": [
       "    P2\n",
       "3  128\n",
       "2  111"
      ]
     },
     "execution_count": 51,
     "metadata": {},
     "output_type": "execute_result"
    }
   ],
   "source": [
    "# Motivo da viagem do cluster3\n",
    "tab = cluster3['P2'].value_counts(sort=False)\n",
    "tab.to_frame()"
   ]
  },
  {
   "cell_type": "markdown",
   "id": "8cfa2d91",
   "metadata": {},
   "source": [
    "Já no cluster3, referente ao público-alvo 2, os motivos de viagem são: visitar a família e lazer."
   ]
  },
  {
   "cell_type": "markdown",
   "id": "79b2dada",
   "metadata": {},
   "source": [
    "Nesse cenário, visualizando diferentes opções de público-alvo, encontramos os seguintes:\n",
    "- Público-alvo 1: Quem viaja muitas vezes ao longo do ano, não fica muito tempo no hotel em cada viagem, possui um menor poder aquisitivo e os pricipais motivos de viagem são: trabalho, visitar amigos e visitar a família\n",
    "- Público-alvo 2: Quem que viaja poucas vezes no ano, tem uma estadia média alta, possui maior poder aquisitivo e o motivo de viagem, grande parte das vezes, está relacionado com passatempo e lazer\n",
    "\n",
    "<p>Abaixo, iremos analisar os tipos de hotel referentes a cada público-alvo para concluir qual tipo de hotel e qual é o público-alvo mais se adequa as necessidades de nosso cliente, Leonardo. </p>"
   ]
  },
  {
   "cell_type": "markdown",
   "id": "6eb7193b",
   "metadata": {},
   "source": [
    "# Analisando o tipo de hotel adequado para cada público-alvo"
   ]
  },
  {
   "cell_type": "code",
   "execution_count": 52,
   "id": "2473a816",
   "metadata": {},
   "outputs": [
    {
     "data": {
      "text/html": [
       "<div>\n",
       "<style scoped>\n",
       "    .dataframe tbody tr th:only-of-type {\n",
       "        vertical-align: middle;\n",
       "    }\n",
       "\n",
       "    .dataframe tbody tr th {\n",
       "        vertical-align: top;\n",
       "    }\n",
       "\n",
       "    .dataframe thead th {\n",
       "        text-align: right;\n",
       "    }\n",
       "</style>\n",
       "<table border=\"1\" class=\"dataframe\">\n",
       "  <thead>\n",
       "    <tr style=\"text-align: right;\">\n",
       "      <th></th>\n",
       "      <th>P1</th>\n",
       "      <th>P2</th>\n",
       "      <th>P3</th>\n",
       "      <th>P4</th>\n",
       "      <th>P5</th>\n",
       "      <th>P6</th>\n",
       "      <th>P7</th>\n",
       "      <th>P8</th>\n",
       "      <th>P9</th>\n",
       "      <th>P10</th>\n",
       "      <th>...</th>\n",
       "      <th>Qcama</th>\n",
       "      <th>Qest</th>\n",
       "      <th>Qche</th>\n",
       "      <th>Qocup</th>\n",
       "      <th>Qid</th>\n",
       "      <th>Qgen</th>\n",
       "      <th>Qreg</th>\n",
       "      <th>Qclasse</th>\n",
       "      <th>Qs</th>\n",
       "      <th>cluster</th>\n",
       "    </tr>\n",
       "  </thead>\n",
       "  <tbody>\n",
       "    <tr>\n",
       "      <th>1</th>\n",
       "      <td>3.0</td>\n",
       "      <td>2</td>\n",
       "      <td>2.0</td>\n",
       "      <td>6.0</td>\n",
       "      <td>4</td>\n",
       "      <td>2</td>\n",
       "      <td>5</td>\n",
       "      <td>1.0</td>\n",
       "      <td>3</td>\n",
       "      <td>2.0</td>\n",
       "      <td>...</td>\n",
       "      <td>1.0</td>\n",
       "      <td>1.0</td>\n",
       "      <td>Quinta-Feira</td>\n",
       "      <td>2.0</td>\n",
       "      <td>6.0</td>\n",
       "      <td>1.0</td>\n",
       "      <td>5.0</td>\n",
       "      <td>2.0</td>\n",
       "      <td>NaN</td>\n",
       "      <td>4</td>\n",
       "    </tr>\n",
       "    <tr>\n",
       "      <th>12</th>\n",
       "      <td>4.0</td>\n",
       "      <td>5</td>\n",
       "      <td>3.0</td>\n",
       "      <td>6.0</td>\n",
       "      <td>2</td>\n",
       "      <td>1</td>\n",
       "      <td>1</td>\n",
       "      <td>5.0</td>\n",
       "      <td>1</td>\n",
       "      <td>2.0</td>\n",
       "      <td>...</td>\n",
       "      <td>3.0</td>\n",
       "      <td>2.0</td>\n",
       "      <td>Quinta-Feira</td>\n",
       "      <td>5.0</td>\n",
       "      <td>5.0</td>\n",
       "      <td>2.0</td>\n",
       "      <td>1.0</td>\n",
       "      <td>2.0</td>\n",
       "      <td>Pesquisa Hotel</td>\n",
       "      <td>1</td>\n",
       "    </tr>\n",
       "    <tr>\n",
       "      <th>17</th>\n",
       "      <td>4.0</td>\n",
       "      <td>5</td>\n",
       "      <td>4.0</td>\n",
       "      <td>7.0</td>\n",
       "      <td>3</td>\n",
       "      <td>2</td>\n",
       "      <td>2</td>\n",
       "      <td>6.0</td>\n",
       "      <td>2</td>\n",
       "      <td>2.0</td>\n",
       "      <td>...</td>\n",
       "      <td>3.0</td>\n",
       "      <td>1.0</td>\n",
       "      <td>Quarta-Feira</td>\n",
       "      <td>3.0</td>\n",
       "      <td>5.0</td>\n",
       "      <td>2.0</td>\n",
       "      <td>3.0</td>\n",
       "      <td>2.0</td>\n",
       "      <td>Análise de Dados</td>\n",
       "      <td>1</td>\n",
       "    </tr>\n",
       "    <tr>\n",
       "      <th>26</th>\n",
       "      <td>4.0</td>\n",
       "      <td>5</td>\n",
       "      <td>7.0</td>\n",
       "      <td>3.0</td>\n",
       "      <td>6</td>\n",
       "      <td>1</td>\n",
       "      <td>1</td>\n",
       "      <td>7.0</td>\n",
       "      <td>1</td>\n",
       "      <td>2.0</td>\n",
       "      <td>...</td>\n",
       "      <td>3.0</td>\n",
       "      <td>1.0</td>\n",
       "      <td>Quarta-Feira</td>\n",
       "      <td>3.0</td>\n",
       "      <td>6.0</td>\n",
       "      <td>2.0</td>\n",
       "      <td>3.0</td>\n",
       "      <td>2.0</td>\n",
       "      <td>Pesquisa Hotel</td>\n",
       "      <td>1</td>\n",
       "    </tr>\n",
       "    <tr>\n",
       "      <th>34</th>\n",
       "      <td>4.0</td>\n",
       "      <td>5</td>\n",
       "      <td>2.0</td>\n",
       "      <td>5.0</td>\n",
       "      <td>6</td>\n",
       "      <td>2</td>\n",
       "      <td>2</td>\n",
       "      <td>6.0</td>\n",
       "      <td>2</td>\n",
       "      <td>2.0</td>\n",
       "      <td>...</td>\n",
       "      <td>4.0</td>\n",
       "      <td>1.0</td>\n",
       "      <td>Quinta-Feira</td>\n",
       "      <td>1.0</td>\n",
       "      <td>2.0</td>\n",
       "      <td>2.0</td>\n",
       "      <td>3.0</td>\n",
       "      <td>2.0</td>\n",
       "      <td>Pesquisa Hotel</td>\n",
       "      <td>1</td>\n",
       "    </tr>\n",
       "    <tr>\n",
       "      <th>...</th>\n",
       "      <td>...</td>\n",
       "      <td>...</td>\n",
       "      <td>...</td>\n",
       "      <td>...</td>\n",
       "      <td>...</td>\n",
       "      <td>...</td>\n",
       "      <td>...</td>\n",
       "      <td>...</td>\n",
       "      <td>...</td>\n",
       "      <td>...</td>\n",
       "      <td>...</td>\n",
       "      <td>...</td>\n",
       "      <td>...</td>\n",
       "      <td>...</td>\n",
       "      <td>...</td>\n",
       "      <td>...</td>\n",
       "      <td>...</td>\n",
       "      <td>...</td>\n",
       "      <td>...</td>\n",
       "      <td>...</td>\n",
       "      <td>...</td>\n",
       "    </tr>\n",
       "    <tr>\n",
       "      <th>1230</th>\n",
       "      <td>4.0</td>\n",
       "      <td>5</td>\n",
       "      <td>1.0</td>\n",
       "      <td>4.0</td>\n",
       "      <td>1</td>\n",
       "      <td>2</td>\n",
       "      <td>1</td>\n",
       "      <td>3.0</td>\n",
       "      <td>1</td>\n",
       "      <td>1.0</td>\n",
       "      <td>...</td>\n",
       "      <td>1.0</td>\n",
       "      <td>1.0</td>\n",
       "      <td>Quarta-Feira</td>\n",
       "      <td>4.0</td>\n",
       "      <td>2.0</td>\n",
       "      <td>1.0</td>\n",
       "      <td>2.0</td>\n",
       "      <td>2.0</td>\n",
       "      <td>Análise de Dados</td>\n",
       "      <td>1</td>\n",
       "    </tr>\n",
       "    <tr>\n",
       "      <th>1234</th>\n",
       "      <td>4.0</td>\n",
       "      <td>2</td>\n",
       "      <td>4.0</td>\n",
       "      <td>3.0</td>\n",
       "      <td>2</td>\n",
       "      <td>1</td>\n",
       "      <td>2</td>\n",
       "      <td>1.0</td>\n",
       "      <td>1</td>\n",
       "      <td>1.0</td>\n",
       "      <td>...</td>\n",
       "      <td>4.0</td>\n",
       "      <td>1.0</td>\n",
       "      <td>Quarta-Feira</td>\n",
       "      <td>1.0</td>\n",
       "      <td>5.0</td>\n",
       "      <td>1.0</td>\n",
       "      <td>5.0</td>\n",
       "      <td>2.0</td>\n",
       "      <td>Análise de Dados</td>\n",
       "      <td>4</td>\n",
       "    </tr>\n",
       "    <tr>\n",
       "      <th>1253</th>\n",
       "      <td>4.0</td>\n",
       "      <td>5</td>\n",
       "      <td>5.0</td>\n",
       "      <td>4.0</td>\n",
       "      <td>3</td>\n",
       "      <td>1</td>\n",
       "      <td>1</td>\n",
       "      <td>7.0</td>\n",
       "      <td>1</td>\n",
       "      <td>2.0</td>\n",
       "      <td>...</td>\n",
       "      <td>1.0</td>\n",
       "      <td>1.0</td>\n",
       "      <td>Quarta-Feira</td>\n",
       "      <td>6.0</td>\n",
       "      <td>2.0</td>\n",
       "      <td>2.0</td>\n",
       "      <td>4.0</td>\n",
       "      <td>2.0</td>\n",
       "      <td>Pesquisa</td>\n",
       "      <td>1</td>\n",
       "    </tr>\n",
       "    <tr>\n",
       "      <th>1255</th>\n",
       "      <td>4.0</td>\n",
       "      <td>2</td>\n",
       "      <td>2.0</td>\n",
       "      <td>6.0</td>\n",
       "      <td>1</td>\n",
       "      <td>2</td>\n",
       "      <td>2</td>\n",
       "      <td>5.0</td>\n",
       "      <td>2</td>\n",
       "      <td>2.0</td>\n",
       "      <td>...</td>\n",
       "      <td>4.0</td>\n",
       "      <td>2.0</td>\n",
       "      <td>Quarta-Feira</td>\n",
       "      <td>1.0</td>\n",
       "      <td>1.0</td>\n",
       "      <td>1.0</td>\n",
       "      <td>3.0</td>\n",
       "      <td>2.0</td>\n",
       "      <td>Pesquisa</td>\n",
       "      <td>4</td>\n",
       "    </tr>\n",
       "    <tr>\n",
       "      <th>1262</th>\n",
       "      <td>3.0</td>\n",
       "      <td>5</td>\n",
       "      <td>3.0</td>\n",
       "      <td>6.0</td>\n",
       "      <td>7</td>\n",
       "      <td>6</td>\n",
       "      <td>4</td>\n",
       "      <td>4.0</td>\n",
       "      <td>7</td>\n",
       "      <td>2.0</td>\n",
       "      <td>...</td>\n",
       "      <td>NaN</td>\n",
       "      <td>2.0</td>\n",
       "      <td>Terça-Feira</td>\n",
       "      <td>4.0</td>\n",
       "      <td>3.0</td>\n",
       "      <td>1.0</td>\n",
       "      <td>3.0</td>\n",
       "      <td>1.0</td>\n",
       "      <td>NaN</td>\n",
       "      <td>1</td>\n",
       "    </tr>\n",
       "  </tbody>\n",
       "</table>\n",
       "<p>206 rows × 72 columns</p>\n",
       "</div>"
      ],
      "text/plain": [
       "       P1 P2   P3   P4 P5 P6 P7   P8 P9  P10  ...  Qcama Qest          Qche  \\\n",
       "1     3.0  2  2.0  6.0  4  2  5  1.0  3  2.0  ...    1.0  1.0  Quinta-Feira   \n",
       "12    4.0  5  3.0  6.0  2  1  1  5.0  1  2.0  ...    3.0  2.0  Quinta-Feira   \n",
       "17    4.0  5  4.0  7.0  3  2  2  6.0  2  2.0  ...    3.0  1.0  Quarta-Feira   \n",
       "26    4.0  5  7.0  3.0  6  1  1  7.0  1  2.0  ...    3.0  1.0  Quarta-Feira   \n",
       "34    4.0  5  2.0  5.0  6  2  2  6.0  2  2.0  ...    4.0  1.0  Quinta-Feira   \n",
       "...   ... ..  ...  ... .. .. ..  ... ..  ...  ...    ...  ...           ...   \n",
       "1230  4.0  5  1.0  4.0  1  2  1  3.0  1  1.0  ...    1.0  1.0  Quarta-Feira   \n",
       "1234  4.0  2  4.0  3.0  2  1  2  1.0  1  1.0  ...    4.0  1.0  Quarta-Feira   \n",
       "1253  4.0  5  5.0  4.0  3  1  1  7.0  1  2.0  ...    1.0  1.0  Quarta-Feira   \n",
       "1255  4.0  2  2.0  6.0  1  2  2  5.0  2  2.0  ...    4.0  2.0  Quarta-Feira   \n",
       "1262  3.0  5  3.0  6.0  7  6  4  4.0  7  2.0  ...    NaN  2.0   Terça-Feira   \n",
       "\n",
       "      Qocup  Qid  Qgen  Qreg Qclasse                Qs cluster  \n",
       "1       2.0  6.0   1.0   5.0     2.0               NaN       4  \n",
       "12      5.0  5.0   2.0   1.0     2.0    Pesquisa Hotel       1  \n",
       "17      3.0  5.0   2.0   3.0     2.0  Análise de Dados       1  \n",
       "26      3.0  6.0   2.0   3.0     2.0    Pesquisa Hotel       1  \n",
       "34      1.0  2.0   2.0   3.0     2.0    Pesquisa Hotel       1  \n",
       "...     ...  ...   ...   ...     ...               ...     ...  \n",
       "1230    4.0  2.0   1.0   2.0     2.0  Análise de Dados       1  \n",
       "1234    1.0  5.0   1.0   5.0     2.0  Análise de Dados       4  \n",
       "1253    6.0  2.0   2.0   4.0     2.0          Pesquisa       1  \n",
       "1255    1.0  1.0   1.0   3.0     2.0          Pesquisa       4  \n",
       "1262    4.0  3.0   1.0   3.0     1.0               NaN       1  \n",
       "\n",
       "[206 rows x 72 columns]"
      ]
     },
     "execution_count": 52,
     "metadata": {},
     "output_type": "execute_result"
    }
   ],
   "source": [
    "# Criando um dataframe novo apenas com as pessoas referentes a público-alvo 1\n",
    "df_pa1 = df.copy()\n",
    "\n",
    "clus1 = df_pa1['cluster'] == 1\n",
    "clus4 = df_pa1['cluster'] == 4\n",
    "\n",
    "df_pa1 = df_pa1.loc[clus1 | clus4, :]\n",
    "df_pa1"
   ]
  },
  {
   "cell_type": "code",
   "execution_count": 53,
   "id": "313faf94",
   "metadata": {},
   "outputs": [
    {
     "data": {
      "text/html": [
       "<div>\n",
       "<style scoped>\n",
       "    .dataframe tbody tr th:only-of-type {\n",
       "        vertical-align: middle;\n",
       "    }\n",
       "\n",
       "    .dataframe tbody tr th {\n",
       "        vertical-align: top;\n",
       "    }\n",
       "\n",
       "    .dataframe thead th {\n",
       "        text-align: right;\n",
       "    }\n",
       "</style>\n",
       "<table border=\"1\" class=\"dataframe\">\n",
       "  <thead>\n",
       "    <tr style=\"text-align: right;\">\n",
       "      <th></th>\n",
       "      <th>P1</th>\n",
       "      <th>P2</th>\n",
       "      <th>P3</th>\n",
       "      <th>P4</th>\n",
       "      <th>P5</th>\n",
       "      <th>P6</th>\n",
       "      <th>P7</th>\n",
       "      <th>P8</th>\n",
       "      <th>P9</th>\n",
       "      <th>P10</th>\n",
       "      <th>...</th>\n",
       "      <th>Qcama</th>\n",
       "      <th>Qest</th>\n",
       "      <th>Qche</th>\n",
       "      <th>Qocup</th>\n",
       "      <th>Qid</th>\n",
       "      <th>Qgen</th>\n",
       "      <th>Qreg</th>\n",
       "      <th>Qclasse</th>\n",
       "      <th>Qs</th>\n",
       "      <th>cluster</th>\n",
       "    </tr>\n",
       "  </thead>\n",
       "  <tbody>\n",
       "    <tr>\n",
       "      <th>3</th>\n",
       "      <td>1.0</td>\n",
       "      <td>3</td>\n",
       "      <td>4.0</td>\n",
       "      <td>4.0</td>\n",
       "      <td>6</td>\n",
       "      <td>6</td>\n",
       "      <td>1</td>\n",
       "      <td>7.0</td>\n",
       "      <td>6</td>\n",
       "      <td>6.0</td>\n",
       "      <td>...</td>\n",
       "      <td>1.0</td>\n",
       "      <td>6.0</td>\n",
       "      <td>Terça-Feira</td>\n",
       "      <td>3.0</td>\n",
       "      <td>1.0</td>\n",
       "      <td>2.0</td>\n",
       "      <td>2.0</td>\n",
       "      <td>2.0</td>\n",
       "      <td>Marketing</td>\n",
       "      <td>3</td>\n",
       "    </tr>\n",
       "    <tr>\n",
       "      <th>5</th>\n",
       "      <td>1.0</td>\n",
       "      <td>2</td>\n",
       "      <td>2.0</td>\n",
       "      <td>4.0</td>\n",
       "      <td>5</td>\n",
       "      <td>7</td>\n",
       "      <td>2</td>\n",
       "      <td>3.0</td>\n",
       "      <td>7</td>\n",
       "      <td>6.0</td>\n",
       "      <td>...</td>\n",
       "      <td>3.0</td>\n",
       "      <td>6.0</td>\n",
       "      <td>Terça-Feira</td>\n",
       "      <td>5.0</td>\n",
       "      <td>4.0</td>\n",
       "      <td>2.0</td>\n",
       "      <td>5.0</td>\n",
       "      <td>1.0</td>\n",
       "      <td>Pesquisa Hotel</td>\n",
       "      <td>3</td>\n",
       "    </tr>\n",
       "    <tr>\n",
       "      <th>7</th>\n",
       "      <td>1.0</td>\n",
       "      <td>3</td>\n",
       "      <td>2.0</td>\n",
       "      <td>1.0</td>\n",
       "      <td>1</td>\n",
       "      <td>7</td>\n",
       "      <td>2</td>\n",
       "      <td>2.0</td>\n",
       "      <td>6</td>\n",
       "      <td>5.0</td>\n",
       "      <td>...</td>\n",
       "      <td>2.0</td>\n",
       "      <td>6.0</td>\n",
       "      <td>Terça-Feira</td>\n",
       "      <td>1.0</td>\n",
       "      <td>2.0</td>\n",
       "      <td>2.0</td>\n",
       "      <td>2.0</td>\n",
       "      <td>2.0</td>\n",
       "      <td>Marketing</td>\n",
       "      <td>3</td>\n",
       "    </tr>\n",
       "    <tr>\n",
       "      <th>8</th>\n",
       "      <td>2.0</td>\n",
       "      <td>2</td>\n",
       "      <td>4.0</td>\n",
       "      <td>1.0</td>\n",
       "      <td>1</td>\n",
       "      <td>6</td>\n",
       "      <td>1</td>\n",
       "      <td>4.0</td>\n",
       "      <td>7</td>\n",
       "      <td>5.0</td>\n",
       "      <td>...</td>\n",
       "      <td>2.0</td>\n",
       "      <td>6.0</td>\n",
       "      <td>Terça-Feira</td>\n",
       "      <td>3.0</td>\n",
       "      <td>3.0</td>\n",
       "      <td>1.0</td>\n",
       "      <td>5.0</td>\n",
       "      <td>1.0</td>\n",
       "      <td>Dados para Hotel</td>\n",
       "      <td>3</td>\n",
       "    </tr>\n",
       "    <tr>\n",
       "      <th>16</th>\n",
       "      <td>1.0</td>\n",
       "      <td>2</td>\n",
       "      <td>2.0</td>\n",
       "      <td>3.0</td>\n",
       "      <td>1</td>\n",
       "      <td>6</td>\n",
       "      <td>1</td>\n",
       "      <td>5.0</td>\n",
       "      <td>7</td>\n",
       "      <td>6.0</td>\n",
       "      <td>...</td>\n",
       "      <td>0.0</td>\n",
       "      <td>6.0</td>\n",
       "      <td>Terça-Feira</td>\n",
       "      <td>6.0</td>\n",
       "      <td>5.0</td>\n",
       "      <td>2.0</td>\n",
       "      <td>5.0</td>\n",
       "      <td>1.0</td>\n",
       "      <td>Pesquisa</td>\n",
       "      <td>3</td>\n",
       "    </tr>\n",
       "    <tr>\n",
       "      <th>...</th>\n",
       "      <td>...</td>\n",
       "      <td>...</td>\n",
       "      <td>...</td>\n",
       "      <td>...</td>\n",
       "      <td>...</td>\n",
       "      <td>...</td>\n",
       "      <td>...</td>\n",
       "      <td>...</td>\n",
       "      <td>...</td>\n",
       "      <td>...</td>\n",
       "      <td>...</td>\n",
       "      <td>...</td>\n",
       "      <td>...</td>\n",
       "      <td>...</td>\n",
       "      <td>...</td>\n",
       "      <td>...</td>\n",
       "      <td>...</td>\n",
       "      <td>...</td>\n",
       "      <td>...</td>\n",
       "      <td>...</td>\n",
       "      <td>...</td>\n",
       "    </tr>\n",
       "    <tr>\n",
       "      <th>1249</th>\n",
       "      <td>1.0</td>\n",
       "      <td>2</td>\n",
       "      <td>3.0</td>\n",
       "      <td>7.0</td>\n",
       "      <td>7</td>\n",
       "      <td>6</td>\n",
       "      <td>1</td>\n",
       "      <td>4.0</td>\n",
       "      <td>6</td>\n",
       "      <td>7.0</td>\n",
       "      <td>...</td>\n",
       "      <td>4.0</td>\n",
       "      <td>6.0</td>\n",
       "      <td>Terça-Feira</td>\n",
       "      <td>2.0</td>\n",
       "      <td>5.0</td>\n",
       "      <td>2.0</td>\n",
       "      <td>2.0</td>\n",
       "      <td>1.0</td>\n",
       "      <td>Dados para Hotel</td>\n",
       "      <td>3</td>\n",
       "    </tr>\n",
       "    <tr>\n",
       "      <th>1251</th>\n",
       "      <td>1.0</td>\n",
       "      <td>3</td>\n",
       "      <td>3.0</td>\n",
       "      <td>2.0</td>\n",
       "      <td>4</td>\n",
       "      <td>7</td>\n",
       "      <td>1</td>\n",
       "      <td>4.0</td>\n",
       "      <td>6</td>\n",
       "      <td>5.0</td>\n",
       "      <td>...</td>\n",
       "      <td>0.0</td>\n",
       "      <td>6.0</td>\n",
       "      <td>Terça-Feira</td>\n",
       "      <td>4.0</td>\n",
       "      <td>2.0</td>\n",
       "      <td>1.0</td>\n",
       "      <td>4.0</td>\n",
       "      <td>2.0</td>\n",
       "      <td>Dados para Hotel</td>\n",
       "      <td>3</td>\n",
       "    </tr>\n",
       "    <tr>\n",
       "      <th>1256</th>\n",
       "      <td>2.0</td>\n",
       "      <td>2</td>\n",
       "      <td>1.0</td>\n",
       "      <td>2.0</td>\n",
       "      <td>1</td>\n",
       "      <td>7</td>\n",
       "      <td>1</td>\n",
       "      <td>4.0</td>\n",
       "      <td>7</td>\n",
       "      <td>6.0</td>\n",
       "      <td>...</td>\n",
       "      <td>1.0</td>\n",
       "      <td>6.0</td>\n",
       "      <td>Segunda-Feira</td>\n",
       "      <td>2.0</td>\n",
       "      <td>1.0</td>\n",
       "      <td>1.0</td>\n",
       "      <td>1.0</td>\n",
       "      <td>1.0</td>\n",
       "      <td>Pesquisa Hotel</td>\n",
       "      <td>3</td>\n",
       "    </tr>\n",
       "    <tr>\n",
       "      <th>1259</th>\n",
       "      <td>2.0</td>\n",
       "      <td>3</td>\n",
       "      <td>3.0</td>\n",
       "      <td>1.0</td>\n",
       "      <td>6</td>\n",
       "      <td>7</td>\n",
       "      <td>1</td>\n",
       "      <td>6.0</td>\n",
       "      <td>6</td>\n",
       "      <td>6.0</td>\n",
       "      <td>...</td>\n",
       "      <td>3.0</td>\n",
       "      <td>6.0</td>\n",
       "      <td>Terça-Feira</td>\n",
       "      <td>5.0</td>\n",
       "      <td>2.0</td>\n",
       "      <td>2.0</td>\n",
       "      <td>4.0</td>\n",
       "      <td>2.0</td>\n",
       "      <td>Dados para Hotel</td>\n",
       "      <td>3</td>\n",
       "    </tr>\n",
       "    <tr>\n",
       "      <th>1263</th>\n",
       "      <td>2.0</td>\n",
       "      <td>3</td>\n",
       "      <td>7.0</td>\n",
       "      <td>6.0</td>\n",
       "      <td>6</td>\n",
       "      <td>6</td>\n",
       "      <td>2</td>\n",
       "      <td>4.0</td>\n",
       "      <td>7</td>\n",
       "      <td>5.0</td>\n",
       "      <td>...</td>\n",
       "      <td>2.0</td>\n",
       "      <td>6.0</td>\n",
       "      <td>Domingo</td>\n",
       "      <td>5.0</td>\n",
       "      <td>5.0</td>\n",
       "      <td>2.0</td>\n",
       "      <td>1.0</td>\n",
       "      <td>1.0</td>\n",
       "      <td>Pesquisa Hotel</td>\n",
       "      <td>3</td>\n",
       "    </tr>\n",
       "  </tbody>\n",
       "</table>\n",
       "<p>239 rows × 72 columns</p>\n",
       "</div>"
      ],
      "text/plain": [
       "       P1 P2   P3   P4 P5 P6 P7   P8 P9  P10  ...  Qcama Qest           Qche  \\\n",
       "3     1.0  3  4.0  4.0  6  6  1  7.0  6  6.0  ...    1.0  6.0    Terça-Feira   \n",
       "5     1.0  2  2.0  4.0  5  7  2  3.0  7  6.0  ...    3.0  6.0    Terça-Feira   \n",
       "7     1.0  3  2.0  1.0  1  7  2  2.0  6  5.0  ...    2.0  6.0    Terça-Feira   \n",
       "8     2.0  2  4.0  1.0  1  6  1  4.0  7  5.0  ...    2.0  6.0    Terça-Feira   \n",
       "16    1.0  2  2.0  3.0  1  6  1  5.0  7  6.0  ...    0.0  6.0    Terça-Feira   \n",
       "...   ... ..  ...  ... .. .. ..  ... ..  ...  ...    ...  ...            ...   \n",
       "1249  1.0  2  3.0  7.0  7  6  1  4.0  6  7.0  ...    4.0  6.0    Terça-Feira   \n",
       "1251  1.0  3  3.0  2.0  4  7  1  4.0  6  5.0  ...    0.0  6.0    Terça-Feira   \n",
       "1256  2.0  2  1.0  2.0  1  7  1  4.0  7  6.0  ...    1.0  6.0  Segunda-Feira   \n",
       "1259  2.0  3  3.0  1.0  6  7  1  6.0  6  6.0  ...    3.0  6.0    Terça-Feira   \n",
       "1263  2.0  3  7.0  6.0  6  6  2  4.0  7  5.0  ...    2.0  6.0        Domingo   \n",
       "\n",
       "      Qocup  Qid  Qgen  Qreg Qclasse                Qs cluster  \n",
       "3       3.0  1.0   2.0   2.0     2.0         Marketing       3  \n",
       "5       5.0  4.0   2.0   5.0     1.0    Pesquisa Hotel       3  \n",
       "7       1.0  2.0   2.0   2.0     2.0         Marketing       3  \n",
       "8       3.0  3.0   1.0   5.0     1.0  Dados para Hotel       3  \n",
       "16      6.0  5.0   2.0   5.0     1.0          Pesquisa       3  \n",
       "...     ...  ...   ...   ...     ...               ...     ...  \n",
       "1249    2.0  5.0   2.0   2.0     1.0  Dados para Hotel       3  \n",
       "1251    4.0  2.0   1.0   4.0     2.0  Dados para Hotel       3  \n",
       "1256    2.0  1.0   1.0   1.0     1.0    Pesquisa Hotel       3  \n",
       "1259    5.0  2.0   2.0   4.0     2.0  Dados para Hotel       3  \n",
       "1263    5.0  5.0   2.0   1.0     1.0    Pesquisa Hotel       3  \n",
       "\n",
       "[239 rows x 72 columns]"
      ]
     },
     "execution_count": 53,
     "metadata": {},
     "output_type": "execute_result"
    }
   ],
   "source": [
    "# Criando um dataframe novo apenas com as pessoas referentes a público-alvo 2\n",
    "\n",
    "df_pa2 = df.copy()\n",
    "\n",
    "clus3 = df_pa2['cluster'] == 3\n",
    "\n",
    "df_pa2 = df_pa2.loc[clus3, :]\n",
    "df_pa2"
   ]
  },
  {
   "cell_type": "markdown",
   "id": "7f7635ac",
   "metadata": {},
   "source": [
    "**Agora vamos analisar a importância dos diferentes setores do hotel para cada público-alvo**"
   ]
  },
  {
   "cell_type": "code",
   "execution_count": 55,
   "id": "14fbe9fa",
   "metadata": {},
   "outputs": [
    {
     "name": "stdout",
     "output_type": "stream",
     "text": [
      "Público-alvo 1:\n",
      "Importância de ter uma boa infraestrutura: 3.91\n",
      "Importância de ter entreterimento: 4.09\n",
      "Importância de ter serviços de qualidade: 3.94\n"
     ]
    }
   ],
   "source": [
    "# Para o público-alvo 1 (em uma escala de 1 a 7) - foi utilizado a média para saber a importância do setor para determinado público-alvo\n",
    "\n",
    "print('Público-alvo 1:')\n",
    "print('Importância de ter uma boa infraestrutura: {:.3}'.format(df_pa1['P3'].mean()))\n",
    "print('Importância de ter entreterimento: {:.3}'.format(df_pa1['P5'].mean()))\n",
    "print('Importância de ter serviços de qualidade: {:.3}'.format(df_pa1['P31'].mean()))\n",
    "\n"
   ]
  },
  {
   "cell_type": "code",
   "execution_count": 56,
   "id": "6d2334eb",
   "metadata": {},
   "outputs": [
    {
     "name": "stdout",
     "output_type": "stream",
     "text": [
      "Público-alvo 2:\n",
      "Importância de ter uma boa infraestrutura: 3.86\n",
      "Importância de ter entreterimento: 3.94\n",
      "Importância de ter serviços de qualidade: 4.22\n"
     ]
    }
   ],
   "source": [
    "# Para o público-alvo 2\n",
    "\n",
    "print('Público-alvo 2:')\n",
    "print('Importância de ter uma boa infraestrutura: {:.3}'.format(df_pa2['P3'].mean()))\n",
    "print('Importância de ter entreterimento: {:.3}'.format(df_pa2['P5'].mean()))\n",
    "print('Importância de ter serviços de qualidade: {:.3}'.format(df_pa2['P31'].mean()))"
   ]
  },
  {
   "cell_type": "markdown",
   "id": "598a232b",
   "metadata": {},
   "source": [
    "Ao analisarmos os resultados e as médias das perguntas mais genéricas que abrangem os setores de Infraestrutura, Entretenimento e Serviços, constatamos que não houve uma diferença significativa entre as preferências dos dois públicos-alvo. Embora o Cluster3, composto principalmente por viajantes de lazer de alta renda, e os Clusters1 e 4, que viajam a trabalho e têm menor poder aquisitivo, apresentassem diferenças em suas características, quando as perguntas foram formuladas de maneira mais ampla, ambos os públicos tenderam a dar respostas semelhantes. Diante desse cenário, decidimos realizar uma nova pesquisa, desta vez com perguntas mais específicas de cada setor."
   ]
  },
  {
   "cell_type": "markdown",
   "id": "ac9752e4",
   "metadata": {},
   "source": [
    "**A seguir analisaremos mais detalhadamente as especificidades de cada setor em que o público-alvo julga ser relevante**"
   ]
  },
  {
   "cell_type": "code",
   "execution_count": 57,
   "id": "25a44e5b",
   "metadata": {},
   "outputs": [
    {
     "name": "stdout",
     "output_type": "stream",
     "text": [
      "Infraestrutura \n",
      "\n",
      "Importância de ter restaurante: \n",
      "Público-alvo 1: 4.1\n",
      "Público-alvo 2: 3.91\n",
      "\n",
      "Importância de ter jacuzzi: \n",
      "Público-alvo 1: 4.09\n",
      "Público-alvo 2: 3.94\n",
      "\n",
      "Importância de ter bar: \n",
      "Público-alvo 1: 1.88\n",
      "Público-alvo 2: 6.48\n",
      "\n",
      "Importância de ter lareira: \n",
      "Público-alvo 1: 1.96\n",
      "Público-alvo 2: 1.45\n",
      "\n",
      "Importância de ter decoração: \n",
      "Público-alvo 1: 3.88\n",
      "Público-alvo 2: 4.23\n",
      "\n",
      "Importância de ter piscina: \n",
      "Público-alvo 1: 1.9\n",
      "Público-alvo 2: 6.48\n",
      "\n",
      "Importância de ter sala de jogos: \n",
      "Público-alvo 1: 1.95\n",
      "Público-alvo 2: 5.97\n",
      "\n",
      "Importância de ter spa: \n",
      "Público-alvo 1: 1.95\n",
      "Público-alvo 2: 3.37\n",
      "\n",
      "Importância de ter passeios: \n",
      "Público-alvo 1: 2.01\n",
      "Público-alvo 2: 4.56\n",
      "\n",
      "Importância de ter academia: \n",
      "Público-alvo 1: 2.68\n",
      "Público-alvo 2: 6.44\n",
      "\n",
      "Importância de ter cassinos: \n",
      "Público-alvo 1: 4.26\n",
      "Público-alvo 2: 3.97\n",
      "\n",
      "Importância de ter quadra de tênis: \n",
      "Público-alvo 1: 1.95\n",
      "Público-alvo 2: 4.0\n",
      "\n",
      "Importância de ter lavanderia: \n",
      "Público-alvo 1: 4.04\n",
      "Público-alvo 2: 4.14\n",
      "\n",
      "Importância de ter conforto: \n",
      "Público-alvo 1: 2.84\n",
      "Público-alvo 2: 4.96\n",
      "\n",
      "Importância de ter lojas no hotel: \n",
      "Público-alvo 1: 4.06\n",
      "Público-alvo 2: 1.48\n",
      "\n",
      "Importância de ter qualidade no quarto: \n",
      "Público-alvo 1: 2.78\n",
      "Público-alvo 2: 5.51\n",
      "\n",
      "Importância de ter banheira: \n",
      "Público-alvo 1: 4.08\n",
      "Público-alvo 2: 4.0\n",
      "\n",
      "Importância de ter zoológico: \n",
      "Público-alvo 1: 4.02\n",
      "Público-alvo 2: 3.93\n",
      "\n",
      "Importância de ter ar-condicionado: \n",
      "Público-alvo 1: 4.2\n",
      "Público-alvo 2: 3.86\n",
      "\n",
      "Importância de ter área verde: \n",
      "Público-alvo 1: 1.92\n",
      "Público-alvo 2: 5.0\n",
      "\n",
      "Importância de ter aquecedor: \n",
      "Público-alvo 1: 3.81\n",
      "Público-alvo 2: 3.75\n",
      "\n"
     ]
    }
   ],
   "source": [
    "# Infraestrutura\n",
    "\n",
    "especificidades_infra = ['Restaurante', 'Jacuzzi', 'Bar', 'Lareira', 'Decoração', 'Piscina', 'Sala de Jogos',  'Spa', 'Passeios', 'Academia', 'Cassinos', 'Quadra de tênis', 'Lavanderia', 'Conforto', 'Lojas no hotel', 'Qualidade no quarto', 'Banheira', 'Zoológico', 'Ar-condicionado', 'Área verde', 'Aquecedor']\n",
    "\n",
    "infra_pa1 = []\n",
    "infra_pa2 = []\n",
    "print('Infraestrutura \\n')\n",
    "for i in range(3, 24):\n",
    "    esp = especificidades_infra[i-3].lower()\n",
    "    print('Importância de ter {}: '.format(esp))\n",
    "    print('Público-alvo 1: {:.3}'.format(df_pa1[nomes[i]].mean()))\n",
    "    infra_pa1.append(df_pa1[nomes[i]].mean())\n",
    "    \n",
    "    print('Público-alvo 2: {:.3}\\n'.format(df_pa2[nomes[i]].mean()))\n",
    "    infra_pa2.append(df_pa2[nomes[i]].mean())"
   ]
  },
  {
   "cell_type": "code",
   "execution_count": 58,
   "id": "4397e136",
   "metadata": {},
   "outputs": [
    {
     "name": "stdout",
     "output_type": "stream",
     "text": [
      "Média das especificidades de infraestrutura:\n",
      "\n",
      "Público-alvo 1: 3.07\n",
      "Público-alvo 2: 4.35\n"
     ]
    }
   ],
   "source": [
    "print('Média das especificidades de infraestrutura:\\n')\n",
    "print('Público-alvo 1: {:.3}'.format(sum(infra_pa1)/len(infra_pa1)))\n",
    "print('Público-alvo 2: {:.3}'.format(sum(infra_pa2)/len(infra_pa2)))"
   ]
  },
  {
   "cell_type": "markdown",
   "id": "216a1a47",
   "metadata": {},
   "source": [
    "Após realizarmos a pesquisa com perguntas mais específicas de infraestrutura, observamos diferenças maiores entre as preferências dos dois públicos-alvo. O Público-alvo 1(cluster1 e 4) valorizou menos opções como bar, piscina, quadra de tênis e academia, enquanto o Público-alvo 2(cluster3) demonstrou uma preferência maior. Exemplificando em números, é possível perceber que a piscina, teve uma taxa de importância de 1.9 para o público-alvo 1, e 6.48 para o 2, evidenciando os fatos supracitados.  Em suma a pesquisa permitiu entender melhor as preferências de cada público-alvo e identificar as diferenças mais relevantes entre eles, reforçando a importância de questionários que considerem suas características únicas."
   ]
  },
  {
   "cell_type": "code",
   "execution_count": 59,
   "id": "bdb2c660",
   "metadata": {},
   "outputs": [
    {
     "name": "stdout",
     "output_type": "stream",
     "text": [
      "Entreterimento\n",
      "\n",
      "Importância de ter música ao-vivo: \n",
      "Público-alvo 1: 1.99\n",
      "Público-alvo 2: 4.97\n",
      "\n",
      "Importância de ter monitores para crianças: \n",
      "Público-alvo 1: 4.27\n",
      "Público-alvo 2: 3.87\n",
      "\n",
      "Importância de ter ecoturismo: \n",
      "Público-alvo 1: 4.14\n",
      "Público-alvo 2: 4.08\n",
      "\n",
      "Importância de ter presença de tv smart no quarto: \n",
      "Público-alvo 1: 3.98\n",
      "Público-alvo 2: 4.15\n",
      "\n",
      "Importância de ter passeios com guias: \n",
      "Público-alvo 1: 4.2\n",
      "Público-alvo 2: 4.07\n",
      "\n"
     ]
    }
   ],
   "source": [
    "# Entreterimento\n",
    "\n",
    "entr_pa1 = []\n",
    "entr_pa2 = []\n",
    "especificidades_entreterimento = ['Música Ao-Vivo', 'Monitores para Crianças', 'Ecoturismo', 'Presença de TV Smart no quarto', 'Passeios com guias']\n",
    "\n",
    "print('Entreterimento\\n')\n",
    "for i in range(25, 30):\n",
    "    esp = especificidades_entreterimento[i-25].lower()\n",
    "    print('Importância de ter {}: '.format(esp))\n",
    "    print('Público-alvo 1: {:.3}'.format(df_pa1[nomes[i]].mean()))\n",
    "    entr_pa1.append(df_pa1[nomes[i]].mean())\n",
    "\n",
    "    print('Público-alvo 2: {:.3}\\n'.format(df_pa2[nomes[i]].mean()))\n",
    "    entr_pa2.append(df_pa2[nomes[i]].mean())"
   ]
  },
  {
   "cell_type": "code",
   "execution_count": 61,
   "id": "ead57eb3",
   "metadata": {},
   "outputs": [
    {
     "name": "stdout",
     "output_type": "stream",
     "text": [
      "Média das especificidades de entreterimento:\n",
      "\n",
      "Público-alvo 1: 3.71\n",
      "Público-alvo 2: 4.23\n"
     ]
    }
   ],
   "source": [
    "print('Média das especificidades de entreterimento:\\n')\n",
    "print('Público-alvo 1: {:.3}'.format(sum(entr_pa1)/len(entr_pa1)))\n",
    "print('Público-alvo 2: {:.3}'.format(sum(entr_pa2)/len(entr_pa2)))"
   ]
  },
  {
   "cell_type": "markdown",
   "id": "583f2c08",
   "metadata": {},
   "source": [
    "Após a filtragem de respostas a perguntas mais específicas no setor de entretenimento, logo foi possível perceber que a discrepância não foi tão grande na maior parte dos casos. Porém vale ressaltar que a música ao-vivo teve grande diferença na importância, e é um fator a ser considerado, já que músicas ao vivo demandam uma organização contratual e preços extra."
   ]
  },
  {
   "cell_type": "code",
   "execution_count": 62,
   "id": "65dd17bc",
   "metadata": {},
   "outputs": [
    {
     "name": "stdout",
     "output_type": "stream",
     "text": [
      "Serviço\n",
      "\n",
      "Importância de ter vaso sanitário com limpeza elétrica: \n",
      "Público-alvo 1: 4.11\n",
      "Público-alvo 2: 3.88\n",
      "\n",
      "Importância de ter vestimenta dos atendentes: \n",
      "Público-alvo 1: 3.64\n",
      "Público-alvo 2: 4.06\n",
      "\n",
      "Importância de ter certificação de qualidade: \n",
      "Público-alvo 1: 1.94\n",
      "Público-alvo 2: 4.46\n",
      "\n",
      "Importância de ter serviço de quarto: \n",
      "Público-alvo 1: 1.95\n",
      "Público-alvo 2: 3.49\n",
      "\n",
      "Importância de ter local apto para fumantes: \n",
      "Público-alvo 1: 3.92\n",
      "Público-alvo 2: 3.81\n",
      "\n",
      "Importância de ter limpeza diária: \n",
      "Público-alvo 1: 1.9\n",
      "Público-alvo 2: 5.54\n",
      "\n",
      "Importância de ter diversidade do frigobar: \n",
      "Público-alvo 1: 4.15\n",
      "Público-alvo 2: 4.21\n",
      "\n",
      "Importância de ter wi-fi grátis: \n",
      "Público-alvo 1: 3.92\n",
      "Público-alvo 2: 4.0\n",
      "\n",
      "Importância de ter exclusividade: \n",
      "Público-alvo 1: 2.72\n",
      "Público-alvo 2: 1.51\n",
      "\n",
      "Importância de ter amabilidade dos atendentes: \n",
      "Público-alvo 1: 4.18\n",
      "Público-alvo 2: 4.1\n",
      "\n",
      "Importância de ter espaço gourmet: \n",
      "Público-alvo 1: 3.94\n",
      "Público-alvo 2: 4.11\n",
      "\n",
      "Importância de ter cores fortes no quarto: \n",
      "Público-alvo 1: 3.87\n",
      "Público-alvo 2: 3.7\n",
      "\n",
      "Importância de ter check-in/check-out agilizado: \n",
      "Público-alvo 1: 3.91\n",
      "Público-alvo 2: 3.82\n",
      "\n",
      "Importância de ter telefone grátis no quarto: \n",
      "Público-alvo 1: 3.64\n",
      "Público-alvo 2: 3.89\n",
      "\n",
      "Importância de ter qualidade dos vinhos do cardápio: \n",
      "Público-alvo 1: 3.93\n",
      "Público-alvo 2: 3.87\n",
      "\n",
      "Importância de ter pais de origem do fundador do hotel: \n",
      "Público-alvo 1: 4.16\n",
      "Público-alvo 2: 4.08\n",
      "\n",
      "Importância de ter som ambiente no quarto: \n",
      "Público-alvo 1: 4.11\n",
      "Público-alvo 2: 3.8\n",
      "\n",
      "Importância de ter cardápio vegetariano: \n",
      "Público-alvo 1: 3.91\n",
      "Público-alvo 2: 4.09\n",
      "\n",
      "Importância de ter acustica do quarto: \n",
      "Público-alvo 1: 4.15\n",
      "Público-alvo 2: 3.69\n",
      "\n",
      "Importância de ter sanidade financeira da rede hoteleira: \n",
      "Público-alvo 1: 3.9\n",
      "Público-alvo 2: 4.05\n",
      "\n",
      "Importância de ter concierge: \n",
      "Público-alvo 1: 3.95\n",
      "Público-alvo 2: 4.18\n",
      "\n",
      "Importância de ter snacks disponíveis no quarto: \n",
      "Público-alvo 1: 3.94\n",
      "Público-alvo 2: 4.1\n",
      "\n",
      "Importância de ter segurança: \n",
      "Público-alvo 1: 4.21\n",
      "Público-alvo 2: 3.9\n",
      "\n",
      "Importância de ter avaliações anteriores: \n",
      "Público-alvo 1: 4.23\n",
      "Público-alvo 2: 4.17\n",
      "\n",
      "Importância de ter reserva online: \n",
      "Público-alvo 1: 3.87\n",
      "Público-alvo 2: 3.82\n",
      "\n"
     ]
    }
   ],
   "source": [
    "# Serviço\n",
    "\n",
    "servico_pa1 = []\n",
    "servico_pa2 = []\n",
    "especificidades_servico = ['Vaso sanitário com limpeza elétrica', 'Vestimenta dos atendentes', 'Certificação de qualidade', 'Serviço de quarto', 'Local apto para fumantes', 'Limpeza diária', 'Diversidade do frigobar', 'WI-FI grátis', 'Exclusividade', 'Amabilidade dos atendentes', 'Espaço Gourmet', 'Cores fortes no Quarto', 'Check-in/Check-out agilizado', 'Telefone Grátis no quarto', 'Qualidade dos Vinhos do Cardápio', 'Pais de Origem do Fundador do Hotel', 'Som ambiente no Quarto', 'Cardápio Vegetariano', 'Acustica do Quarto', 'Sanidade financeira da rede Hoteleira', 'Concierge', 'Snacks disponíveis no quarto', 'Segurança', 'Avaliações anteriores', 'Reserva online']\n",
    "\n",
    "print('Serviço\\n')\n",
    "for i in range(31, 56):\n",
    "    esp = especificidades_servico[i-31].lower()\n",
    "    print('Importância de ter {}: '.format(esp))\n",
    "    print('Público-alvo 1: {:.3}'.format(df_pa1[nomes[i]].mean()))\n",
    "    servico_pa1.append(df_pa1[nomes[i]].mean())\n",
    "\n",
    "    print('Público-alvo 2: {:.3}\\n'.format(df_pa2[nomes[i]].mean()))\n",
    "    servico_pa2.append(df_pa2[nomes[i]].mean())"
   ]
  },
  {
   "cell_type": "code",
   "execution_count": 64,
   "id": "eefd2048",
   "metadata": {},
   "outputs": [
    {
     "name": "stdout",
     "output_type": "stream",
     "text": [
      "Média das especificidades de serviço:\n",
      "\n",
      "Público-alvo 1: 3.69\n",
      "Público-alvo 2: 3.93\n"
     ]
    }
   ],
   "source": [
    "print('Média das especificidades de serviço:\\n')\n",
    "print('Público-alvo 1: {:.3}'.format(sum(servico_pa1)/len(servico_pa1)))\n",
    "print('Público-alvo 2: {:.3}'.format(sum(servico_pa2)/len(servico_pa2)))"
   ]
  },
  {
   "cell_type": "markdown",
   "id": "3f6f9a35",
   "metadata": {},
   "source": [
    "Ambos os públicos compartilham a mesma opinião sobre a importância de vários aspectos, incluindo comodidades no quarto, qualidade do serviço, opções de alimentação, ambiente e segurança. No entanto, suas percepções diferem em relação a outros aspectos, como certificação de qualidade, serviço de quarto, local para fumantes, limpeza diária, exclusividade, decoração e processo de reserva. Mas em geral, o público alvo 2 da mais importância para coisas relacionadas a  serviço, exigindo mais do hotel."
   ]
  },
  {
   "cell_type": "markdown",
   "id": "21362566",
   "metadata": {},
   "source": [
    "**A seguir analisaremos a importância do preço do pacote e das ofertas promocionais para cada público alvo**"
   ]
  },
  {
   "cell_type": "code",
   "execution_count": 65,
   "id": "35107897",
   "metadata": {},
   "outputs": [
    {
     "name": "stdout",
     "output_type": "stream",
     "text": [
      "Público-alvo 1: \n",
      "\n",
      "O quão importante é o preço do pacote: 4.76\n",
      "O quão importante são ofertas promocionais: 4.27\n"
     ]
    }
   ],
   "source": [
    "# Público-alvo 1\n",
    "\n",
    "print('Público-alvo 1: \\n')\n",
    "print('O quão importante é o preço do pacote: {:.3}'.format(df_pa1['P57'].mean()))\n",
    "print('O quão importante são ofertas promocionais: {:.3}'.format(df_pa1['P58'].mean()))"
   ]
  },
  {
   "cell_type": "code",
   "execution_count": 66,
   "id": "978d20b1",
   "metadata": {},
   "outputs": [
    {
     "name": "stdout",
     "output_type": "stream",
     "text": [
      "Público-alvo 2: \n",
      "\n",
      "O quão importante é o preço do pacote: 6.49\n",
      "O quão importante são ofertas promocionais: 3.76\n"
     ]
    }
   ],
   "source": [
    "# Público-alvo 2\n",
    "\n",
    "print('Público-alvo 2: \\n')\n",
    "print('O quão importante é o preço do pacote: {:.3}'.format(df_pa2['P57'].mean()))\n",
    "print('O quão importante são ofertas promocionais: {:.3}'.format(df_pa2['P58'].mean()))"
   ]
  },
  {
   "cell_type": "markdown",
   "id": "849bcc60",
   "metadata": {},
   "source": [
    "É possivel perceber que para o público-alvo 2 o preço do pacote é mais relevante, enquanto para o público-alvo 1 as ofertas promocionais tem maior relevância"
   ]
  },
  {
   "cell_type": "markdown",
   "id": "7c277479",
   "metadata": {},
   "source": [
    "# Escolha do púbico-alvo"
   ]
  },
  {
   "cell_type": "markdown",
   "id": "d19d0e6d",
   "metadata": {},
   "source": [
    "Após analisar detalhadamente as especificidades de cada setor, concluimos que o público-alvo ideal para o nosso cliente seria o público-alvo 1. Os motivos que nos levaram a esta escolha foram os seguintes:\n",
    "\n",
    "- Baixa frequência de viagem\n",
    "- Motivo de viagem \n",
    "- Altas exigencias relacionadas a infraestrura e serviços \n",
    "\n",
    "O primeiro motivo é a baixa frequência de viagem do público-alvo 2 em comparação com a alta frequência de viagem do público-alvo 1. Em segundo lugar, notamos que os motivos de viagem do público-alvo 2, em sua grande maioria, estavam relacionado a passatempo e lazer, enquanto os príncipais motivos de viagem do público-alvo 1 eram trabalho, visitar amigos e visitar família. Nesse cenário, concluimos que o público-alvo 2, em sua grande maioria, viajaria apenas em feriados e férias, já que as viagens eram poucas e tinham maior duração. Já em relação ao público-alvo 1, concluimos que um hotel com esse tipo de cliente receberia hóspedes ao longo de todo período trabalhista (viagens a trabalho) além de feriados e férias (viagens para visitar amigos e família). Por último, percebemos que o público-alvo 2 tem mais exigências relacionadas a infraestrura e serviços que o públic-alvo 1. As exigências acarretariam em mais custos para a construção e para o funcionamento do hotel, além de complicaçoes burocráticas."
   ]
  },
  {
   "cell_type": "markdown",
   "id": "80860bd6",
   "metadata": {},
   "source": [
    "**Entendendo mais sobre o público alvo escolhido**"
   ]
  },
  {
   "cell_type": "code",
   "execution_count": null,
   "id": "2849df6a",
   "metadata": {},
   "outputs": [],
   "source": [
    "# Criando um dataframe novo para a análise\n",
    "df_analise = df_pa1.copy()\n",
    "df_analise"
   ]
  },
  {
   "cell_type": "markdown",
   "id": "9c4b37c6",
   "metadata": {},
   "source": [
    "Preparando os dados para a análise da persona"
   ]
  },
  {
   "cell_type": "code",
   "execution_count": null,
   "id": "debbbc60",
   "metadata": {},
   "outputs": [],
   "source": [
    "# Faixa etaria\n",
    "df_analise['Qid'] = df_analise['Qid'].astype('category')\n",
    "df_analise['Qid'].cat.categories = ['18-', '18 a 24', '25 a 34', '35 a 44', '45 a 54', '55+']\n",
    "\n",
    "# Regiao\n",
    "df_analise['Qreg'] = df_analise['Qreg'].astype('category')\n",
    "df_analise['Qreg'].cat.categories = ['Sudeste', 'Sul', 'Centro Oeste', 'Nordeste', 'Norte']\n",
    "\n",
    "# Gênero\n",
    "df_analise['Qgen'] = df_analise['Qgen'].astype('category')\n",
    "df_analise['Qgen'].cat.categories = ['Masculino', 'Feminino']"
   ]
  },
  {
   "cell_type": "code",
   "execution_count": null,
   "id": "1b660dd8",
   "metadata": {},
   "outputs": [],
   "source": [
    "# Faixa etária\n",
    "\n",
    "analise_faixa_etaria = df_analise['Qid'].value_counts(sort=False)\n",
    "analise_faixa_etaria.to_frame()"
   ]
  },
  {
   "cell_type": "markdown",
   "id": "80d354c0",
   "metadata": {},
   "source": [
    "Nosso público alvo é composto majoritariamente por pessoas de 45 a 54 anos"
   ]
  },
  {
   "cell_type": "code",
   "execution_count": null,
   "id": "2d060586",
   "metadata": {},
   "outputs": [],
   "source": [
    "# Genero\n",
    "\n",
    "analise_genero = df_analise['Qgen'].value_counts(sort=False)\n",
    "analise_genero.to_frame()"
   ]
  },
  {
   "cell_type": "markdown",
   "id": "6037790c",
   "metadata": {},
   "source": [
    "O número de homens e mulheres é exatamente igual"
   ]
  },
  {
   "cell_type": "code",
   "execution_count": null,
   "id": "91021c6c",
   "metadata": {},
   "outputs": [],
   "source": [
    "# Estado civil\n",
    "\n",
    "analise_estado_civil = df_analise['Qciv'].value_counts(sort=False)\n",
    "analise_estado_civil.to_frame()"
   ]
  },
  {
   "cell_type": "markdown",
   "id": "a938fcde",
   "metadata": {},
   "source": [
    "É possível observar que há uma maior quantidade de viúvos, divorciados e casados e que há uma menor quantidade de solteiros"
   ]
  },
  {
   "cell_type": "code",
   "execution_count": null,
   "id": "e66230c0",
   "metadata": {},
   "outputs": [],
   "source": [
    "# Região\n",
    "\n",
    "analise_regiao = df_analise['Qreg'].value_counts(sort=False)\n",
    "analise_regiao.to_frame()"
   ]
  },
  {
   "cell_type": "markdown",
   "id": "d204e39e",
   "metadata": {},
   "source": [
    "É possivel observar que a maioria das pessoas do público-alvo são do sul e que a minoria é do nordeste"
   ]
  },
  {
   "cell_type": "markdown",
   "id": "33a8b6a0",
   "metadata": {},
   "source": [
    "# Escolha do tipo de hotel"
   ]
  },
  {
   "cell_type": "markdown",
   "id": "99aad918",
   "metadata": {},
   "source": [
    "Após analisar detalhadamente as especificidades de cada setor e tendo em vista o público-alvo, foi possível identificar o tipo de hotel mais adequado para o nosso cliente. Sendo assim, conseguimos descobrir o que tem maior importância para o público alvo em cada setor. \n",
    "\n",
    "Infraestrutura:\n",
    "- Restaurante\n",
    "- Cassino\n",
    "- Banheira\n",
    "- Ar-condicionado\n",
    "\n",
    "Entreterimento:\n",
    "- Monitores para crianças\n",
    "- Ecoturismo \n",
    "- Passeios com guias\n",
    "\n",
    "Serviço:\n",
    "- Vazo sanitário com limpeza elétrica \n",
    "- Diversidade do frigobar \n",
    "- Atendentes gentis \n",
    "- Som ambiente no quarto \n",
    "- Acústica do quarto \n",
    "- Segurança \n",
    "- Avaliações anteriores \n",
    "\n",
    "Assim, é possível assumir que o hotel necessita ter apenas um \"básico bem feito\". Em relação a infraestrutura é necessário ter um quarto aconchegante com banheira e ar condicionado. Em relação a lazer, ter um cassino mais do que satisfaz os clientes, não há necessidade de um salão de jogos, spa, piscina etc. Por último, também é interessante ter um restaurante para servir comida no horário das refeições, no entranto não é essencial ter um bar. Já em relação ao entreterimento fornecido pelo hotel, ps clientes julgam necessário ter monitores para crianças, ecoturismo e passeio com guias. Por fim, em relação aos serviços, os clientes gostam de quartos sem muito ruído, em que seja possível descansar tranquilamente. Além disso, gostam de um hotel bem avaliado, com uma boa segurança e com atendentes gentis. Além disso, julgam ser importante ter diversidade no frigobar e um vazo sanitário com limpeza elétrica. Por último, é favorável que o hotel possua pacotes com bons preços e ofertas promocionais "
   ]
  }
 ],
 "metadata": {
  "kernelspec": {
   "display_name": "Python 3 (ipykernel)",
   "language": "python",
   "name": "python3"
  },
  "language_info": {
   "codemirror_mode": {
    "name": "ipython",
    "version": 3
   },
   "file_extension": ".py",
   "mimetype": "text/x-python",
   "name": "python",
   "nbconvert_exporter": "python",
   "pygments_lexer": "ipython3",
   "version": "3.9.7"
  }
 },
 "nbformat": 4,
 "nbformat_minor": 5
}
